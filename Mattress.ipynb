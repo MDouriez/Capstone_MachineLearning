{
 "cells": [
  {
   "cell_type": "code",
   "execution_count": 1,
   "metadata": {
    "collapsed": true
   },
   "outputs": [],
   "source": [
    "import numpy as np\n",
    "import matplotlib.pyplot as plt\n",
    "#%matplotlib inline\n",
    "import processFile\n",
    "import math\n",
    "import pandas as pd"
   ]
  },
  {
   "cell_type": "code",
   "execution_count": 2,
   "metadata": {
    "collapsed": true
   },
   "outputs": [],
   "source": [
    "# enter sensor type (pressure, accelerometer, humidity, magnetometer, temperature)\n",
    "value_type = \"accelerometer\"\n",
    "\n",
    "# enter file name\n",
    "file = 'C:\\Users\\Ludovic\\Documents\\Capstone\\mesures\\Bedroom\\\\mattress_test.csv'\n",
    "\n",
    "# indicate if file type is new (with sensor id) or old (first version of the csv files): True or False\n",
    "new = True"
   ]
  },
  {
   "cell_type": "code",
   "execution_count": 3,
   "metadata": {
    "collapsed": false
   },
   "outputs": [
    {
     "name": "stdout",
     "output_type": "stream",
     "text": [
      "Opening file...\n"
     ]
    }
   ],
   "source": [
    "unit = {}\n",
    "unit['temperature'] = 'C'\n",
    "unit['accelerometer'] = 'G'\n",
    "unit['humidity'] = 'rH'\n",
    "unit['magnetometer'] = 'uT'\n",
    "unit['pressure'] = 'mbar'\n",
    "\n",
    "time, data = processFile.openFile(file, value_type, new, False)"
   ]
  },
  {
   "cell_type": "code",
   "execution_count": 36,
   "metadata": {
    "collapsed": false
   },
   "outputs": [],
   "source": [
    "fig, ax = plt.subplots(1)\n",
    "\n",
    "if value_type in {\"magnetometer\"}:\n",
    "    dataX = data[:,0]\n",
    "    dataY = data[:,1]\n",
    "    dataZ = data[:,2]\n",
    "    dataN = np.sqrt(dataX*dataX+dataY*dataY+dataZ*dataZ)\n",
    "    \n",
    "    plt.plot(time, dataN, color='r', label = 'Norm of magnetic field')  #absolute value of the Y axis of magnetometer\n",
    "    \n",
    "elif value_type == \"accelerometer\":\n",
    "    accelerometerX = data[:,0]\n",
    "    accelerometerY = data[:,1]\n",
    "    accelerometerZ = data[:,2]\n",
    "    # plt.plot(time, accelerometerX, color='r', label = value_type+'X')\n",
    "    # plt.plot(time, accelerometerY, color='b', label = value_type+'Y')\n",
    "    # plt.plot(time, accelerometerZ, color='g', label = value_type+'Z')\n",
    "    dataN = np.sqrt(accelerometerX*accelerometerX+accelerometerY*accelerometerY+accelerometerZ*accelerometerZ)\n",
    "    plt.plot(time, dataN , color='r', label = value_type+'Norm')\n",
    "\n",
    "elif value_type == \"gyroscope\":\n",
    "    gX = data[:,0]\n",
    "    gY = data[:,1]\n",
    "    gZ = data[:,2]\n",
    "    # plt.plot(time, accelerometerX, color='r', label = value_type+'X')\n",
    "    # plt.plot(time, accelerometerY, color='b', label = value_type+'Y')\n",
    "    # plt.plot(time, accelerometerZ, color='g', label = value_type+'Z')\n",
    "\n",
    "    dataN = np.sqrt(gX*gX+gY*gY+gZ*gZ) \n",
    "    plt.plot(time, dataN, color='r', label = value_type+'Norm')\n",
    "\n",
    "elif value_type == \"temperature\":\n",
    "    ambient_temp = data[:,0]\n",
    "    object_temp = data[:,1]\n",
    "\n",
    "    plt.plot(time, ambient_temp, color='r', label = 'ambient_temp')\n",
    "    plt.plot(time, object_temp, color='b', label = 'object_temp')\n",
    "\n",
    "else:\n",
    "    plt.plot(time, data, color='r', label = value_type)\n",
    "\n",
    "\n",
    "plt.xlabel('Time (minutes)')\n",
    "plt.ylabel(value_type.capitalize() + ' (' + unit[value_type] + ')')\n",
    "plt.legend(loc='best')\n",
    "plt.title('Simulations of pillbox usage')\n",
    "plt.show()"
   ]
  },
  {
   "cell_type": "code",
   "execution_count": 5,
   "metadata": {
    "collapsed": false
   },
   "outputs": [],
   "source": [
    "x = time\n",
    "y = dataN"
   ]
  },
  {
   "cell_type": "code",
   "execution_count": 6,
   "metadata": {
    "collapsed": true
   },
   "outputs": [],
   "source": [
    "# define the short and long time windows \n",
    "window_short = 10\n",
    "window_long_factor = 5 # how many times longer is going to be the long window"
   ]
  },
  {
   "cell_type": "code",
   "execution_count": 7,
   "metadata": {
    "collapsed": false
   },
   "outputs": [],
   "source": [
    "# use STA/LTA Triggering\n",
    "# The STA/LTA ratio method compares the average energy in a short term average (STA)\n",
    "# leading window to that in a long term average (LTA) trailing window."
   ]
  },
  {
   "cell_type": "code",
   "execution_count": 8,
   "metadata": {
    "collapsed": false
   },
   "outputs": [],
   "source": [
    "temp = list(zip(x,y))  #temporary list to prepare for the data frame (using pandas)\n",
    "df = pd.DataFrame(data = temp, columns = ['Time', 'Data']) #data frame (using pandas)"
   ]
  },
  {
   "cell_type": "code",
   "execution_count": 9,
   "metadata": {
    "collapsed": true
   },
   "outputs": [],
   "source": [
    "temp = [{'time': 0, 'value': 0, 'event': 0, 'STA': 0, 'LTA': 0,'STA_LTA': 0}]\n",
    "\n",
    "# will contain 3 columns; time = time of the time window, \n",
    "# value = mean value in the time window, event = dummy variable (1 if event, 0 otherwise)\n",
    "results = pd.DataFrame(temp)  "
   ]
  },
  {
   "cell_type": "code",
   "execution_count": 10,
   "metadata": {
    "collapsed": false
   },
   "outputs": [
    {
     "name": "stdout",
     "output_type": "stream",
     "text": [
      "(800584, 2)\n"
     ]
    }
   ],
   "source": [
    "foo = df.copy()\n",
    "print foo.shape"
   ]
  },
  {
   "cell_type": "code",
   "execution_count": 11,
   "metadata": {
    "collapsed": false
   },
   "outputs": [
    {
     "name": "stdout",
     "output_type": "stream",
     "text": [
      "(800584, 2)\n",
      "(661499, 2)\n",
      "       Time      Data\n",
      "0  0.000000  1.131689\n",
      "1  0.017083  1.131417\n"
     ]
    }
   ],
   "source": [
    "print foo.shape\n",
    "df = foo[foo['Data'] != 0]\n",
    "print df.shape\n",
    "print df.head(2)"
   ]
  },
  {
   "cell_type": "code",
   "execution_count": 12,
   "metadata": {
    "collapsed": false
   },
   "outputs": [],
   "source": [
    "plt.plot(df.Time, df.Data , color='r', label = value_type+'Norm')\n",
    "plt.xlabel('Time (minutes)')\n",
    "plt.ylabel(value_type.capitalize() + ' (' + unit[value_type] + ')')\n",
    "plt.legend(loc='best')\n",
    "plt.title('Simulations of pillbox usage')\n",
    "plt.show()"
   ]
  },
  {
   "cell_type": "code",
   "execution_count": 13,
   "metadata": {
    "collapsed": false
   },
   "outputs": [
    {
     "data": {
      "text/html": [
       "<div>\n",
       "<table border=\"1\" class=\"dataframe\">\n",
       "  <thead>\n",
       "    <tr style=\"text-align: right;\">\n",
       "      <th></th>\n",
       "      <th>LTA</th>\n",
       "      <th>STA</th>\n",
       "      <th>STA_LTA</th>\n",
       "      <th>event</th>\n",
       "      <th>time</th>\n",
       "      <th>value</th>\n",
       "    </tr>\n",
       "  </thead>\n",
       "  <tbody>\n",
       "    <tr>\n",
       "      <th>0</th>\n",
       "      <td>0</td>\n",
       "      <td>0</td>\n",
       "      <td>0</td>\n",
       "      <td>0</td>\n",
       "      <td>0</td>\n",
       "      <td>0</td>\n",
       "    </tr>\n",
       "  </tbody>\n",
       "</table>\n",
       "</div>"
      ],
      "text/plain": [
       "   LTA  STA  STA_LTA  event  time  value\n",
       "0    0    0        0      0     0      0"
      ]
     },
     "execution_count": 13,
     "metadata": {},
     "output_type": "execute_result"
    }
   ],
   "source": [
    "results"
   ]
  },
  {
   "cell_type": "code",
   "execution_count": 14,
   "metadata": {
    "collapsed": false
   },
   "outputs": [
    {
     "name": "stderr",
     "output_type": "stream",
     "text": [
      "C:\\Anaconda2\\lib\\site-packages\\pandas\\core\\generic.py:2387: SettingWithCopyWarning: \n",
      "A value is trying to be set on a copy of a slice from a DataFrame.\n",
      "Try using .loc[row_indexer,col_indexer] = value instead\n",
      "\n",
      "See the caveats in the documentation: http://pandas.pydata.org/pandas-docs/stable/indexing.html#indexing-view-versus-copy\n",
      "  self[name] = value\n"
     ]
    }
   ],
   "source": [
    "# substract mean value of signal\n",
    "mu = np.mean(df.Data)\n",
    "df.Data = df.Data - [mu]*len(df.Data)\n",
    "df.Data = np.abs(df.Data)"
   ]
  },
  {
   "cell_type": "code",
   "execution_count": 15,
   "metadata": {
    "collapsed": false
   },
   "outputs": [],
   "source": [
    "plt.plot(df.Time, df.Data , color='r', label = value_type+'Norm')\n",
    "plt.xlabel('Time (minutes)')\n",
    "plt.ylabel(value_type.capitalize() + ' (' + unit[value_type] + ')')\n",
    "plt.legend(loc='best')\n",
    "plt.title('Abs value of deviation')\n",
    "plt.show()"
   ]
  },
  {
   "cell_type": "code",
   "execution_count": 16,
   "metadata": {
    "collapsed": false
   },
   "outputs": [],
   "source": [
    "timer = 0 # used in the for loop\n",
    "for i in range(1,int(math.floor(max(time))/window_short)):\n",
    "    # the loop goes through the entire file\n",
    "    # temp contains the data for only one time window\n",
    "    temp = df[(df['Time'] > timer) & (df['Time'] < timer + window_short)]\n",
    "    if len(temp) >0:\n",
    "        results.loc[i] = [0,0,0,0,np.mean(temp.Time), np.max(temp.Data)]\n",
    "    timer = timer + window_short"
   ]
  },
  {
   "cell_type": "code",
   "execution_count": 17,
   "metadata": {
    "collapsed": false
   },
   "outputs": [
    {
     "data": {
      "text/html": [
       "<div>\n",
       "<table border=\"1\" class=\"dataframe\">\n",
       "  <thead>\n",
       "    <tr style=\"text-align: right;\">\n",
       "      <th></th>\n",
       "      <th>LTA</th>\n",
       "      <th>STA</th>\n",
       "      <th>STA_LTA</th>\n",
       "      <th>event</th>\n",
       "      <th>time</th>\n",
       "      <th>value</th>\n",
       "    </tr>\n",
       "  </thead>\n",
       "  <tbody>\n",
       "    <tr>\n",
       "      <th>0</th>\n",
       "      <td>0</td>\n",
       "      <td>0</td>\n",
       "      <td>0</td>\n",
       "      <td>0</td>\n",
       "      <td>0.000000</td>\n",
       "      <td>0.000000</td>\n",
       "    </tr>\n",
       "    <tr>\n",
       "      <th>1</th>\n",
       "      <td>0</td>\n",
       "      <td>0</td>\n",
       "      <td>0</td>\n",
       "      <td>0</td>\n",
       "      <td>5.008122</td>\n",
       "      <td>0.058635</td>\n",
       "    </tr>\n",
       "    <tr>\n",
       "      <th>2</th>\n",
       "      <td>0</td>\n",
       "      <td>0</td>\n",
       "      <td>0</td>\n",
       "      <td>0</td>\n",
       "      <td>15.007440</td>\n",
       "      <td>0.071102</td>\n",
       "    </tr>\n",
       "    <tr>\n",
       "      <th>3</th>\n",
       "      <td>0</td>\n",
       "      <td>0</td>\n",
       "      <td>0</td>\n",
       "      <td>0</td>\n",
       "      <td>25.006716</td>\n",
       "      <td>0.501803</td>\n",
       "    </tr>\n",
       "    <tr>\n",
       "      <th>4</th>\n",
       "      <td>0</td>\n",
       "      <td>0</td>\n",
       "      <td>0</td>\n",
       "      <td>0</td>\n",
       "      <td>35.006002</td>\n",
       "      <td>0.060979</td>\n",
       "    </tr>\n",
       "    <tr>\n",
       "      <th>5</th>\n",
       "      <td>0</td>\n",
       "      <td>0</td>\n",
       "      <td>0</td>\n",
       "      <td>0</td>\n",
       "      <td>45.005297</td>\n",
       "      <td>0.060530</td>\n",
       "    </tr>\n",
       "    <tr>\n",
       "      <th>6</th>\n",
       "      <td>0</td>\n",
       "      <td>0</td>\n",
       "      <td>0</td>\n",
       "      <td>0</td>\n",
       "      <td>55.004607</td>\n",
       "      <td>0.058241</td>\n",
       "    </tr>\n",
       "    <tr>\n",
       "      <th>7</th>\n",
       "      <td>0</td>\n",
       "      <td>0</td>\n",
       "      <td>0</td>\n",
       "      <td>0</td>\n",
       "      <td>65.003902</td>\n",
       "      <td>0.058201</td>\n",
       "    </tr>\n",
       "    <tr>\n",
       "      <th>8</th>\n",
       "      <td>0</td>\n",
       "      <td>0</td>\n",
       "      <td>0</td>\n",
       "      <td>0</td>\n",
       "      <td>75.003200</td>\n",
       "      <td>0.060994</td>\n",
       "    </tr>\n",
       "    <tr>\n",
       "      <th>9</th>\n",
       "      <td>0</td>\n",
       "      <td>0</td>\n",
       "      <td>0</td>\n",
       "      <td>0</td>\n",
       "      <td>85.002507</td>\n",
       "      <td>0.176761</td>\n",
       "    </tr>\n",
       "  </tbody>\n",
       "</table>\n",
       "</div>"
      ],
      "text/plain": [
       "   LTA  STA  STA_LTA  event       time     value\n",
       "0    0    0        0      0   0.000000  0.000000\n",
       "1    0    0        0      0   5.008122  0.058635\n",
       "2    0    0        0      0  15.007440  0.071102\n",
       "3    0    0        0      0  25.006716  0.501803\n",
       "4    0    0        0      0  35.006002  0.060979\n",
       "5    0    0        0      0  45.005297  0.060530\n",
       "6    0    0        0      0  55.004607  0.058241\n",
       "7    0    0        0      0  65.003902  0.058201\n",
       "8    0    0        0      0  75.003200  0.060994\n",
       "9    0    0        0      0  85.002507  0.176761"
      ]
     },
     "execution_count": 17,
     "metadata": {},
     "output_type": "execute_result"
    }
   ],
   "source": [
    "results.head(10)"
   ]
  },
  {
   "cell_type": "code",
   "execution_count": 18,
   "metadata": {
    "collapsed": true
   },
   "outputs": [],
   "source": [
    "percent = 1.2"
   ]
  },
  {
   "cell_type": "code",
   "execution_count": 19,
   "metadata": {
    "collapsed": false
   },
   "outputs": [
    {
     "data": {
      "text/plain": [
       "0.0"
      ]
     },
     "execution_count": 19,
     "metadata": {},
     "output_type": "execute_result"
    }
   ],
   "source": [
    "results.iloc[2,:][1]"
   ]
  },
  {
   "cell_type": "code",
   "execution_count": 20,
   "metadata": {
    "collapsed": false
   },
   "outputs": [
    {
     "data": {
      "text/html": [
       "<div>\n",
       "<table border=\"1\" class=\"dataframe\">\n",
       "  <thead>\n",
       "    <tr style=\"text-align: right;\">\n",
       "      <th></th>\n",
       "      <th>LTA</th>\n",
       "      <th>STA</th>\n",
       "      <th>STA_LTA</th>\n",
       "      <th>event</th>\n",
       "      <th>time</th>\n",
       "      <th>value</th>\n",
       "    </tr>\n",
       "  </thead>\n",
       "  <tbody>\n",
       "    <tr>\n",
       "      <th>0</th>\n",
       "      <td>0</td>\n",
       "      <td>0</td>\n",
       "      <td>0</td>\n",
       "      <td>0</td>\n",
       "      <td>0.000000</td>\n",
       "      <td>0.000000</td>\n",
       "    </tr>\n",
       "    <tr>\n",
       "      <th>1</th>\n",
       "      <td>0</td>\n",
       "      <td>0</td>\n",
       "      <td>0</td>\n",
       "      <td>0</td>\n",
       "      <td>5.008122</td>\n",
       "      <td>0.058635</td>\n",
       "    </tr>\n",
       "    <tr>\n",
       "      <th>2</th>\n",
       "      <td>0</td>\n",
       "      <td>0</td>\n",
       "      <td>0</td>\n",
       "      <td>0</td>\n",
       "      <td>15.007440</td>\n",
       "      <td>0.071102</td>\n",
       "    </tr>\n",
       "    <tr>\n",
       "      <th>3</th>\n",
       "      <td>0</td>\n",
       "      <td>0</td>\n",
       "      <td>0</td>\n",
       "      <td>0</td>\n",
       "      <td>25.006716</td>\n",
       "      <td>0.501803</td>\n",
       "    </tr>\n",
       "    <tr>\n",
       "      <th>4</th>\n",
       "      <td>0</td>\n",
       "      <td>0</td>\n",
       "      <td>0</td>\n",
       "      <td>0</td>\n",
       "      <td>35.006002</td>\n",
       "      <td>0.060979</td>\n",
       "    </tr>\n",
       "    <tr>\n",
       "      <th>5</th>\n",
       "      <td>0</td>\n",
       "      <td>0</td>\n",
       "      <td>0</td>\n",
       "      <td>0</td>\n",
       "      <td>45.005297</td>\n",
       "      <td>0.060530</td>\n",
       "    </tr>\n",
       "    <tr>\n",
       "      <th>6</th>\n",
       "      <td>0</td>\n",
       "      <td>0</td>\n",
       "      <td>0</td>\n",
       "      <td>0</td>\n",
       "      <td>55.004607</td>\n",
       "      <td>0.058241</td>\n",
       "    </tr>\n",
       "    <tr>\n",
       "      <th>7</th>\n",
       "      <td>0</td>\n",
       "      <td>0</td>\n",
       "      <td>0</td>\n",
       "      <td>0</td>\n",
       "      <td>65.003902</td>\n",
       "      <td>0.058201</td>\n",
       "    </tr>\n",
       "    <tr>\n",
       "      <th>8</th>\n",
       "      <td>0</td>\n",
       "      <td>0</td>\n",
       "      <td>0</td>\n",
       "      <td>0</td>\n",
       "      <td>75.003200</td>\n",
       "      <td>0.060994</td>\n",
       "    </tr>\n",
       "    <tr>\n",
       "      <th>9</th>\n",
       "      <td>0</td>\n",
       "      <td>0</td>\n",
       "      <td>0</td>\n",
       "      <td>0</td>\n",
       "      <td>85.002507</td>\n",
       "      <td>0.176761</td>\n",
       "    </tr>\n",
       "  </tbody>\n",
       "</table>\n",
       "</div>"
      ],
      "text/plain": [
       "   LTA  STA  STA_LTA  event       time     value\n",
       "0    0    0        0      0   0.000000  0.000000\n",
       "1    0    0        0      0   5.008122  0.058635\n",
       "2    0    0        0      0  15.007440  0.071102\n",
       "3    0    0        0      0  25.006716  0.501803\n",
       "4    0    0        0      0  35.006002  0.060979\n",
       "5    0    0        0      0  45.005297  0.060530\n",
       "6    0    0        0      0  55.004607  0.058241\n",
       "7    0    0        0      0  65.003902  0.058201\n",
       "8    0    0        0      0  75.003200  0.060994\n",
       "9    0    0        0      0  85.002507  0.176761"
      ]
     },
     "execution_count": 20,
     "metadata": {},
     "output_type": "execute_result"
    }
   ],
   "source": [
    "sub = results[0:100]\n",
    "sub.head(10)"
   ]
  },
  {
   "cell_type": "code",
   "execution_count": 21,
   "metadata": {
    "collapsed": false
   },
   "outputs": [],
   "source": [
    "sub = results\n",
    "count = 0\n",
    "temp =[]\n",
    "for index,row in sub.iterrows():\n",
    "    if count == 0:\n",
    "        for i in range(0,window_long_factor):\n",
    "            #temporary value, stores the value of the 10-ith mean value before the current time\n",
    "            temp.append(sub.iloc[i,:][5])\n",
    "    if count > window_long_factor-1:\n",
    "        STA = row[5] # STA is not included in the temp list\n",
    "        LTA = np.mean(temp)\n",
    "        sub.STA[index] = STA\n",
    "        sub.LTA[index] = LTA\n",
    "        sub.STA_LTA[index] = STA/float(LTA)\n",
    "        #print count, STA/float(LTA)\n",
    "        if STA/float(LTA) > percent:\n",
    "            #print count\n",
    "            sub.event[index] = 1\n",
    "        for i in range(0,window_long_factor-1):\n",
    "            temp[i] = temp[i+1]\n",
    "        temp[window_long_factor-1] = STA\n",
    "    count = count + 1\n"
   ]
  },
  {
   "cell_type": "code",
   "execution_count": 22,
   "metadata": {
    "collapsed": false
   },
   "outputs": [
    {
     "name": "stdout",
     "output_type": "stream",
     "text": [
      "           LTA       STA    STA_LTA  event          time     value\n",
      "9     0.059789  0.176761   2.956404      1     85.002507  0.176761\n",
      "19    0.062327  0.080024   1.283931      1    184.995539  0.080024\n",
      "22    0.064291  0.100595   1.564679      1    214.993442  0.100595\n",
      "23    0.072575  0.186582   2.570881      1    224.992754  0.186582\n",
      "29    0.067841  0.082291   1.212994      1    285.005280  0.082291\n",
      "45    0.062841  0.076769   1.221644      1    444.994233  0.076769\n",
      "46    0.064516  0.153416   2.377956      1    454.993565  0.153416\n",
      "63    0.060935  0.079488   1.304474      1    624.998611  0.079488\n",
      "140   0.060774  0.345435   5.683899      1   1394.994891  0.345435\n",
      "142   0.120121  0.324355   2.700228      1   1414.993496  0.324355\n",
      "161   0.060825  0.078772   1.295067      1   1604.996902  0.078772\n",
      "172   0.063555  0.116456   1.832362      1   1715.005898  0.116456\n",
      "181   0.062094  0.102507   1.650832      1   1804.999685  0.102507\n",
      "188   0.066209  0.118681   1.792524      1   1874.994946  0.118681\n",
      "192   0.072736  0.131057   1.801833      1   1914.992152  0.131057\n",
      "288   0.060164  0.076617   1.273462      1   2874.993633  0.076617\n",
      "290   0.064234  0.133763   2.082416      1   2894.992349  0.133763\n",
      "307   0.063134  0.119001   1.884890      1   3064.996933  0.119001\n",
      "315   0.061521  0.080191   1.303475      1   3144.999884  0.080191\n",
      "316   0.065453  0.212131   3.240982      1   3155.007291  0.212131\n",
      "326   0.065861  0.081834   1.242530      1   3255.000523  0.081834\n",
      "332   0.066431  0.082231   1.237831      1   3314.996801  0.082231\n",
      "433   0.061919  0.075399   1.217707      1   4325.002699  0.075399\n",
      "439   0.064686  0.145214   2.244925      1   4384.997750  0.145214\n",
      "575   0.066505  0.319112   4.798303      1   5745.001194  0.319112\n",
      "585   0.062085  0.076947   1.239379      1   5844.996791  0.076947\n",
      "589   0.063042  0.235734   3.739325      1   5885.007156  0.235734\n",
      "598   0.064073  0.084020   1.311317      1   5975.000811  0.084020\n",
      "602   0.064950  0.081819   1.259725      1   6015.006705  0.081819\n",
      "606   0.063140  0.123452   1.955218      1   6055.005932  0.123452\n",
      "...        ...       ...        ...    ...           ...       ...\n",
      "880   0.065703  0.116359   1.770991      1   8795.002084  0.116359\n",
      "890   0.067468  0.083571   1.238672      1   8895.019716  0.083571\n",
      "893   0.072567  0.105608   1.455324      1   8925.045023  0.105608\n",
      "908   0.064298  0.141226   2.196410      1   9074.877474  0.141226\n",
      "1010  0.061739  1.205856  19.531510      1  10095.002087  1.205856\n",
      "1025  0.065371  0.116314   1.779294      1  10244.995372  0.116314\n",
      "1043  0.063230  0.080760   1.277251      1  10424.992836  0.080760\n",
      "1045  0.066610  0.083705   1.256648      1  10445.108520  0.083705\n",
      "1055  0.063554  0.084359   1.327367      1  10545.014848  0.084359\n",
      "1056  0.067339  0.118407   1.758369      1  10554.961229  0.118407\n",
      "1061  0.080089  0.179592   2.242409      1  10605.004229  0.179592\n",
      "1148  0.059424  0.142518   2.398324      1  11475.014220  0.142518\n",
      "1149  0.076087  0.134397   1.766346      1  11484.981674  0.134397\n",
      "1156  0.065358  0.084860   1.298389      1  11555.013146  0.084860\n",
      "1161  0.067639  0.124621   1.842452      1  11604.975711  0.124621\n",
      "1163  0.075700  0.142751   1.885743      1  11624.963829  0.142751\n",
      "1170  0.062567  0.091807   1.467342      1  11694.942002  0.091807\n",
      "1172  0.070184  0.110152   1.569473      1  11714.925179  0.110152\n",
      "1180  0.063420  0.080901   1.275645      1  11794.977087  0.080901\n",
      "1199  0.064720  0.080219   1.239486      1  11984.987028  0.080219\n",
      "1209  0.062743  0.092951   1.481456      1  12084.984196  0.092951\n",
      "1289  0.061715  0.076999   1.247657      1  12885.320747  0.076999\n",
      "1292  0.065705  0.082866   1.261187      1  12914.990860  0.082866\n",
      "1300  0.066972  0.117417   1.753223      1  12995.158524  0.117417\n",
      "1327  0.063399  0.085032   1.341208      1  13265.065221  0.085032\n",
      "1328  0.067724  0.084894   1.253531      1  13275.024037  0.084894\n",
      "1329  0.071814  0.101721   1.416449      1  13284.983603  0.101721\n",
      "1339  0.066480  0.085558   1.286968      1  13385.033164  0.085558\n",
      "1348  0.064230  0.078182   1.217209      1  13475.000566  0.078182\n",
      "1349  0.067342  0.095001   1.410737      1  13485.044422  0.095001\n",
      "\n",
      "[73 rows x 6 columns]\n"
     ]
    }
   ],
   "source": [
    "print sub[sub['event'] == 1]"
   ]
  },
  {
   "cell_type": "code",
   "execution_count": 23,
   "metadata": {
    "collapsed": false
   },
   "outputs": [],
   "source": [
    "plt.plot(df.Time, df.Data , color='r', label = value_type+'Norm')\n",
    "plt.xlabel('Time (minutes)')\n",
    "plt.ylabel(value_type.capitalize() + ' (' + unit[value_type] + ')')\n",
    "plt.legend(loc='best')\n",
    "plt.show()"
   ]
  },
  {
   "cell_type": "code",
   "execution_count": 24,
   "metadata": {
    "collapsed": false
   },
   "outputs": [],
   "source": [
    "plt.plot(results.time, results.event , color='r', label = \"events\")\n",
    "plt.xlabel('Time (minutes)')\n",
    "plt.ylabel(value_type.capitalize() + ' (' + unit[value_type] + ')')\n",
    "plt.legend(loc='best')\n",
    "plt.show()"
   ]
  },
  {
   "cell_type": "code",
   "execution_count": null,
   "metadata": {
    "collapsed": false
   },
   "outputs": [],
   "source": []
  },
  {
   "cell_type": "code",
   "execution_count": 25,
   "metadata": {
    "collapsed": false
   },
   "outputs": [],
   "source": [
    "count = 0\n",
    "foo =[]\n",
    "for i in range(0,len(results.event)):\n",
    "    if results.event.iloc[i]>0:\n",
    "        count = 0\n",
    "    else:\n",
    "        count = count +1\n",
    "    foo.append(count)"
   ]
  },
  {
   "cell_type": "code",
   "execution_count": 26,
   "metadata": {
    "collapsed": false,
    "scrolled": true
   },
   "outputs": [
    {
     "data": {
      "text/plain": [
       "[<matplotlib.lines.Line2D at 0x16f67390>]"
      ]
     },
     "execution_count": 26,
     "metadata": {},
     "output_type": "execute_result"
    }
   ],
   "source": [
    "plt.plot(foo)"
   ]
  },
  {
   "cell_type": "code",
   "execution_count": 27,
   "metadata": {
    "collapsed": true
   },
   "outputs": [],
   "source": [
    "results_copy = results.copy()"
   ]
  },
  {
   "cell_type": "code",
   "execution_count": null,
   "metadata": {
    "collapsed": false
   },
   "outputs": [],
   "source": []
  },
  {
   "cell_type": "code",
   "execution_count": 28,
   "metadata": {
    "collapsed": true
   },
   "outputs": [],
   "source": [
    "# 2 possibilities: detect \"ïn bed\" or detect \"not in bed\"\n",
    "# blending algorithm"
   ]
  },
  {
   "cell_type": "code",
   "execution_count": 29,
   "metadata": {
    "collapsed": false
   },
   "outputs": [
    {
     "data": {
      "text/html": [
       "<div>\n",
       "<table border=\"1\" class=\"dataframe\">\n",
       "  <thead>\n",
       "    <tr style=\"text-align: right;\">\n",
       "      <th></th>\n",
       "      <th>LTA</th>\n",
       "      <th>STA</th>\n",
       "      <th>STA_LTA</th>\n",
       "      <th>event</th>\n",
       "      <th>time</th>\n",
       "      <th>value</th>\n",
       "    </tr>\n",
       "  </thead>\n",
       "  <tbody>\n",
       "    <tr>\n",
       "      <th>0</th>\n",
       "      <td>0.000000</td>\n",
       "      <td>0.000000</td>\n",
       "      <td>0.000000</td>\n",
       "      <td>0</td>\n",
       "      <td>0.000000</td>\n",
       "      <td>0.000000</td>\n",
       "    </tr>\n",
       "    <tr>\n",
       "      <th>1</th>\n",
       "      <td>0.000000</td>\n",
       "      <td>0.000000</td>\n",
       "      <td>0.000000</td>\n",
       "      <td>0</td>\n",
       "      <td>5.008122</td>\n",
       "      <td>0.058635</td>\n",
       "    </tr>\n",
       "    <tr>\n",
       "      <th>2</th>\n",
       "      <td>0.000000</td>\n",
       "      <td>0.000000</td>\n",
       "      <td>0.000000</td>\n",
       "      <td>0</td>\n",
       "      <td>15.007440</td>\n",
       "      <td>0.071102</td>\n",
       "    </tr>\n",
       "    <tr>\n",
       "      <th>3</th>\n",
       "      <td>0.000000</td>\n",
       "      <td>0.000000</td>\n",
       "      <td>0.000000</td>\n",
       "      <td>0</td>\n",
       "      <td>25.006716</td>\n",
       "      <td>0.501803</td>\n",
       "    </tr>\n",
       "    <tr>\n",
       "      <th>4</th>\n",
       "      <td>0.000000</td>\n",
       "      <td>0.000000</td>\n",
       "      <td>0.000000</td>\n",
       "      <td>0</td>\n",
       "      <td>35.006002</td>\n",
       "      <td>0.060979</td>\n",
       "    </tr>\n",
       "    <tr>\n",
       "      <th>5</th>\n",
       "      <td>0.138504</td>\n",
       "      <td>0.060530</td>\n",
       "      <td>0.437028</td>\n",
       "      <td>0</td>\n",
       "      <td>45.005297</td>\n",
       "      <td>0.060530</td>\n",
       "    </tr>\n",
       "    <tr>\n",
       "      <th>6</th>\n",
       "      <td>0.150610</td>\n",
       "      <td>0.058241</td>\n",
       "      <td>0.386702</td>\n",
       "      <td>0</td>\n",
       "      <td>55.004607</td>\n",
       "      <td>0.058241</td>\n",
       "    </tr>\n",
       "    <tr>\n",
       "      <th>7</th>\n",
       "      <td>0.150531</td>\n",
       "      <td>0.058201</td>\n",
       "      <td>0.386641</td>\n",
       "      <td>0</td>\n",
       "      <td>65.003902</td>\n",
       "      <td>0.058201</td>\n",
       "    </tr>\n",
       "    <tr>\n",
       "      <th>8</th>\n",
       "      <td>0.147951</td>\n",
       "      <td>0.060994</td>\n",
       "      <td>0.412260</td>\n",
       "      <td>0</td>\n",
       "      <td>75.003200</td>\n",
       "      <td>0.060994</td>\n",
       "    </tr>\n",
       "    <tr>\n",
       "      <th>9</th>\n",
       "      <td>0.059789</td>\n",
       "      <td>0.176761</td>\n",
       "      <td>2.956404</td>\n",
       "      <td>1</td>\n",
       "      <td>85.002507</td>\n",
       "      <td>0.176761</td>\n",
       "    </tr>\n",
       "    <tr>\n",
       "      <th>10</th>\n",
       "      <td>0.082945</td>\n",
       "      <td>0.068349</td>\n",
       "      <td>0.824018</td>\n",
       "      <td>0</td>\n",
       "      <td>95.001804</td>\n",
       "      <td>0.068349</td>\n",
       "    </tr>\n",
       "    <tr>\n",
       "      <th>11</th>\n",
       "      <td>0.084509</td>\n",
       "      <td>0.058523</td>\n",
       "      <td>0.692507</td>\n",
       "      <td>0</td>\n",
       "      <td>105.001131</td>\n",
       "      <td>0.058523</td>\n",
       "    </tr>\n",
       "    <tr>\n",
       "      <th>12</th>\n",
       "      <td>0.084566</td>\n",
       "      <td>0.061413</td>\n",
       "      <td>0.726213</td>\n",
       "      <td>0</td>\n",
       "      <td>115.000439</td>\n",
       "      <td>0.061413</td>\n",
       "    </tr>\n",
       "    <tr>\n",
       "      <th>13</th>\n",
       "      <td>0.085208</td>\n",
       "      <td>0.059373</td>\n",
       "      <td>0.696804</td>\n",
       "      <td>0</td>\n",
       "      <td>124.999733</td>\n",
       "      <td>0.059373</td>\n",
       "    </tr>\n",
       "    <tr>\n",
       "      <th>14</th>\n",
       "      <td>0.084884</td>\n",
       "      <td>0.073452</td>\n",
       "      <td>0.865320</td>\n",
       "      <td>0</td>\n",
       "      <td>134.999042</td>\n",
       "      <td>0.073452</td>\n",
       "    </tr>\n",
       "    <tr>\n",
       "      <th>15</th>\n",
       "      <td>0.064222</td>\n",
       "      <td>0.063070</td>\n",
       "      <td>0.982063</td>\n",
       "      <td>0</td>\n",
       "      <td>144.998323</td>\n",
       "      <td>0.063070</td>\n",
       "    </tr>\n",
       "    <tr>\n",
       "      <th>16</th>\n",
       "      <td>0.063166</td>\n",
       "      <td>0.057386</td>\n",
       "      <td>0.908496</td>\n",
       "      <td>0</td>\n",
       "      <td>154.997619</td>\n",
       "      <td>0.057386</td>\n",
       "    </tr>\n",
       "    <tr>\n",
       "      <th>17</th>\n",
       "      <td>0.062939</td>\n",
       "      <td>0.059176</td>\n",
       "      <td>0.940215</td>\n",
       "      <td>0</td>\n",
       "      <td>164.996929</td>\n",
       "      <td>0.059176</td>\n",
       "    </tr>\n",
       "    <tr>\n",
       "      <th>18</th>\n",
       "      <td>0.062491</td>\n",
       "      <td>0.058552</td>\n",
       "      <td>0.936969</td>\n",
       "      <td>0</td>\n",
       "      <td>174.996228</td>\n",
       "      <td>0.058552</td>\n",
       "    </tr>\n",
       "    <tr>\n",
       "      <th>19</th>\n",
       "      <td>0.062327</td>\n",
       "      <td>0.080024</td>\n",
       "      <td>1.283931</td>\n",
       "      <td>1</td>\n",
       "      <td>184.995539</td>\n",
       "      <td>0.080024</td>\n",
       "    </tr>\n",
       "    <tr>\n",
       "      <th>20</th>\n",
       "      <td>0.063642</td>\n",
       "      <td>0.061392</td>\n",
       "      <td>0.964647</td>\n",
       "      <td>0</td>\n",
       "      <td>194.994837</td>\n",
       "      <td>0.061392</td>\n",
       "    </tr>\n",
       "    <tr>\n",
       "      <th>21</th>\n",
       "      <td>0.063306</td>\n",
       "      <td>0.062313</td>\n",
       "      <td>0.984316</td>\n",
       "      <td>0</td>\n",
       "      <td>204.994140</td>\n",
       "      <td>0.062313</td>\n",
       "    </tr>\n",
       "    <tr>\n",
       "      <th>22</th>\n",
       "      <td>0.064291</td>\n",
       "      <td>0.100595</td>\n",
       "      <td>1.564679</td>\n",
       "      <td>1</td>\n",
       "      <td>214.993442</td>\n",
       "      <td>0.100595</td>\n",
       "    </tr>\n",
       "    <tr>\n",
       "      <th>23</th>\n",
       "      <td>0.072575</td>\n",
       "      <td>0.186582</td>\n",
       "      <td>2.570881</td>\n",
       "      <td>1</td>\n",
       "      <td>224.992754</td>\n",
       "      <td>0.186582</td>\n",
       "    </tr>\n",
       "    <tr>\n",
       "      <th>24</th>\n",
       "      <td>0.098181</td>\n",
       "      <td>0.059001</td>\n",
       "      <td>0.600938</td>\n",
       "      <td>0</td>\n",
       "      <td>235.000386</td>\n",
       "      <td>0.059001</td>\n",
       "    </tr>\n",
       "    <tr>\n",
       "      <th>25</th>\n",
       "      <td>0.093977</td>\n",
       "      <td>0.059481</td>\n",
       "      <td>0.632936</td>\n",
       "      <td>0</td>\n",
       "      <td>245.008032</td>\n",
       "      <td>0.059481</td>\n",
       "    </tr>\n",
       "    <tr>\n",
       "      <th>26</th>\n",
       "      <td>0.093595</td>\n",
       "      <td>0.080373</td>\n",
       "      <td>0.858740</td>\n",
       "      <td>0</td>\n",
       "      <td>255.007334</td>\n",
       "      <td>0.080373</td>\n",
       "    </tr>\n",
       "    <tr>\n",
       "      <th>27</th>\n",
       "      <td>0.097207</td>\n",
       "      <td>0.080881</td>\n",
       "      <td>0.832048</td>\n",
       "      <td>0</td>\n",
       "      <td>265.006634</td>\n",
       "      <td>0.080881</td>\n",
       "    </tr>\n",
       "    <tr>\n",
       "      <th>28</th>\n",
       "      <td>0.093264</td>\n",
       "      <td>0.059470</td>\n",
       "      <td>0.637654</td>\n",
       "      <td>0</td>\n",
       "      <td>275.005947</td>\n",
       "      <td>0.059470</td>\n",
       "    </tr>\n",
       "    <tr>\n",
       "      <th>29</th>\n",
       "      <td>0.067841</td>\n",
       "      <td>0.082291</td>\n",
       "      <td>1.212994</td>\n",
       "      <td>1</td>\n",
       "      <td>285.005280</td>\n",
       "      <td>0.082291</td>\n",
       "    </tr>\n",
       "  </tbody>\n",
       "</table>\n",
       "</div>"
      ],
      "text/plain": [
       "         LTA       STA   STA_LTA  event        time     value\n",
       "0   0.000000  0.000000  0.000000      0    0.000000  0.000000\n",
       "1   0.000000  0.000000  0.000000      0    5.008122  0.058635\n",
       "2   0.000000  0.000000  0.000000      0   15.007440  0.071102\n",
       "3   0.000000  0.000000  0.000000      0   25.006716  0.501803\n",
       "4   0.000000  0.000000  0.000000      0   35.006002  0.060979\n",
       "5   0.138504  0.060530  0.437028      0   45.005297  0.060530\n",
       "6   0.150610  0.058241  0.386702      0   55.004607  0.058241\n",
       "7   0.150531  0.058201  0.386641      0   65.003902  0.058201\n",
       "8   0.147951  0.060994  0.412260      0   75.003200  0.060994\n",
       "9   0.059789  0.176761  2.956404      1   85.002507  0.176761\n",
       "10  0.082945  0.068349  0.824018      0   95.001804  0.068349\n",
       "11  0.084509  0.058523  0.692507      0  105.001131  0.058523\n",
       "12  0.084566  0.061413  0.726213      0  115.000439  0.061413\n",
       "13  0.085208  0.059373  0.696804      0  124.999733  0.059373\n",
       "14  0.084884  0.073452  0.865320      0  134.999042  0.073452\n",
       "15  0.064222  0.063070  0.982063      0  144.998323  0.063070\n",
       "16  0.063166  0.057386  0.908496      0  154.997619  0.057386\n",
       "17  0.062939  0.059176  0.940215      0  164.996929  0.059176\n",
       "18  0.062491  0.058552  0.936969      0  174.996228  0.058552\n",
       "19  0.062327  0.080024  1.283931      1  184.995539  0.080024\n",
       "20  0.063642  0.061392  0.964647      0  194.994837  0.061392\n",
       "21  0.063306  0.062313  0.984316      0  204.994140  0.062313\n",
       "22  0.064291  0.100595  1.564679      1  214.993442  0.100595\n",
       "23  0.072575  0.186582  2.570881      1  224.992754  0.186582\n",
       "24  0.098181  0.059001  0.600938      0  235.000386  0.059001\n",
       "25  0.093977  0.059481  0.632936      0  245.008032  0.059481\n",
       "26  0.093595  0.080373  0.858740      0  255.007334  0.080373\n",
       "27  0.097207  0.080881  0.832048      0  265.006634  0.080881\n",
       "28  0.093264  0.059470  0.637654      0  275.005947  0.059470\n",
       "29  0.067841  0.082291  1.212994      1  285.005280  0.082291"
      ]
     },
     "execution_count": 29,
     "metadata": {},
     "output_type": "execute_result"
    }
   ],
   "source": [
    "results_copy.head(30)"
   ]
  },
  {
   "cell_type": "code",
   "execution_count": 30,
   "metadata": {
    "collapsed": true
   },
   "outputs": [],
   "source": [
    "range_in_future = 10"
   ]
  },
  {
   "cell_type": "code",
   "execution_count": 31,
   "metadata": {
    "collapsed": false
   },
   "outputs": [
    {
     "data": {
      "text/plain": [
       "0     0\n",
       "1     0\n",
       "2     0\n",
       "3     0\n",
       "4     0\n",
       "5     0\n",
       "6     0\n",
       "7     0\n",
       "8     0\n",
       "9     1\n",
       "10    0\n",
       "Name: event, dtype: float64"
      ]
     },
     "execution_count": 31,
     "metadata": {},
     "output_type": "execute_result"
    }
   ],
   "source": [
    "results_copy.event.iloc[0:(1+range_in_future)]"
   ]
  },
  {
   "cell_type": "code",
   "execution_count": 32,
   "metadata": {
    "collapsed": false
   },
   "outputs": [],
   "source": [
    "range_in_future = 20\n",
    "for i in range(1,len(results_copy)):\n",
    "    if results_copy.event.iloc[i] == 0:\n",
    "        if (np.sum(results_copy.event.iloc[i:(i+range_in_future)]) >0) and (np.sum(results_copy.event.iloc[i-1]) >0):\n",
    "            results_copy.event.iloc[i] = .5"
   ]
  },
  {
   "cell_type": "code",
   "execution_count": 33,
   "metadata": {
    "collapsed": false
   },
   "outputs": [
    {
     "data": {
      "text/plain": [
       "0.0"
      ]
     },
     "execution_count": 33,
     "metadata": {},
     "output_type": "execute_result"
    }
   ],
   "source": [
    "np.sum(results_copy.event.iloc[i:(i+range_in_future)])"
   ]
  },
  {
   "cell_type": "code",
   "execution_count": 35,
   "metadata": {
    "collapsed": false
   },
   "outputs": [],
   "source": [
    "plt.plot(results_copy.time, results_copy.event , color='r', label = \"events\")\n",
    "plt.xlabel('Time (minutes)')\n",
    "plt.ylabel(value_type.capitalize() + ' (' + unit[value_type] + ')')\n",
    "plt.legend(loc='best')\n",
    "plt.show()"
   ]
  },
  {
   "cell_type": "code",
   "execution_count": 59,
   "metadata": {
    "collapsed": true
   },
   "outputs": [],
   "source": []
  },
  {
   "cell_type": "code",
   "execution_count": null,
   "metadata": {
    "collapsed": true
   },
   "outputs": [],
   "source": []
  }
 ],
 "metadata": {
  "kernelspec": {
   "display_name": "Python 2",
   "language": "python",
   "name": "python2"
  },
  "language_info": {
   "codemirror_mode": {
    "name": "ipython",
    "version": 2
   },
   "file_extension": ".py",
   "mimetype": "text/x-python",
   "name": "python",
   "nbconvert_exporter": "python",
   "pygments_lexer": "ipython2",
   "version": "2.7.11"
  }
 },
 "nbformat": 4,
 "nbformat_minor": 0
}
