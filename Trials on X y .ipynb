{
 "cells": [
  {
   "cell_type": "code",
   "execution_count": 1,
   "metadata": {
    "collapsed": true
   },
   "outputs": [],
   "source": [
    "import numpy as np\n",
    "import pandas as pd"
   ]
  },
  {
   "cell_type": "code",
   "execution_count": 2,
   "metadata": {
    "collapsed": true
   },
   "outputs": [],
   "source": [
    "X = pd.read_csv(\"X.csv\")"
   ]
  },
  {
   "cell_type": "code",
   "execution_count": 3,
   "metadata": {
    "collapsed": false,
    "scrolled": true
   },
   "outputs": [
    {
     "data": {
      "text/html": [
       "<div>\n",
       "<table border=\"1\" class=\"dataframe\">\n",
       "  <thead>\n",
       "    <tr style=\"text-align: right;\">\n",
       "      <th></th>\n",
       "      <th>Time_stamp</th>\n",
       "      <th>bed_feat.csv_Mean</th>\n",
       "      <th>bed_feat.csv_Max</th>\n",
       "      <th>bed_feat.csv_Min</th>\n",
       "      <th>bed_feat.csv_Max-Min</th>\n",
       "      <th>bed_feat.csv_Std</th>\n",
       "      <th>bed_feat.csv_Variance</th>\n",
       "      <th>bed_feat.csv_RMS</th>\n",
       "      <th>bed_feat.csv_End-Start</th>\n",
       "      <th>bed_feat.csv_hour</th>\n",
       "      <th>...</th>\n",
       "      <th>stove_feat.csv_hour</th>\n",
       "      <th>toilet_feat.csv_Mean</th>\n",
       "      <th>toilet_feat.csv_Max</th>\n",
       "      <th>toilet_feat.csv_Min</th>\n",
       "      <th>toilet_feat.csv_Max-Min</th>\n",
       "      <th>toilet_feat.csv_Std</th>\n",
       "      <th>toilet_feat.csv_Variance</th>\n",
       "      <th>toilet_feat.csv_RMS</th>\n",
       "      <th>toilet_feat.csv_End-Start</th>\n",
       "      <th>toilet_feat.csv_hour</th>\n",
       "    </tr>\n",
       "  </thead>\n",
       "  <tbody>\n",
       "    <tr>\n",
       "      <th>0</th>\n",
       "      <td>2016-02-20 00:01:00</td>\n",
       "      <td>NaN</td>\n",
       "      <td>NaN</td>\n",
       "      <td>NaN</td>\n",
       "      <td>NaN</td>\n",
       "      <td>NaN</td>\n",
       "      <td>NaN</td>\n",
       "      <td>NaN</td>\n",
       "      <td>0</td>\n",
       "      <td>0</td>\n",
       "      <td>...</td>\n",
       "      <td>0</td>\n",
       "      <td>NaN</td>\n",
       "      <td>NaN</td>\n",
       "      <td>NaN</td>\n",
       "      <td>NaN</td>\n",
       "      <td>NaN</td>\n",
       "      <td>NaN</td>\n",
       "      <td>NaN</td>\n",
       "      <td>0</td>\n",
       "      <td>0</td>\n",
       "    </tr>\n",
       "    <tr>\n",
       "      <th>1</th>\n",
       "      <td>2016-02-20 00:02:00</td>\n",
       "      <td>NaN</td>\n",
       "      <td>NaN</td>\n",
       "      <td>NaN</td>\n",
       "      <td>NaN</td>\n",
       "      <td>NaN</td>\n",
       "      <td>NaN</td>\n",
       "      <td>NaN</td>\n",
       "      <td>0</td>\n",
       "      <td>0</td>\n",
       "      <td>...</td>\n",
       "      <td>0</td>\n",
       "      <td>NaN</td>\n",
       "      <td>NaN</td>\n",
       "      <td>NaN</td>\n",
       "      <td>NaN</td>\n",
       "      <td>NaN</td>\n",
       "      <td>NaN</td>\n",
       "      <td>NaN</td>\n",
       "      <td>0</td>\n",
       "      <td>0</td>\n",
       "    </tr>\n",
       "    <tr>\n",
       "      <th>2</th>\n",
       "      <td>2016-02-20 00:03:00</td>\n",
       "      <td>NaN</td>\n",
       "      <td>NaN</td>\n",
       "      <td>NaN</td>\n",
       "      <td>NaN</td>\n",
       "      <td>NaN</td>\n",
       "      <td>NaN</td>\n",
       "      <td>NaN</td>\n",
       "      <td>0</td>\n",
       "      <td>0</td>\n",
       "      <td>...</td>\n",
       "      <td>0</td>\n",
       "      <td>NaN</td>\n",
       "      <td>NaN</td>\n",
       "      <td>NaN</td>\n",
       "      <td>NaN</td>\n",
       "      <td>NaN</td>\n",
       "      <td>NaN</td>\n",
       "      <td>NaN</td>\n",
       "      <td>0</td>\n",
       "      <td>0</td>\n",
       "    </tr>\n",
       "    <tr>\n",
       "      <th>3</th>\n",
       "      <td>2016-02-20 00:04:00</td>\n",
       "      <td>NaN</td>\n",
       "      <td>NaN</td>\n",
       "      <td>NaN</td>\n",
       "      <td>NaN</td>\n",
       "      <td>NaN</td>\n",
       "      <td>NaN</td>\n",
       "      <td>NaN</td>\n",
       "      <td>0</td>\n",
       "      <td>0</td>\n",
       "      <td>...</td>\n",
       "      <td>0</td>\n",
       "      <td>NaN</td>\n",
       "      <td>NaN</td>\n",
       "      <td>NaN</td>\n",
       "      <td>NaN</td>\n",
       "      <td>NaN</td>\n",
       "      <td>NaN</td>\n",
       "      <td>NaN</td>\n",
       "      <td>0</td>\n",
       "      <td>0</td>\n",
       "    </tr>\n",
       "    <tr>\n",
       "      <th>4</th>\n",
       "      <td>2016-02-20 00:05:00</td>\n",
       "      <td>NaN</td>\n",
       "      <td>NaN</td>\n",
       "      <td>NaN</td>\n",
       "      <td>NaN</td>\n",
       "      <td>NaN</td>\n",
       "      <td>NaN</td>\n",
       "      <td>NaN</td>\n",
       "      <td>0</td>\n",
       "      <td>0</td>\n",
       "      <td>...</td>\n",
       "      <td>0</td>\n",
       "      <td>NaN</td>\n",
       "      <td>NaN</td>\n",
       "      <td>NaN</td>\n",
       "      <td>NaN</td>\n",
       "      <td>NaN</td>\n",
       "      <td>NaN</td>\n",
       "      <td>NaN</td>\n",
       "      <td>0</td>\n",
       "      <td>0</td>\n",
       "    </tr>\n",
       "  </tbody>\n",
       "</table>\n",
       "<p>5 rows × 64 columns</p>\n",
       "</div>"
      ],
      "text/plain": [
       "            Time_stamp  bed_feat.csv_Mean  bed_feat.csv_Max  bed_feat.csv_Min  \\\n",
       "0  2016-02-20 00:01:00                NaN               NaN               NaN   \n",
       "1  2016-02-20 00:02:00                NaN               NaN               NaN   \n",
       "2  2016-02-20 00:03:00                NaN               NaN               NaN   \n",
       "3  2016-02-20 00:04:00                NaN               NaN               NaN   \n",
       "4  2016-02-20 00:05:00                NaN               NaN               NaN   \n",
       "\n",
       "   bed_feat.csv_Max-Min  bed_feat.csv_Std  bed_feat.csv_Variance  \\\n",
       "0                   NaN               NaN                    NaN   \n",
       "1                   NaN               NaN                    NaN   \n",
       "2                   NaN               NaN                    NaN   \n",
       "3                   NaN               NaN                    NaN   \n",
       "4                   NaN               NaN                    NaN   \n",
       "\n",
       "   bed_feat.csv_RMS  bed_feat.csv_End-Start  bed_feat.csv_hour  \\\n",
       "0               NaN                       0                  0   \n",
       "1               NaN                       0                  0   \n",
       "2               NaN                       0                  0   \n",
       "3               NaN                       0                  0   \n",
       "4               NaN                       0                  0   \n",
       "\n",
       "           ...           stove_feat.csv_hour  toilet_feat.csv_Mean  \\\n",
       "0          ...                             0                   NaN   \n",
       "1          ...                             0                   NaN   \n",
       "2          ...                             0                   NaN   \n",
       "3          ...                             0                   NaN   \n",
       "4          ...                             0                   NaN   \n",
       "\n",
       "   toilet_feat.csv_Max  toilet_feat.csv_Min  toilet_feat.csv_Max-Min  \\\n",
       "0                  NaN                  NaN                      NaN   \n",
       "1                  NaN                  NaN                      NaN   \n",
       "2                  NaN                  NaN                      NaN   \n",
       "3                  NaN                  NaN                      NaN   \n",
       "4                  NaN                  NaN                      NaN   \n",
       "\n",
       "   toilet_feat.csv_Std  toilet_feat.csv_Variance  toilet_feat.csv_RMS  \\\n",
       "0                  NaN                       NaN                  NaN   \n",
       "1                  NaN                       NaN                  NaN   \n",
       "2                  NaN                       NaN                  NaN   \n",
       "3                  NaN                       NaN                  NaN   \n",
       "4                  NaN                       NaN                  NaN   \n",
       "\n",
       "   toilet_feat.csv_End-Start  toilet_feat.csv_hour  \n",
       "0                          0                     0  \n",
       "1                          0                     0  \n",
       "2                          0                     0  \n",
       "3                          0                     0  \n",
       "4                          0                     0  \n",
       "\n",
       "[5 rows x 64 columns]"
      ]
     },
     "execution_count": 3,
     "metadata": {},
     "output_type": "execute_result"
    }
   ],
   "source": [
    "X.head()"
   ]
  },
  {
   "cell_type": "code",
   "execution_count": 4,
   "metadata": {
    "collapsed": false
   },
   "outputs": [
    {
     "data": {
      "text/plain": [
       "(40137, 64)"
      ]
     },
     "execution_count": 4,
     "metadata": {},
     "output_type": "execute_result"
    }
   ],
   "source": [
    "X.shape"
   ]
  },
  {
   "cell_type": "code",
   "execution_count": 5,
   "metadata": {
    "collapsed": false
   },
   "outputs": [
    {
     "data": {
      "text/plain": [
       "Index([u'Time_stamp', u'bed_feat.csv_Mean', u'bed_feat.csv_Max',\n",
       "       u'bed_feat.csv_Min', u'bed_feat.csv_Max-Min', u'bed_feat.csv_Std',\n",
       "       u'bed_feat.csv_Variance', u'bed_feat.csv_RMS',\n",
       "       u'bed_feat.csv_End-Start', u'bed_feat.csv_hour',\n",
       "       u'cupboard_feat.csv_Mean', u'cupboard_feat.csv_Max',\n",
       "       u'cupboard_feat.csv_Min', u'cupboard_feat.csv_Max-Min',\n",
       "       u'cupboard_feat.csv_Std', u'cupboard_feat.csv_Variance',\n",
       "       u'cupboard_feat.csv_RMS', u'cupboard_feat.csv_End-Start',\n",
       "       u'cupboard_feat.csv_hour', u'fridge_feat.csv_Mean',\n",
       "       u'fridge_feat.csv_Max', u'fridge_feat.csv_Min',\n",
       "       u'fridge_feat.csv_Max-Min', u'fridge_feat.csv_Std',\n",
       "       u'fridge_feat.csv_Variance', u'fridge_feat.csv_RMS',\n",
       "       u'fridge_feat.csv_End-Start', u'fridge_feat.csv_hour',\n",
       "       u'rice_feat.csv_Mean', u'rice_feat.csv_Max', u'rice_feat.csv_Min',\n",
       "       u'rice_feat.csv_Max-Min', u'rice_feat.csv_Std',\n",
       "       u'rice_feat.csv_Variance', u'rice_feat.csv_RMS',\n",
       "       u'rice_feat.csv_End-Start', u'rice_feat.csv_hour',\n",
       "       u'shower_temp_feat.csv_Mean', u'shower_temp_feat.csv_Max',\n",
       "       u'shower_temp_feat.csv_Min', u'shower_temp_feat.csv_Max-Min',\n",
       "       u'shower_temp_feat.csv_Std', u'shower_temp_feat.csv_Variance',\n",
       "       u'shower_temp_feat.csv_RMS', u'shower_temp_feat.csv_End-Start',\n",
       "       u'shower_temp_feat.csv_hour', u'stove_feat.csv_Mean',\n",
       "       u'stove_feat.csv_Max', u'stove_feat.csv_Min', u'stove_feat.csv_Max-Min',\n",
       "       u'stove_feat.csv_Std', u'stove_feat.csv_Variance',\n",
       "       u'stove_feat.csv_RMS', u'stove_feat.csv_End-Start',\n",
       "       u'stove_feat.csv_hour', u'toilet_feat.csv_Mean', u'toilet_feat.csv_Max',\n",
       "       u'toilet_feat.csv_Min', u'toilet_feat.csv_Max-Min',\n",
       "       u'toilet_feat.csv_Std', u'toilet_feat.csv_Variance',\n",
       "       u'toilet_feat.csv_RMS', u'toilet_feat.csv_End-Start',\n",
       "       u'toilet_feat.csv_hour'],\n",
       "      dtype='object')"
      ]
     },
     "execution_count": 5,
     "metadata": {},
     "output_type": "execute_result"
    }
   ],
   "source": [
    "X.columns"
   ]
  },
  {
   "cell_type": "code",
   "execution_count": 6,
   "metadata": {
    "collapsed": true
   },
   "outputs": [],
   "source": [
    "X.drop(['toilet_feat.csv_hour', 'stove_feat.csv_hour','shower_temp_feat.csv_hour', 'cupboard_feat.csv_hour', 'fridge_feat.csv_hour',\n",
    "       ], axis=1, inplace=True)"
   ]
  },
  {
   "cell_type": "code",
   "execution_count": 7,
   "metadata": {
    "collapsed": false
   },
   "outputs": [
    {
     "data": {
      "text/plain": [
       "Index([u'Time_stamp', u'bed_feat.csv_Mean', u'bed_feat.csv_Max',\n",
       "       u'bed_feat.csv_Min', u'bed_feat.csv_Max-Min', u'bed_feat.csv_Std',\n",
       "       u'bed_feat.csv_Variance', u'bed_feat.csv_RMS',\n",
       "       u'bed_feat.csv_End-Start', u'bed_feat.csv_hour',\n",
       "       u'cupboard_feat.csv_Mean', u'cupboard_feat.csv_Max',\n",
       "       u'cupboard_feat.csv_Min', u'cupboard_feat.csv_Max-Min',\n",
       "       u'cupboard_feat.csv_Std', u'cupboard_feat.csv_Variance',\n",
       "       u'cupboard_feat.csv_RMS', u'cupboard_feat.csv_End-Start',\n",
       "       u'fridge_feat.csv_Mean', u'fridge_feat.csv_Max', u'fridge_feat.csv_Min',\n",
       "       u'fridge_feat.csv_Max-Min', u'fridge_feat.csv_Std',\n",
       "       u'fridge_feat.csv_Variance', u'fridge_feat.csv_RMS',\n",
       "       u'fridge_feat.csv_End-Start', u'rice_feat.csv_Mean',\n",
       "       u'rice_feat.csv_Max', u'rice_feat.csv_Min', u'rice_feat.csv_Max-Min',\n",
       "       u'rice_feat.csv_Std', u'rice_feat.csv_Variance', u'rice_feat.csv_RMS',\n",
       "       u'rice_feat.csv_End-Start', u'rice_feat.csv_hour',\n",
       "       u'shower_temp_feat.csv_Mean', u'shower_temp_feat.csv_Max',\n",
       "       u'shower_temp_feat.csv_Min', u'shower_temp_feat.csv_Max-Min',\n",
       "       u'shower_temp_feat.csv_Std', u'shower_temp_feat.csv_Variance',\n",
       "       u'shower_temp_feat.csv_RMS', u'shower_temp_feat.csv_End-Start',\n",
       "       u'stove_feat.csv_Mean', u'stove_feat.csv_Max', u'stove_feat.csv_Min',\n",
       "       u'stove_feat.csv_Max-Min', u'stove_feat.csv_Std',\n",
       "       u'stove_feat.csv_Variance', u'stove_feat.csv_RMS',\n",
       "       u'stove_feat.csv_End-Start', u'toilet_feat.csv_Mean',\n",
       "       u'toilet_feat.csv_Max', u'toilet_feat.csv_Min',\n",
       "       u'toilet_feat.csv_Max-Min', u'toilet_feat.csv_Std',\n",
       "       u'toilet_feat.csv_Variance', u'toilet_feat.csv_RMS',\n",
       "       u'toilet_feat.csv_End-Start'],\n",
       "      dtype='object')"
      ]
     },
     "execution_count": 7,
     "metadata": {},
     "output_type": "execute_result"
    }
   ],
   "source": [
    "X.columns"
   ]
  },
  {
   "cell_type": "code",
   "execution_count": 8,
   "metadata": {
    "collapsed": true
   },
   "outputs": [],
   "source": [
    "X.columns = [u'Time_stamp', u'bed_feat_Mean', u'bed_feat_Max',\n",
    "       u'bed_feat_Min', u'bed_feat_Max-Min', u'bed_feat_Std',\n",
    "       u'bed_feat_Variance', u'bed_feat_RMS',\n",
    "       u'bed_feat_End-Start', u'bed_feat_hour',\n",
    "       u'cupboard_feat_Mean', u'cupboard_feat_Max',\n",
    "       u'cupboard_feat_Min', u'cupboard_feat_Max-Min',\n",
    "       u'cupboard_feat_Std', u'cupboard_feat_Variance',\n",
    "       u'cupboard_feat_RMS', u'cupboard_feat_End-Start',\n",
    "       u'fridge_feat_Mean', u'fridge_feat_Max', u'fridge_feat_Min',\n",
    "       u'fridge_feat_Max-Min', u'fridge_feat_Std',\n",
    "       u'fridge_feat_Variance', u'fridge_feat_RMS',\n",
    "       u'fridge_feat_End-Start', u'rice_feat_Mean',\n",
    "       u'rice_feat_Max', u'rice_feat_Min', u'rice_feat_Max-Min',\n",
    "       u'rice_feat_Std', u'rice_feat_Variance', u'rice_feat_RMS',\n",
    "       u'rice_feat_End-Start', u'rice_feat_hour',\n",
    "       u'shower_temp_feat_Mean', u'shower_temp_feat_Max',\n",
    "       u'shower_temp_feat_Min', u'shower_temp_feat_Max-Min',\n",
    "       u'shower_temp_feat_Std', u'shower_temp_feat_Variance',\n",
    "       u'shower_temp_feat_RMS', u'shower_temp_feat_End-Start',\n",
    "       u'stove_feat_Mean', u'stove_feat_Max', u'stove_feat_Min',\n",
    "       u'stove_feat_Max-Min', u'stove_feat_Std',\n",
    "       u'stove_feat_Variance', u'stove_feat_RMS',\n",
    "       u'stove_feat_End-Start', u'toilet_feat_Mean',\n",
    "       u'toilet_feat_Max', u'toilet_feat_Min',\n",
    "       u'toilet_feat_Max-Min', u'toilet_feat_Std',\n",
    "       u'toilet_feat_Variance', u'toilet_feat_RMS',\n",
    "       u'toilet_feat_End-Start']"
   ]
  },
  {
   "cell_type": "code",
   "execution_count": 10,
   "metadata": {
    "collapsed": false
   },
   "outputs": [],
   "source": [
    "X.columns;"
   ]
  },
  {
   "cell_type": "code",
   "execution_count": 11,
   "metadata": {
    "collapsed": false
   },
   "outputs": [
    {
     "data": {
      "text/html": [
       "<div>\n",
       "<table border=\"1\" class=\"dataframe\">\n",
       "  <thead>\n",
       "    <tr style=\"text-align: right;\">\n",
       "      <th></th>\n",
       "      <th>Time_stamp</th>\n",
       "      <th>bed_feat_Mean</th>\n",
       "      <th>bed_feat_Max</th>\n",
       "      <th>bed_feat_Min</th>\n",
       "      <th>bed_feat_Max-Min</th>\n",
       "      <th>bed_feat_Std</th>\n",
       "      <th>bed_feat_Variance</th>\n",
       "      <th>bed_feat_RMS</th>\n",
       "      <th>bed_feat_End-Start</th>\n",
       "      <th>bed_feat_hour</th>\n",
       "      <th>...</th>\n",
       "      <th>stove_feat_RMS</th>\n",
       "      <th>stove_feat_End-Start</th>\n",
       "      <th>toilet_feat_Mean</th>\n",
       "      <th>toilet_feat_Max</th>\n",
       "      <th>toilet_feat_Min</th>\n",
       "      <th>toilet_feat_Max-Min</th>\n",
       "      <th>toilet_feat_Std</th>\n",
       "      <th>toilet_feat_Variance</th>\n",
       "      <th>toilet_feat_RMS</th>\n",
       "      <th>toilet_feat_End-Start</th>\n",
       "    </tr>\n",
       "  </thead>\n",
       "  <tbody>\n",
       "    <tr>\n",
       "      <th>0</th>\n",
       "      <td>2016-02-20 00:01:00</td>\n",
       "      <td>NaN</td>\n",
       "      <td>NaN</td>\n",
       "      <td>NaN</td>\n",
       "      <td>NaN</td>\n",
       "      <td>NaN</td>\n",
       "      <td>NaN</td>\n",
       "      <td>NaN</td>\n",
       "      <td>0</td>\n",
       "      <td>0</td>\n",
       "      <td>...</td>\n",
       "      <td>NaN</td>\n",
       "      <td>0</td>\n",
       "      <td>NaN</td>\n",
       "      <td>NaN</td>\n",
       "      <td>NaN</td>\n",
       "      <td>NaN</td>\n",
       "      <td>NaN</td>\n",
       "      <td>NaN</td>\n",
       "      <td>NaN</td>\n",
       "      <td>0</td>\n",
       "    </tr>\n",
       "    <tr>\n",
       "      <th>1</th>\n",
       "      <td>2016-02-20 00:02:00</td>\n",
       "      <td>NaN</td>\n",
       "      <td>NaN</td>\n",
       "      <td>NaN</td>\n",
       "      <td>NaN</td>\n",
       "      <td>NaN</td>\n",
       "      <td>NaN</td>\n",
       "      <td>NaN</td>\n",
       "      <td>0</td>\n",
       "      <td>0</td>\n",
       "      <td>...</td>\n",
       "      <td>NaN</td>\n",
       "      <td>0</td>\n",
       "      <td>NaN</td>\n",
       "      <td>NaN</td>\n",
       "      <td>NaN</td>\n",
       "      <td>NaN</td>\n",
       "      <td>NaN</td>\n",
       "      <td>NaN</td>\n",
       "      <td>NaN</td>\n",
       "      <td>0</td>\n",
       "    </tr>\n",
       "    <tr>\n",
       "      <th>2</th>\n",
       "      <td>2016-02-20 00:03:00</td>\n",
       "      <td>NaN</td>\n",
       "      <td>NaN</td>\n",
       "      <td>NaN</td>\n",
       "      <td>NaN</td>\n",
       "      <td>NaN</td>\n",
       "      <td>NaN</td>\n",
       "      <td>NaN</td>\n",
       "      <td>0</td>\n",
       "      <td>0</td>\n",
       "      <td>...</td>\n",
       "      <td>NaN</td>\n",
       "      <td>0</td>\n",
       "      <td>NaN</td>\n",
       "      <td>NaN</td>\n",
       "      <td>NaN</td>\n",
       "      <td>NaN</td>\n",
       "      <td>NaN</td>\n",
       "      <td>NaN</td>\n",
       "      <td>NaN</td>\n",
       "      <td>0</td>\n",
       "    </tr>\n",
       "    <tr>\n",
       "      <th>3</th>\n",
       "      <td>2016-02-20 00:04:00</td>\n",
       "      <td>NaN</td>\n",
       "      <td>NaN</td>\n",
       "      <td>NaN</td>\n",
       "      <td>NaN</td>\n",
       "      <td>NaN</td>\n",
       "      <td>NaN</td>\n",
       "      <td>NaN</td>\n",
       "      <td>0</td>\n",
       "      <td>0</td>\n",
       "      <td>...</td>\n",
       "      <td>NaN</td>\n",
       "      <td>0</td>\n",
       "      <td>NaN</td>\n",
       "      <td>NaN</td>\n",
       "      <td>NaN</td>\n",
       "      <td>NaN</td>\n",
       "      <td>NaN</td>\n",
       "      <td>NaN</td>\n",
       "      <td>NaN</td>\n",
       "      <td>0</td>\n",
       "    </tr>\n",
       "    <tr>\n",
       "      <th>4</th>\n",
       "      <td>2016-02-20 00:05:00</td>\n",
       "      <td>NaN</td>\n",
       "      <td>NaN</td>\n",
       "      <td>NaN</td>\n",
       "      <td>NaN</td>\n",
       "      <td>NaN</td>\n",
       "      <td>NaN</td>\n",
       "      <td>NaN</td>\n",
       "      <td>0</td>\n",
       "      <td>0</td>\n",
       "      <td>...</td>\n",
       "      <td>NaN</td>\n",
       "      <td>0</td>\n",
       "      <td>NaN</td>\n",
       "      <td>NaN</td>\n",
       "      <td>NaN</td>\n",
       "      <td>NaN</td>\n",
       "      <td>NaN</td>\n",
       "      <td>NaN</td>\n",
       "      <td>NaN</td>\n",
       "      <td>0</td>\n",
       "    </tr>\n",
       "  </tbody>\n",
       "</table>\n",
       "<p>5 rows × 59 columns</p>\n",
       "</div>"
      ],
      "text/plain": [
       "            Time_stamp  bed_feat_Mean  bed_feat_Max  bed_feat_Min  \\\n",
       "0  2016-02-20 00:01:00            NaN           NaN           NaN   \n",
       "1  2016-02-20 00:02:00            NaN           NaN           NaN   \n",
       "2  2016-02-20 00:03:00            NaN           NaN           NaN   \n",
       "3  2016-02-20 00:04:00            NaN           NaN           NaN   \n",
       "4  2016-02-20 00:05:00            NaN           NaN           NaN   \n",
       "\n",
       "   bed_feat_Max-Min  bed_feat_Std  bed_feat_Variance  bed_feat_RMS  \\\n",
       "0               NaN           NaN                NaN           NaN   \n",
       "1               NaN           NaN                NaN           NaN   \n",
       "2               NaN           NaN                NaN           NaN   \n",
       "3               NaN           NaN                NaN           NaN   \n",
       "4               NaN           NaN                NaN           NaN   \n",
       "\n",
       "   bed_feat_End-Start  bed_feat_hour          ...            stove_feat_RMS  \\\n",
       "0                   0              0          ...                       NaN   \n",
       "1                   0              0          ...                       NaN   \n",
       "2                   0              0          ...                       NaN   \n",
       "3                   0              0          ...                       NaN   \n",
       "4                   0              0          ...                       NaN   \n",
       "\n",
       "   stove_feat_End-Start  toilet_feat_Mean  toilet_feat_Max  toilet_feat_Min  \\\n",
       "0                     0               NaN              NaN              NaN   \n",
       "1                     0               NaN              NaN              NaN   \n",
       "2                     0               NaN              NaN              NaN   \n",
       "3                     0               NaN              NaN              NaN   \n",
       "4                     0               NaN              NaN              NaN   \n",
       "\n",
       "   toilet_feat_Max-Min  toilet_feat_Std  toilet_feat_Variance  \\\n",
       "0                  NaN              NaN                   NaN   \n",
       "1                  NaN              NaN                   NaN   \n",
       "2                  NaN              NaN                   NaN   \n",
       "3                  NaN              NaN                   NaN   \n",
       "4                  NaN              NaN                   NaN   \n",
       "\n",
       "   toilet_feat_RMS  toilet_feat_End-Start  \n",
       "0              NaN                      0  \n",
       "1              NaN                      0  \n",
       "2              NaN                      0  \n",
       "3              NaN                      0  \n",
       "4              NaN                      0  \n",
       "\n",
       "[5 rows x 59 columns]"
      ]
     },
     "execution_count": 11,
     "metadata": {},
     "output_type": "execute_result"
    }
   ],
   "source": [
    "X.head()"
   ]
  },
  {
   "cell_type": "code",
   "execution_count": 12,
   "metadata": {
    "collapsed": false
   },
   "outputs": [],
   "source": [
    "presence = pd.read_csv(\"presence.csv\")"
   ]
  },
  {
   "cell_type": "code",
   "execution_count": 13,
   "metadata": {
    "collapsed": false
   },
   "outputs": [
    {
     "data": {
      "text/html": [
       "<div>\n",
       "<table border=\"1\" class=\"dataframe\">\n",
       "  <thead>\n",
       "    <tr style=\"text-align: right;\">\n",
       "      <th></th>\n",
       "      <th>Time_stamp</th>\n",
       "      <th>Pres_bath</th>\n",
       "      <th>Pres_kitch</th>\n",
       "      <th>Pres_bed</th>\n",
       "    </tr>\n",
       "  </thead>\n",
       "  <tbody>\n",
       "    <tr>\n",
       "      <th>0</th>\n",
       "      <td>2016-02-20 00:01:00</td>\n",
       "      <td>0</td>\n",
       "      <td>0</td>\n",
       "      <td>0</td>\n",
       "    </tr>\n",
       "    <tr>\n",
       "      <th>1</th>\n",
       "      <td>2016-02-20 00:02:00</td>\n",
       "      <td>0</td>\n",
       "      <td>0</td>\n",
       "      <td>0</td>\n",
       "    </tr>\n",
       "    <tr>\n",
       "      <th>2</th>\n",
       "      <td>2016-02-20 00:03:00</td>\n",
       "      <td>0</td>\n",
       "      <td>0</td>\n",
       "      <td>0</td>\n",
       "    </tr>\n",
       "    <tr>\n",
       "      <th>3</th>\n",
       "      <td>2016-02-20 00:04:00</td>\n",
       "      <td>0</td>\n",
       "      <td>0</td>\n",
       "      <td>0</td>\n",
       "    </tr>\n",
       "    <tr>\n",
       "      <th>4</th>\n",
       "      <td>2016-02-20 00:05:00</td>\n",
       "      <td>0</td>\n",
       "      <td>0</td>\n",
       "      <td>0</td>\n",
       "    </tr>\n",
       "  </tbody>\n",
       "</table>\n",
       "</div>"
      ],
      "text/plain": [
       "            Time_stamp  Pres_bath  Pres_kitch  Pres_bed\n",
       "0  2016-02-20 00:01:00          0           0         0\n",
       "1  2016-02-20 00:02:00          0           0         0\n",
       "2  2016-02-20 00:03:00          0           0         0\n",
       "3  2016-02-20 00:04:00          0           0         0\n",
       "4  2016-02-20 00:05:00          0           0         0"
      ]
     },
     "execution_count": 13,
     "metadata": {},
     "output_type": "execute_result"
    }
   ],
   "source": [
    "presence.columns = [u'Time_stamp', u'Pres_bath', u'Pres_kitch', u'Pres_bed']\n",
    "presence.head()"
   ]
  },
  {
   "cell_type": "code",
   "execution_count": 14,
   "metadata": {
    "collapsed": false
   },
   "outputs": [],
   "source": [
    "X2 = pd.merge(X, presence, on=\"Time_stamp\")"
   ]
  },
  {
   "cell_type": "code",
   "execution_count": 15,
   "metadata": {
    "collapsed": false
   },
   "outputs": [
    {
     "data": {
      "text/plain": [
       "(40137, 62)"
      ]
     },
     "execution_count": 15,
     "metadata": {},
     "output_type": "execute_result"
    }
   ],
   "source": [
    "X2.shape"
   ]
  },
  {
   "cell_type": "code",
   "execution_count": null,
   "metadata": {
    "collapsed": false
   },
   "outputs": [],
   "source": [
    "X2.head()"
   ]
  },
  {
   "cell_type": "code",
   "execution_count": 82,
   "metadata": {
    "collapsed": true
   },
   "outputs": [],
   "source": [
    "y = pd.read_csv(\"y.csv\", header=None)"
   ]
  },
  {
   "cell_type": "code",
   "execution_count": 83,
   "metadata": {
    "collapsed": false
   },
   "outputs": [
    {
     "data": {
      "text/plain": [
       "(40137, 2)"
      ]
     },
     "execution_count": 83,
     "metadata": {},
     "output_type": "execute_result"
    }
   ],
   "source": [
    "y.shape"
   ]
  },
  {
   "cell_type": "code",
   "execution_count": 84,
   "metadata": {
    "collapsed": false
   },
   "outputs": [],
   "source": [
    "y.head()\n",
    "y.columns = ['Time_stamp', 'Activity']"
   ]
  },
  {
   "cell_type": "code",
   "execution_count": 85,
   "metadata": {
    "collapsed": false
   },
   "outputs": [
    {
     "data": {
      "text/html": [
       "<div>\n",
       "<table border=\"1\" class=\"dataframe\">\n",
       "  <thead>\n",
       "    <tr style=\"text-align: right;\">\n",
       "      <th></th>\n",
       "      <th>Time_stamp</th>\n",
       "      <th>Activity</th>\n",
       "    </tr>\n",
       "  </thead>\n",
       "  <tbody>\n",
       "    <tr>\n",
       "      <th>0</th>\n",
       "      <td>2016-02-20 00:01:00</td>\n",
       "      <td>Other</td>\n",
       "    </tr>\n",
       "    <tr>\n",
       "      <th>1</th>\n",
       "      <td>2016-02-20 00:02:00</td>\n",
       "      <td>Other</td>\n",
       "    </tr>\n",
       "    <tr>\n",
       "      <th>2</th>\n",
       "      <td>2016-02-20 00:03:00</td>\n",
       "      <td>Other</td>\n",
       "    </tr>\n",
       "    <tr>\n",
       "      <th>3</th>\n",
       "      <td>2016-02-20 00:04:00</td>\n",
       "      <td>Other</td>\n",
       "    </tr>\n",
       "    <tr>\n",
       "      <th>4</th>\n",
       "      <td>2016-02-20 00:05:00</td>\n",
       "      <td>Other</td>\n",
       "    </tr>\n",
       "  </tbody>\n",
       "</table>\n",
       "</div>"
      ],
      "text/plain": [
       "            Time_stamp Activity\n",
       "0  2016-02-20 00:01:00    Other\n",
       "1  2016-02-20 00:02:00    Other\n",
       "2  2016-02-20 00:03:00    Other\n",
       "3  2016-02-20 00:04:00    Other\n",
       "4  2016-02-20 00:05:00    Other"
      ]
     },
     "execution_count": 85,
     "metadata": {},
     "output_type": "execute_result"
    }
   ],
   "source": [
    "y.head()"
   ]
  },
  {
   "cell_type": "code",
   "execution_count": 94,
   "metadata": {
    "collapsed": false
   },
   "outputs": [],
   "source": [
    "Xy = pd.merge(X2, y, on='Time_stamp')"
   ]
  },
  {
   "cell_type": "code",
   "execution_count": 95,
   "metadata": {
    "collapsed": false
   },
   "outputs": [
    {
     "data": {
      "text/plain": [
       "(17612, 63)"
      ]
     },
     "execution_count": 95,
     "metadata": {},
     "output_type": "execute_result"
    }
   ],
   "source": [
    "Xy_dropna = Xy.dropna(axis=0, thresh=35)\n",
    "Xy_dropna.shape"
   ]
  },
  {
   "cell_type": "code",
   "execution_count": 96,
   "metadata": {
    "collapsed": false
   },
   "outputs": [
    {
     "data": {
      "text/html": [
       "<div>\n",
       "<table border=\"1\" class=\"dataframe\">\n",
       "  <thead>\n",
       "    <tr style=\"text-align: right;\">\n",
       "      <th></th>\n",
       "      <th>Time_stamp</th>\n",
       "      <th>bed_feat_Mean</th>\n",
       "      <th>bed_feat_Max</th>\n",
       "      <th>bed_feat_Min</th>\n",
       "      <th>bed_feat_Max-Min</th>\n",
       "      <th>bed_feat_Std</th>\n",
       "      <th>bed_feat_Variance</th>\n",
       "      <th>bed_feat_RMS</th>\n",
       "      <th>bed_feat_End-Start</th>\n",
       "      <th>bed_feat_hour</th>\n",
       "      <th>...</th>\n",
       "      <th>toilet_feat_Min</th>\n",
       "      <th>toilet_feat_Max-Min</th>\n",
       "      <th>toilet_feat_Std</th>\n",
       "      <th>toilet_feat_Variance</th>\n",
       "      <th>toilet_feat_RMS</th>\n",
       "      <th>toilet_feat_End-Start</th>\n",
       "      <th>Pres_bath</th>\n",
       "      <th>Pres_kitch</th>\n",
       "      <th>Pres_bed</th>\n",
       "      <th>Activity</th>\n",
       "    </tr>\n",
       "  </thead>\n",
       "  <tbody>\n",
       "    <tr>\n",
       "      <th>9883</th>\n",
       "      <td>2016-02-26 20:44:00</td>\n",
       "      <td>1.107655</td>\n",
       "      <td>1.134038</td>\n",
       "      <td>1.057584</td>\n",
       "      <td>0.076454</td>\n",
       "      <td>0.031402</td>\n",
       "      <td>0.000986</td>\n",
       "      <td>1.108100</td>\n",
       "      <td>-0.003617</td>\n",
       "      <td>20</td>\n",
       "      <td>...</td>\n",
       "      <td>NaN</td>\n",
       "      <td>NaN</td>\n",
       "      <td>NaN</td>\n",
       "      <td>NaN</td>\n",
       "      <td>NaN</td>\n",
       "      <td>0</td>\n",
       "      <td>0</td>\n",
       "      <td>0</td>\n",
       "      <td>0</td>\n",
       "      <td>Other</td>\n",
       "    </tr>\n",
       "    <tr>\n",
       "      <th>9884</th>\n",
       "      <td>2016-02-26 20:45:00</td>\n",
       "      <td>1.111174</td>\n",
       "      <td>1.133779</td>\n",
       "      <td>1.056180</td>\n",
       "      <td>0.077599</td>\n",
       "      <td>0.030063</td>\n",
       "      <td>0.000904</td>\n",
       "      <td>1.111581</td>\n",
       "      <td>0.000243</td>\n",
       "      <td>20</td>\n",
       "      <td>...</td>\n",
       "      <td>NaN</td>\n",
       "      <td>NaN</td>\n",
       "      <td>NaN</td>\n",
       "      <td>NaN</td>\n",
       "      <td>NaN</td>\n",
       "      <td>0</td>\n",
       "      <td>0</td>\n",
       "      <td>0</td>\n",
       "      <td>0</td>\n",
       "      <td>Other</td>\n",
       "    </tr>\n",
       "    <tr>\n",
       "      <th>9887</th>\n",
       "      <td>2016-02-26 20:48:00</td>\n",
       "      <td>1.117367</td>\n",
       "      <td>1.135657</td>\n",
       "      <td>1.058393</td>\n",
       "      <td>0.077264</td>\n",
       "      <td>0.026098</td>\n",
       "      <td>0.000681</td>\n",
       "      <td>1.117672</td>\n",
       "      <td>0.000286</td>\n",
       "      <td>20</td>\n",
       "      <td>...</td>\n",
       "      <td>NaN</td>\n",
       "      <td>NaN</td>\n",
       "      <td>NaN</td>\n",
       "      <td>NaN</td>\n",
       "      <td>NaN</td>\n",
       "      <td>0</td>\n",
       "      <td>0</td>\n",
       "      <td>0</td>\n",
       "      <td>0</td>\n",
       "      <td>Other</td>\n",
       "    </tr>\n",
       "    <tr>\n",
       "      <th>9888</th>\n",
       "      <td>2016-02-26 20:49:00</td>\n",
       "      <td>1.100872</td>\n",
       "      <td>1.134256</td>\n",
       "      <td>1.056614</td>\n",
       "      <td>0.077642</td>\n",
       "      <td>0.033385</td>\n",
       "      <td>0.001115</td>\n",
       "      <td>1.101378</td>\n",
       "      <td>-0.003988</td>\n",
       "      <td>20</td>\n",
       "      <td>...</td>\n",
       "      <td>NaN</td>\n",
       "      <td>NaN</td>\n",
       "      <td>NaN</td>\n",
       "      <td>NaN</td>\n",
       "      <td>NaN</td>\n",
       "      <td>0</td>\n",
       "      <td>0</td>\n",
       "      <td>0</td>\n",
       "      <td>0</td>\n",
       "      <td>Other</td>\n",
       "    </tr>\n",
       "    <tr>\n",
       "      <th>9889</th>\n",
       "      <td>2016-02-26 20:50:00</td>\n",
       "      <td>1.123205</td>\n",
       "      <td>1.134190</td>\n",
       "      <td>1.058428</td>\n",
       "      <td>0.075762</td>\n",
       "      <td>0.019643</td>\n",
       "      <td>0.000386</td>\n",
       "      <td>1.123377</td>\n",
       "      <td>0.003863</td>\n",
       "      <td>20</td>\n",
       "      <td>...</td>\n",
       "      <td>NaN</td>\n",
       "      <td>NaN</td>\n",
       "      <td>NaN</td>\n",
       "      <td>NaN</td>\n",
       "      <td>NaN</td>\n",
       "      <td>0</td>\n",
       "      <td>0</td>\n",
       "      <td>0</td>\n",
       "      <td>0</td>\n",
       "      <td>Other</td>\n",
       "    </tr>\n",
       "  </tbody>\n",
       "</table>\n",
       "<p>5 rows × 63 columns</p>\n",
       "</div>"
      ],
      "text/plain": [
       "               Time_stamp  bed_feat_Mean  bed_feat_Max  bed_feat_Min  \\\n",
       "9883  2016-02-26 20:44:00       1.107655      1.134038      1.057584   \n",
       "9884  2016-02-26 20:45:00       1.111174      1.133779      1.056180   \n",
       "9887  2016-02-26 20:48:00       1.117367      1.135657      1.058393   \n",
       "9888  2016-02-26 20:49:00       1.100872      1.134256      1.056614   \n",
       "9889  2016-02-26 20:50:00       1.123205      1.134190      1.058428   \n",
       "\n",
       "      bed_feat_Max-Min  bed_feat_Std  bed_feat_Variance  bed_feat_RMS  \\\n",
       "9883          0.076454      0.031402           0.000986      1.108100   \n",
       "9884          0.077599      0.030063           0.000904      1.111581   \n",
       "9887          0.077264      0.026098           0.000681      1.117672   \n",
       "9888          0.077642      0.033385           0.001115      1.101378   \n",
       "9889          0.075762      0.019643           0.000386      1.123377   \n",
       "\n",
       "      bed_feat_End-Start  bed_feat_hour    ...     toilet_feat_Min  \\\n",
       "9883           -0.003617             20    ...                 NaN   \n",
       "9884            0.000243             20    ...                 NaN   \n",
       "9887            0.000286             20    ...                 NaN   \n",
       "9888           -0.003988             20    ...                 NaN   \n",
       "9889            0.003863             20    ...                 NaN   \n",
       "\n",
       "      toilet_feat_Max-Min  toilet_feat_Std  toilet_feat_Variance  \\\n",
       "9883                  NaN              NaN                   NaN   \n",
       "9884                  NaN              NaN                   NaN   \n",
       "9887                  NaN              NaN                   NaN   \n",
       "9888                  NaN              NaN                   NaN   \n",
       "9889                  NaN              NaN                   NaN   \n",
       "\n",
       "      toilet_feat_RMS  toilet_feat_End-Start  Pres_bath  Pres_kitch  Pres_bed  \\\n",
       "9883              NaN                      0          0           0         0   \n",
       "9884              NaN                      0          0           0         0   \n",
       "9887              NaN                      0          0           0         0   \n",
       "9888              NaN                      0          0           0         0   \n",
       "9889              NaN                      0          0           0         0   \n",
       "\n",
       "      Activity  \n",
       "9883     Other  \n",
       "9884     Other  \n",
       "9887     Other  \n",
       "9888     Other  \n",
       "9889     Other  \n",
       "\n",
       "[5 rows x 63 columns]"
      ]
     },
     "execution_count": 96,
     "metadata": {},
     "output_type": "execute_result"
    }
   ],
   "source": [
    "Xy_dropna.head()"
   ]
  },
  {
   "cell_type": "code",
   "execution_count": 97,
   "metadata": {
    "collapsed": false
   },
   "outputs": [
    {
     "name": "stderr",
     "output_type": "stream",
     "text": [
      "/anaconda/lib/python2.7/site-packages/ipykernel/__main__.py:2: SettingWithCopyWarning: \n",
      "A value is trying to be set on a copy of a slice from a DataFrame\n",
      "\n",
      "See the caveats in the documentation: http://pandas.pydata.org/pandas-docs/stable/indexing.html#indexing-view-versus-copy\n",
      "  from ipykernel import kernelapp as app\n"
     ]
    }
   ],
   "source": [
    "y2 = Xy_dropna['Activity']\n",
    "Xy_dropna.drop(['Activity', 'Time_stamp', 'Pres_kitch', 'Pres_bath', 'Pres_bed'], axis=1, inplace =True)\n",
    "# , 'Pres_kitch', 'Pres_bath', 'Pres_bed'"
   ]
  },
  {
   "cell_type": "code",
   "execution_count": 98,
   "metadata": {
    "collapsed": false
   },
   "outputs": [],
   "source": [
    "from sklearn.preprocessing import Imputer\n",
    "imp = Imputer()"
   ]
  },
  {
   "cell_type": "code",
   "execution_count": null,
   "metadata": {
    "collapsed": true
   },
   "outputs": [],
   "source": []
  },
  {
   "cell_type": "code",
   "execution_count": 99,
   "metadata": {
    "collapsed": false
   },
   "outputs": [],
   "source": [
    "Xy_imp = imp.fit_transform(Xy_dropna)"
   ]
  },
  {
   "cell_type": "code",
   "execution_count": 105,
   "metadata": {
    "collapsed": false
   },
   "outputs": [],
   "source": [
    "X3 = pd.DataFrame(Xy_imp)\n",
    "np.sum(X3.isnull());"
   ]
  },
  {
   "cell_type": "code",
   "execution_count": 101,
   "metadata": {
    "collapsed": false
   },
   "outputs": [],
   "source": [
    "mapping = {'Change':0, 'Cook':1, 'Eat':2, 'Other':0, 'Rice cooker':1, 'Shower':3, 'Sleep':4,\n",
    "       'TV':5, 'Toilet':6}\n",
    "y2.replace(mapping, inplace=True)"
   ]
  },
  {
   "cell_type": "code",
   "execution_count": 102,
   "metadata": {
    "collapsed": false
   },
   "outputs": [
    {
     "data": {
      "text/plain": [
       "Counter({0: 11846, 1: 129, 2: 157, 3: 68, 4: 5376, 6: 36})"
      ]
     },
     "execution_count": 102,
     "metadata": {},
     "output_type": "execute_result"
    }
   ],
   "source": [
    "from collections import Counter\n",
    "Counter(y2)"
   ]
  },
  {
   "cell_type": "code",
   "execution_count": 103,
   "metadata": {
    "collapsed": false
   },
   "outputs": [
    {
     "data": {
      "text/plain": [
       "(17612, 58)"
      ]
     },
     "execution_count": 103,
     "metadata": {},
     "output_type": "execute_result"
    }
   ],
   "source": [
    "X3.shape"
   ]
  },
  {
   "cell_type": "code",
   "execution_count": 106,
   "metadata": {
    "collapsed": false
   },
   "outputs": [],
   "source": [
    "from sklearn import tree\n",
    "from sklearn import cross_validation\n",
    "clf = tree.DecisionTreeClassifier()\n",
    "scores = cross_validation.cross_val_score(clf, X3, y2, cv=10)"
   ]
  },
  {
   "cell_type": "code",
   "execution_count": 107,
   "metadata": {
    "collapsed": false
   },
   "outputs": [
    {
     "data": {
      "text/plain": [
       "array([ 0.83096994,  0.54849688,  0.86103233,  0.80657969,  0.75155984,\n",
       "        0.64889393,  0.91704545,  0.83172257,  0.33333333,  0.66761525])"
      ]
     },
     "execution_count": 107,
     "metadata": {},
     "output_type": "execute_result"
    }
   ],
   "source": [
    "scores"
   ]
  },
  {
   "cell_type": "code",
   "execution_count": 112,
   "metadata": {
    "collapsed": false
   },
   "outputs": [
    {
     "data": {
      "text/plain": [
       "0.71972492256542853"
      ]
     },
     "execution_count": 112,
     "metadata": {},
     "output_type": "execute_result"
    }
   ],
   "source": [
    "np.mean(scores)"
   ]
  },
  {
   "cell_type": "code",
   "execution_count": 108,
   "metadata": {
    "collapsed": false
   },
   "outputs": [
    {
     "data": {
      "text/plain": [
       "Counter({0: 11846, 1: 129, 2: 157, 3: 68, 4: 5376, 6: 36})"
      ]
     },
     "execution_count": 108,
     "metadata": {},
     "output_type": "execute_result"
    }
   ],
   "source": [
    "Counter(y2)"
   ]
  },
  {
   "cell_type": "code",
   "execution_count": 109,
   "metadata": {
    "collapsed": true
   },
   "outputs": [],
   "source": [
    "from sklearn.cross_validation import train_test_split\n",
    "X_train, X_test, y_train, y_test = train_test_split(X3, y2, test_size=0.33, random_state=2)"
   ]
  },
  {
   "cell_type": "code",
   "execution_count": 110,
   "metadata": {
    "collapsed": false
   },
   "outputs": [],
   "source": [
    "clf = tree.DecisionTreeClassifier()\n",
    "clf.fit(X_train, y_train)\n",
    "y_pred = clf.predict(X_test)"
   ]
  },
  {
   "cell_type": "code",
   "execution_count": 111,
   "metadata": {
    "collapsed": false
   },
   "outputs": [
    {
     "data": {
      "text/plain": [
       "array([[3798,   22,   13,   21,   49,    9],\n",
       "       [  18,   23,    5,    0,    0,    0],\n",
       "       [  18,   13,   27,    1,    0,    0],\n",
       "       [  18,    0,    0,    4,    0,    0],\n",
       "       [  37,    0,    0,    2, 1724,    1],\n",
       "       [   8,    0,    0,    0,    1,    0]])"
      ]
     },
     "execution_count": 111,
     "metadata": {},
     "output_type": "execute_result"
    }
   ],
   "source": [
    "from sklearn.metrics import confusion_matrix\n",
    "confusion_matrix(y_pred, y_test)"
   ]
  },
  {
   "cell_type": "code",
   "execution_count": 51,
   "metadata": {
    "collapsed": false
   },
   "outputs": [
    {
     "data": {
      "text/plain": [
       "12.230555555555556"
      ]
     },
     "execution_count": 51,
     "metadata": {},
     "output_type": "execute_result"
    }
   ],
   "source": [
    "17612.0/(60*24)"
   ]
  },
  {
   "cell_type": "markdown",
   "metadata": {},
   "source": [
    "## Counter"
   ]
  },
  {
   "cell_type": "code",
   "execution_count": 113,
   "metadata": {
    "collapsed": false
   },
   "outputs": [
    {
     "data": {
      "text/plain": [
       "'/Users/marie/Documents/Capstone/Capstone_MachineLearning/New data/sensor files'"
      ]
     },
     "execution_count": 113,
     "metadata": {},
     "output_type": "execute_result"
    }
   ],
   "source": [
    "import os\n",
    "os.chdir('/Users/marie/Documents/Capstone/Capstone_MachineLearning/New data/sensor files')\n",
    "os.getcwd()"
   ]
  },
  {
   "cell_type": "code",
   "execution_count": 117,
   "metadata": {
    "collapsed": true
   },
   "outputs": [],
   "source": [
    "humidity = pd.read_csv(\"20160329232406 to 20160401232729 B0B448B8A585 Humidity(rH).csv\", header=None)"
   ]
  },
  {
   "cell_type": "code",
   "execution_count": 118,
   "metadata": {
    "collapsed": false
   },
   "outputs": [
    {
     "data": {
      "text/plain": [
       "(603101, 4)"
      ]
     },
     "execution_count": 118,
     "metadata": {},
     "output_type": "execute_result"
    }
   ],
   "source": [
    "humidity.shape"
   ]
  },
  {
   "cell_type": "code",
   "execution_count": 119,
   "metadata": {
    "collapsed": false
   },
   "outputs": [
    {
     "data": {
      "text/html": [
       "<div>\n",
       "<table border=\"1\" class=\"dataframe\">\n",
       "  <thead>\n",
       "    <tr style=\"text-align: right;\">\n",
       "      <th></th>\n",
       "      <th>0</th>\n",
       "      <th>1</th>\n",
       "      <th>2</th>\n",
       "      <th>3</th>\n",
       "    </tr>\n",
       "  </thead>\n",
       "  <tbody>\n",
       "    <tr>\n",
       "      <th>0</th>\n",
       "      <td>2016-03-29 23:24:16.730</td>\n",
       "      <td>B0:B4:48:B8:A5:85</td>\n",
       "      <td>Humidity(rH)</td>\n",
       "      <td>82.929581</td>\n",
       "    </tr>\n",
       "    <tr>\n",
       "      <th>1</th>\n",
       "      <td>2016-03-29 23:24:16.963</td>\n",
       "      <td>B0:B4:48:B8:A5:85</td>\n",
       "      <td>Humidity(rH)</td>\n",
       "      <td>-1.017930</td>\n",
       "    </tr>\n",
       "    <tr>\n",
       "      <th>2</th>\n",
       "      <td>2016-03-29 23:24:17.696</td>\n",
       "      <td>B0:B4:48:B8:A5:85</td>\n",
       "      <td>Humidity(rH)</td>\n",
       "      <td>82.929581</td>\n",
       "    </tr>\n",
       "    <tr>\n",
       "      <th>3</th>\n",
       "      <td>2016-03-29 23:24:17.989</td>\n",
       "      <td>B0:B4:48:B8:A5:85</td>\n",
       "      <td>Humidity(rH)</td>\n",
       "      <td>-1.017930</td>\n",
       "    </tr>\n",
       "    <tr>\n",
       "      <th>4</th>\n",
       "      <td>2016-03-29 23:24:18.726</td>\n",
       "      <td>B0:B4:48:B8:A5:85</td>\n",
       "      <td>Humidity(rH)</td>\n",
       "      <td>82.929581</td>\n",
       "    </tr>\n",
       "  </tbody>\n",
       "</table>\n",
       "</div>"
      ],
      "text/plain": [
       "                         0                  1             2          3\n",
       "0  2016-03-29 23:24:16.730  B0:B4:48:B8:A5:85  Humidity(rH)  82.929581\n",
       "1  2016-03-29 23:24:16.963  B0:B4:48:B8:A5:85  Humidity(rH)  -1.017930\n",
       "2  2016-03-29 23:24:17.696  B0:B4:48:B8:A5:85  Humidity(rH)  82.929581\n",
       "3  2016-03-29 23:24:17.989  B0:B4:48:B8:A5:85  Humidity(rH)  -1.017930\n",
       "4  2016-03-29 23:24:18.726  B0:B4:48:B8:A5:85  Humidity(rH)  82.929581"
      ]
     },
     "execution_count": 119,
     "metadata": {},
     "output_type": "execute_result"
    }
   ],
   "source": [
    "humidity.head()"
   ]
  },
  {
   "cell_type": "code",
   "execution_count": 142,
   "metadata": {
    "collapsed": false
   },
   "outputs": [
    {
     "name": "stdout",
     "output_type": "stream",
     "text": [
      "[(82.929580688476562, 301933), (-1.1628899574279783, 10465), (-1.1552605628967283, 8263)]\n"
     ]
    }
   ],
   "source": [
    "c_h = Counter(humidity[3])\n",
    "print c_h.most_common(3)"
   ]
  },
  {
   "cell_type": "code",
   "execution_count": 139,
   "metadata": {
    "collapsed": true
   },
   "outputs": [],
   "source": [
    "mattress = pd.read_csv(\"20160328170855 to 20160331171411 B0B448B8F204 Accelerometer(G).csv\", header=None)"
   ]
  },
  {
   "cell_type": "code",
   "execution_count": 140,
   "metadata": {
    "collapsed": false
   },
   "outputs": [
    {
     "data": {
      "text/plain": [
       "(1528201, 14)"
      ]
     },
     "execution_count": 140,
     "metadata": {},
     "output_type": "execute_result"
    }
   ],
   "source": [
    "mattress.shape"
   ]
  },
  {
   "cell_type": "code",
   "execution_count": 141,
   "metadata": {
    "collapsed": false
   },
   "outputs": [
    {
     "name": "stdout",
     "output_type": "stream",
     "text": [
      "[(-0.0, 81399), (0.02587890625, 36179), (0.025634765625, 35797)]\n"
     ]
    }
   ],
   "source": [
    "c_h = Counter(mattress[3])\n",
    "print c_h.most_common(3)"
   ]
  },
  {
   "cell_type": "code",
   "execution_count": 125,
   "metadata": {
    "collapsed": true
   },
   "outputs": [],
   "source": [
    "humidity_2 = pd.read_csv('20160402112805 to 20160405113116 B0B448B8A585 Humidity(rH).csv', header=None)"
   ]
  },
  {
   "cell_type": "code",
   "execution_count": 127,
   "metadata": {
    "collapsed": false
   },
   "outputs": [
    {
     "data": {
      "text/html": [
       "<div>\n",
       "<table border=\"1\" class=\"dataframe\">\n",
       "  <thead>\n",
       "    <tr style=\"text-align: right;\">\n",
       "      <th></th>\n",
       "      <th>0</th>\n",
       "      <th>1</th>\n",
       "      <th>2</th>\n",
       "      <th>3</th>\n",
       "    </tr>\n",
       "  </thead>\n",
       "  <tbody>\n",
       "    <tr>\n",
       "      <th>0</th>\n",
       "      <td>2016-03-29 23:24:16.730</td>\n",
       "      <td>B0:B4:48:B8:A5:85</td>\n",
       "      <td>Humidity(rH)</td>\n",
       "      <td>82.929581</td>\n",
       "    </tr>\n",
       "    <tr>\n",
       "      <th>1</th>\n",
       "      <td>2016-03-29 23:24:16.963</td>\n",
       "      <td>B0:B4:48:B8:A5:85</td>\n",
       "      <td>Humidity(rH)</td>\n",
       "      <td>-1.017930</td>\n",
       "    </tr>\n",
       "    <tr>\n",
       "      <th>2</th>\n",
       "      <td>2016-03-29 23:24:17.696</td>\n",
       "      <td>B0:B4:48:B8:A5:85</td>\n",
       "      <td>Humidity(rH)</td>\n",
       "      <td>82.929581</td>\n",
       "    </tr>\n",
       "    <tr>\n",
       "      <th>3</th>\n",
       "      <td>2016-03-29 23:24:17.989</td>\n",
       "      <td>B0:B4:48:B8:A5:85</td>\n",
       "      <td>Humidity(rH)</td>\n",
       "      <td>-1.017930</td>\n",
       "    </tr>\n",
       "    <tr>\n",
       "      <th>4</th>\n",
       "      <td>2016-03-29 23:24:18.726</td>\n",
       "      <td>B0:B4:48:B8:A5:85</td>\n",
       "      <td>Humidity(rH)</td>\n",
       "      <td>82.929581</td>\n",
       "    </tr>\n",
       "  </tbody>\n",
       "</table>\n",
       "</div>"
      ],
      "text/plain": [
       "                         0                  1             2          3\n",
       "0  2016-03-29 23:24:16.730  B0:B4:48:B8:A5:85  Humidity(rH)  82.929581\n",
       "1  2016-03-29 23:24:16.963  B0:B4:48:B8:A5:85  Humidity(rH)  -1.017930\n",
       "2  2016-03-29 23:24:17.696  B0:B4:48:B8:A5:85  Humidity(rH)  82.929581\n",
       "3  2016-03-29 23:24:17.989  B0:B4:48:B8:A5:85  Humidity(rH)  -1.017930\n",
       "4  2016-03-29 23:24:18.726  B0:B4:48:B8:A5:85  Humidity(rH)  82.929581"
      ]
     },
     "execution_count": 127,
     "metadata": {},
     "output_type": "execute_result"
    }
   ],
   "source": [
    "humidity.head()"
   ]
  },
  {
   "cell_type": "code",
   "execution_count": 137,
   "metadata": {
    "collapsed": false
   },
   "outputs": [
    {
     "name": "stdout",
     "output_type": "stream",
     "text": [
      "[(82.929580688476562, 302001), (-0.88822746276855469, 9401), (-0.78904390335083008, 8739)]\n"
     ]
    }
   ],
   "source": [
    "c_h_2 = Counter(humidity_2[3])\n",
    "print c_h_2.most_common(3)"
   ]
  },
  {
   "cell_type": "code",
   "execution_count": 129,
   "metadata": {
    "collapsed": false
   },
   "outputs": [
    {
     "data": {
      "text/plain": [
       "(603248, 4)"
      ]
     },
     "execution_count": 129,
     "metadata": {},
     "output_type": "execute_result"
    }
   ],
   "source": [
    "humidity_2.shape"
   ]
  },
  {
   "cell_type": "code",
   "execution_count": 130,
   "metadata": {
    "collapsed": true
   },
   "outputs": [],
   "source": [
    "mattress_2 = pd.read_csv('20160401051452 to 20160409121927 B0B448B8F204 Accelerometer(G).csv', header=None)"
   ]
  },
  {
   "cell_type": "code",
   "execution_count": 131,
   "metadata": {
    "collapsed": false
   },
   "outputs": [
    {
     "data": {
      "text/plain": [
       "(849009, 14)"
      ]
     },
     "execution_count": 131,
     "metadata": {},
     "output_type": "execute_result"
    }
   ],
   "source": [
    "mattress_2.shape"
   ]
  },
  {
   "cell_type": "code",
   "execution_count": 132,
   "metadata": {
    "collapsed": false
   },
   "outputs": [
    {
     "data": {
      "text/html": [
       "<div>\n",
       "<table border=\"1\" class=\"dataframe\">\n",
       "  <thead>\n",
       "    <tr style=\"text-align: right;\">\n",
       "      <th></th>\n",
       "      <th>0</th>\n",
       "      <th>1</th>\n",
       "      <th>2</th>\n",
       "      <th>3</th>\n",
       "      <th>4</th>\n",
       "      <th>5</th>\n",
       "      <th>6</th>\n",
       "      <th>7</th>\n",
       "      <th>8</th>\n",
       "      <th>9</th>\n",
       "      <th>10</th>\n",
       "      <th>11</th>\n",
       "      <th>12</th>\n",
       "      <th>13</th>\n",
       "    </tr>\n",
       "  </thead>\n",
       "  <tbody>\n",
       "    <tr>\n",
       "      <th>0</th>\n",
       "      <td>2016-04-01 05:11:34.103</td>\n",
       "      <td>B0:B4:48:B8:F2:04</td>\n",
       "      <td>Accelerometer(G)</td>\n",
       "      <td>0.019287</td>\n",
       "      <td>0.001709</td>\n",
       "      <td>1.060059</td>\n",
       "      <td>Gyroscope(deg/s)</td>\n",
       "      <td>-2.765625</td>\n",
       "      <td>0.375000</td>\n",
       "      <td>0.445312</td>\n",
       "      <td>Magnetometer(uT)</td>\n",
       "      <td>0</td>\n",
       "      <td>0</td>\n",
       "      <td>0</td>\n",
       "    </tr>\n",
       "    <tr>\n",
       "      <th>1</th>\n",
       "      <td>2016-04-01 05:11:34.443</td>\n",
       "      <td>B0:B4:48:B8:F2:04</td>\n",
       "      <td>Accelerometer(G)</td>\n",
       "      <td>-0.000000</td>\n",
       "      <td>0.000000</td>\n",
       "      <td>-0.000000</td>\n",
       "      <td>Gyroscope(deg/s)</td>\n",
       "      <td>0.000000</td>\n",
       "      <td>0.000000</td>\n",
       "      <td>0.000000</td>\n",
       "      <td>Magnetometer(uT)</td>\n",
       "      <td>0</td>\n",
       "      <td>0</td>\n",
       "      <td>0</td>\n",
       "    </tr>\n",
       "    <tr>\n",
       "      <th>2</th>\n",
       "      <td>2016-04-01 05:11:34.445</td>\n",
       "      <td>B0:B4:48:B8:F2:04</td>\n",
       "      <td>Accelerometer(G)</td>\n",
       "      <td>0.018799</td>\n",
       "      <td>-0.066162</td>\n",
       "      <td>1.058105</td>\n",
       "      <td>Gyroscope(deg/s)</td>\n",
       "      <td>-2.890625</td>\n",
       "      <td>0.781250</td>\n",
       "      <td>0.234375</td>\n",
       "      <td>Magnetometer(uT)</td>\n",
       "      <td>0</td>\n",
       "      <td>0</td>\n",
       "      <td>0</td>\n",
       "    </tr>\n",
       "    <tr>\n",
       "      <th>3</th>\n",
       "      <td>2016-04-01 05:11:34.638</td>\n",
       "      <td>B0:B4:48:B8:F2:04</td>\n",
       "      <td>Accelerometer(G)</td>\n",
       "      <td>0.016357</td>\n",
       "      <td>-0.063232</td>\n",
       "      <td>1.126221</td>\n",
       "      <td>Gyroscope(deg/s)</td>\n",
       "      <td>-2.859375</td>\n",
       "      <td>0.523438</td>\n",
       "      <td>0.414062</td>\n",
       "      <td>Magnetometer(uT)</td>\n",
       "      <td>0</td>\n",
       "      <td>0</td>\n",
       "      <td>0</td>\n",
       "    </tr>\n",
       "    <tr>\n",
       "      <th>4</th>\n",
       "      <td>2016-04-01 05:11:34.833</td>\n",
       "      <td>B0:B4:48:B8:F2:04</td>\n",
       "      <td>Accelerometer(G)</td>\n",
       "      <td>0.017578</td>\n",
       "      <td>-0.065430</td>\n",
       "      <td>1.130127</td>\n",
       "      <td>Gyroscope(deg/s)</td>\n",
       "      <td>-2.843750</td>\n",
       "      <td>0.500000</td>\n",
       "      <td>0.398438</td>\n",
       "      <td>Magnetometer(uT)</td>\n",
       "      <td>0</td>\n",
       "      <td>0</td>\n",
       "      <td>0</td>\n",
       "    </tr>\n",
       "  </tbody>\n",
       "</table>\n",
       "</div>"
      ],
      "text/plain": [
       "                        0                  1                 2         3   \\\n",
       "0  2016-04-01 05:11:34.103  B0:B4:48:B8:F2:04  Accelerometer(G)  0.019287   \n",
       "1  2016-04-01 05:11:34.443  B0:B4:48:B8:F2:04  Accelerometer(G) -0.000000   \n",
       "2  2016-04-01 05:11:34.445  B0:B4:48:B8:F2:04  Accelerometer(G)  0.018799   \n",
       "3  2016-04-01 05:11:34.638  B0:B4:48:B8:F2:04  Accelerometer(G)  0.016357   \n",
       "4  2016-04-01 05:11:34.833  B0:B4:48:B8:F2:04  Accelerometer(G)  0.017578   \n",
       "\n",
       "         4         5                 6         7         8         9   \\\n",
       "0  0.001709  1.060059  Gyroscope(deg/s) -2.765625  0.375000  0.445312   \n",
       "1  0.000000 -0.000000  Gyroscope(deg/s)  0.000000  0.000000  0.000000   \n",
       "2 -0.066162  1.058105  Gyroscope(deg/s) -2.890625  0.781250  0.234375   \n",
       "3 -0.063232  1.126221  Gyroscope(deg/s) -2.859375  0.523438  0.414062   \n",
       "4 -0.065430  1.130127  Gyroscope(deg/s) -2.843750  0.500000  0.398438   \n",
       "\n",
       "                 10  11  12  13  \n",
       "0  Magnetometer(uT)   0   0   0  \n",
       "1  Magnetometer(uT)   0   0   0  \n",
       "2  Magnetometer(uT)   0   0   0  \n",
       "3  Magnetometer(uT)   0   0   0  \n",
       "4  Magnetometer(uT)   0   0   0  "
      ]
     },
     "execution_count": 132,
     "metadata": {},
     "output_type": "execute_result"
    }
   ],
   "source": [
    "mattress_2.head()"
   ]
  },
  {
   "cell_type": "code",
   "execution_count": 136,
   "metadata": {
    "collapsed": false
   },
   "outputs": [
    {
     "name": "stdout",
     "output_type": "stream",
     "text": [
      "[(0.0, 48423), (1.270159125328064, 76), (1.2723643183708191, 73)]\n"
     ]
    }
   ],
   "source": [
    "c = Counter(mattress_2[3]**2+mattress_2[4]**2+mattress_2[5]**2)\n",
    "print c.most_common(3)"
   ]
  },
  {
   "cell_type": "code",
   "execution_count": 135,
   "metadata": {
    "collapsed": false
   },
   "outputs": [
    {
     "data": {
      "text/plain": [
       "5.703473108058925"
      ]
     },
     "execution_count": 135,
     "metadata": {},
     "output_type": "execute_result"
    }
   ],
   "source": [
    "48423/849009.0 * 100"
   ]
  },
  {
   "cell_type": "code",
   "execution_count": 145,
   "metadata": {
    "collapsed": false
   },
   "outputs": [
    {
     "name": "stdout",
     "output_type": "stream",
     "text": [
      "[(-0.0, 48423), (0.025390625, 26764), (0.025634765625, 26753)]\n"
     ]
    }
   ],
   "source": [
    "cb = Counter(mattress_2[3])\n",
    "print cb.most_common(3)"
   ]
  },
  {
   "cell_type": "code",
   "execution_count": 147,
   "metadata": {
    "collapsed": false
   },
   "outputs": [],
   "source": [
    "toilet = pd.read_csv(\"20160329232406 to 20160401232729 B0B448D01606 Accelerometer(G).csv\", header=None)"
   ]
  },
  {
   "cell_type": "code",
   "execution_count": 148,
   "metadata": {
    "collapsed": false
   },
   "outputs": [
    {
     "data": {
      "text/html": [
       "<div>\n",
       "<table border=\"1\" class=\"dataframe\">\n",
       "  <thead>\n",
       "    <tr style=\"text-align: right;\">\n",
       "      <th></th>\n",
       "      <th>0</th>\n",
       "      <th>1</th>\n",
       "      <th>2</th>\n",
       "      <th>3</th>\n",
       "      <th>4</th>\n",
       "      <th>5</th>\n",
       "      <th>6</th>\n",
       "      <th>7</th>\n",
       "      <th>8</th>\n",
       "      <th>9</th>\n",
       "      <th>10</th>\n",
       "      <th>11</th>\n",
       "      <th>12</th>\n",
       "      <th>13</th>\n",
       "    </tr>\n",
       "  </thead>\n",
       "  <tbody>\n",
       "    <tr>\n",
       "      <th>0</th>\n",
       "      <td>2016-03-29 23:24:14.138</td>\n",
       "      <td>B0:B4:48:D0:16:06</td>\n",
       "      <td>Accelerometer(G)</td>\n",
       "      <td>0.142822</td>\n",
       "      <td>1.006348</td>\n",
       "      <td>0.138184</td>\n",
       "      <td>Gyroscope(deg/s)</td>\n",
       "      <td>-2.296875</td>\n",
       "      <td>-0.750000</td>\n",
       "      <td>0.867188</td>\n",
       "      <td>Magnetometer(uT)</td>\n",
       "      <td>43.000000</td>\n",
       "      <td>-59.000000</td>\n",
       "      <td>-104.500000</td>\n",
       "    </tr>\n",
       "    <tr>\n",
       "      <th>1</th>\n",
       "      <td>2016-03-29 23:24:14.335</td>\n",
       "      <td>B0:B4:48:D0:16:06</td>\n",
       "      <td>Accelerometer(G)</td>\n",
       "      <td>0.142822</td>\n",
       "      <td>1.004639</td>\n",
       "      <td>0.133545</td>\n",
       "      <td>Gyroscope(deg/s)</td>\n",
       "      <td>-2.726562</td>\n",
       "      <td>-0.593750</td>\n",
       "      <td>0.703125</td>\n",
       "      <td>Magnetometer(uT)</td>\n",
       "      <td>-1.666667</td>\n",
       "      <td>-60.333332</td>\n",
       "      <td>-104.500000</td>\n",
       "    </tr>\n",
       "    <tr>\n",
       "      <th>2</th>\n",
       "      <td>2016-03-29 23:24:14.569</td>\n",
       "      <td>B0:B4:48:D0:16:06</td>\n",
       "      <td>Accelerometer(G)</td>\n",
       "      <td>0.143311</td>\n",
       "      <td>1.007324</td>\n",
       "      <td>0.135498</td>\n",
       "      <td>Gyroscope(deg/s)</td>\n",
       "      <td>-2.351562</td>\n",
       "      <td>-0.632812</td>\n",
       "      <td>0.820312</td>\n",
       "      <td>Magnetometer(uT)</td>\n",
       "      <td>-2.000000</td>\n",
       "      <td>-59.833332</td>\n",
       "      <td>-102.833336</td>\n",
       "    </tr>\n",
       "    <tr>\n",
       "      <th>3</th>\n",
       "      <td>2016-03-29 23:24:14.709</td>\n",
       "      <td>B0:B4:48:D0:16:06</td>\n",
       "      <td>Accelerometer(G)</td>\n",
       "      <td>0.140137</td>\n",
       "      <td>1.008789</td>\n",
       "      <td>0.133057</td>\n",
       "      <td>Gyroscope(deg/s)</td>\n",
       "      <td>-2.312500</td>\n",
       "      <td>-0.750000</td>\n",
       "      <td>-0.976562</td>\n",
       "      <td>Magnetometer(uT)</td>\n",
       "      <td>-1.833333</td>\n",
       "      <td>-60.500000</td>\n",
       "      <td>-103.833336</td>\n",
       "    </tr>\n",
       "    <tr>\n",
       "      <th>4</th>\n",
       "      <td>2016-03-29 23:24:14.924</td>\n",
       "      <td>B0:B4:48:D0:16:06</td>\n",
       "      <td>Accelerometer(G)</td>\n",
       "      <td>0.147705</td>\n",
       "      <td>1.005859</td>\n",
       "      <td>0.136230</td>\n",
       "      <td>Gyroscope(deg/s)</td>\n",
       "      <td>-2.273438</td>\n",
       "      <td>-0.710938</td>\n",
       "      <td>0.812500</td>\n",
       "      <td>Magnetometer(uT)</td>\n",
       "      <td>-0.166667</td>\n",
       "      <td>-59.166668</td>\n",
       "      <td>-103.833336</td>\n",
       "    </tr>\n",
       "  </tbody>\n",
       "</table>\n",
       "</div>"
      ],
      "text/plain": [
       "                        0                  1                 2         3   \\\n",
       "0  2016-03-29 23:24:14.138  B0:B4:48:D0:16:06  Accelerometer(G)  0.142822   \n",
       "1  2016-03-29 23:24:14.335  B0:B4:48:D0:16:06  Accelerometer(G)  0.142822   \n",
       "2  2016-03-29 23:24:14.569  B0:B4:48:D0:16:06  Accelerometer(G)  0.143311   \n",
       "3  2016-03-29 23:24:14.709  B0:B4:48:D0:16:06  Accelerometer(G)  0.140137   \n",
       "4  2016-03-29 23:24:14.924  B0:B4:48:D0:16:06  Accelerometer(G)  0.147705   \n",
       "\n",
       "         4         5                 6         7         8         9   \\\n",
       "0  1.006348  0.138184  Gyroscope(deg/s) -2.296875 -0.750000  0.867188   \n",
       "1  1.004639  0.133545  Gyroscope(deg/s) -2.726562 -0.593750  0.703125   \n",
       "2  1.007324  0.135498  Gyroscope(deg/s) -2.351562 -0.632812  0.820312   \n",
       "3  1.008789  0.133057  Gyroscope(deg/s) -2.312500 -0.750000 -0.976562   \n",
       "4  1.005859  0.136230  Gyroscope(deg/s) -2.273438 -0.710938  0.812500   \n",
       "\n",
       "                 10         11         12          13  \n",
       "0  Magnetometer(uT)  43.000000 -59.000000 -104.500000  \n",
       "1  Magnetometer(uT)  -1.666667 -60.333332 -104.500000  \n",
       "2  Magnetometer(uT)  -2.000000 -59.833332 -102.833336  \n",
       "3  Magnetometer(uT)  -1.833333 -60.500000 -103.833336  \n",
       "4  Magnetometer(uT)  -0.166667 -59.166668 -103.833336  "
      ]
     },
     "execution_count": 148,
     "metadata": {},
     "output_type": "execute_result"
    }
   ],
   "source": [
    "toilet.head()"
   ]
  },
  {
   "cell_type": "code",
   "execution_count": 151,
   "metadata": {
    "collapsed": false
   },
   "outputs": [
    {
     "data": {
      "text/plain": [
       "Counter({0.0: 71,\n",
       "         87.5: 1,\n",
       "         120.29016130133317: 18,\n",
       "         119.48663401251255: 179,\n",
       "         120.71753011768453: 1,\n",
       "         121.02685652366586: 156,\n",
       "         127.59430046293957: 14,\n",
       "         117.51619493019177: 17,\n",
       "         119.27780365353534: 24,\n",
       "         127.81268536368489: 1,\n",
       "         129.92102569386083: 466,\n",
       "         127.04089618306176: 441,\n",
       "         87.226077310765731: 8,\n",
       "         120.53653266196879: 690,\n",
       "         128.37824141089399: 332,\n",
       "         128.96662091651805: 863,\n",
       "         125.82107903640063: 4,\n",
       "         119.47128675584072: 436,\n",
       "         119.53741859523038: 85,\n",
       "         87.475393367442635: 3,\n",
       "         129.60163217525403: 410,\n",
       "         117.18433057203549: 1,\n",
       "         125.51416462722841: 1,\n",
       "         128.16980923758916: 30,\n",
       "         121.00516234733765: 1,\n",
       "         118.73523450818317: 1,\n",
       "         87.748693172979685: 1,\n",
       "         124.52420617357949: 1,\n",
       "         88.365087760964414: 9,\n",
       "         116.75211219654732: 1,\n",
       "         117.51370918073734: 5,\n",
       "         125.8518745808486: 171,\n",
       "         121.91800679226252: 50,\n",
       "         125.98203284883512: 64,\n",
       "         87.147865591961178: 1,\n",
       "         120.57489825131566: 161,\n",
       "         119.80075899951136: 4,\n",
       "         98.552437593792234: 8,\n",
       "         99.021462320044535: 4,\n",
       "         119.04352675744823: 416,\n",
       "         118.20850507044474: 263,\n",
       "         129.64760117160989: 47,\n",
       "         120.5860688471102: 293,\n",
       "         118.04966155434575: 52,\n",
       "         126.23545270815653: 757,\n",
       "         116.91236317584196: 3,\n",
       "         130.48158702648965: 3,\n",
       "         122.25269538458053: 167,\n",
       "         120.3657635145489: 1,\n",
       "         130.31905187556063: 2,\n",
       "         99.618296866916751: 6,\n",
       "         128.94637228241251: 3,\n",
       "         119.16852926308067: 555,\n",
       "         97.161235779693428: 1,\n",
       "         125.19163150437716: 3,\n",
       "         100.61988483746302: 1,\n",
       "         88.304241540900179: 2,\n",
       "         120.08573610442646: 58,\n",
       "         121.99851719071536: 423,\n",
       "         125.33698813202633: 37,\n",
       "         122.22974943467796: 121,\n",
       "         121.90934544046961: 2,\n",
       "         129.64577869951734: 123,\n",
       "         85.828962388826383: 1,\n",
       "         87.843611036887594: 1,\n",
       "         126.92670927768755: 170,\n",
       "         129.17623620465181: 3,\n",
       "         128.06693113492673: 53,\n",
       "         88.352358296363576: 18,\n",
       "         121.43974206931112: 83,\n",
       "         118.83146612472437: 218,\n",
       "         129.21096280778752: 89,\n",
       "         121.35130297696936: 1897,\n",
       "         128.39230346449145: 20,\n",
       "         121.35359199355113: 1520,\n",
       "         128.50540261759056: 1,\n",
       "         118.22084138499116: 46,\n",
       "         129.81375339739441: 153,\n",
       "         128.60458614549358: 57,\n",
       "         118.91243117445524: 3,\n",
       "         121.64726029221305: 733,\n",
       "         126.95909273667253: 1,\n",
       "         120.31221181155175: 398,\n",
       "         119.71354854844564: 5,\n",
       "         125.02333301718687: 1,\n",
       "         88.53843927444116: 142,\n",
       "         119.33030945823874: 13,\n",
       "         128.54625033506878: 31,\n",
       "         126.66118143987522: 6,\n",
       "         129.77213185982936: 19,\n",
       "         126.94377477252674: 2,\n",
       "         88.335376465608803: 71,\n",
       "         128.56796985084767: 88,\n",
       "         129.89237205708844: 14,\n",
       "         121.68938082790559: 82,\n",
       "         117.27022228792217: 1,\n",
       "         129.5213414415858: 217,\n",
       "         119.29817695343021: 1,\n",
       "         128.44248459613979: 12,\n",
       "         121.98872898755852: 1,\n",
       "         130.14884539369797: 255,\n",
       "         117.58696545311021: 33,\n",
       "         125.02544229431713: 6,\n",
       "         225.36637559223203: 1,\n",
       "         120.11522530261301: 11,\n",
       "         121.71129472998184: 476,\n",
       "         130.81974555565677: 12,\n",
       "         130.58628687047153: 24,\n",
       "         123.01592193745988: 28,\n",
       "         126.81230870556202: 39,\n",
       "         118.67766519361071: 10,\n",
       "         121.37956994486346: 2,\n",
       "         122.91652694780419: 2,\n",
       "         127.59539100749605: 31,\n",
       "         127.36910329905825: 44,\n",
       "         126.65197120883131: 50,\n",
       "         121.86855457792655: 23,\n",
       "         127.60845371233107: 23,\n",
       "         125.75759324459807: 13,\n",
       "         119.88350889616109: 23,\n",
       "         120.65584820003116: 2,\n",
       "         102.44863387533798: 1,\n",
       "         128.53307159391906: 480,\n",
       "         121.58010399437808: 1275,\n",
       "         127.01421660936079: 773,\n",
       "         121.4159501573768: 1287,\n",
       "         129.53978619499472: 9,\n",
       "         122.48015931016577: 87,\n",
       "         99.622340791323381: 7,\n",
       "         120.77297405815298: 1958,\n",
       "         127.05871237635343: 30,\n",
       "         122.63552528245202: 3,\n",
       "         128.01616796730718: 8,\n",
       "         123.25154946202026: 4,\n",
       "         130.93096334063137: 18,\n",
       "         88.852871917527722: 2,\n",
       "         97.559381728810209: 343,\n",
       "         97.709745345659599: 1,\n",
       "         125.4373455704509: 1,\n",
       "         119.87829411356536: 493,\n",
       "         118.63271923355302: 107,\n",
       "         121.70193334022645: 2,\n",
       "         122.0753426064326: 815,\n",
       "         127.34915073209618: 1,\n",
       "         120.44662410054966: 18,\n",
       "         123.25955155261192: 19,\n",
       "         129.93908608725289: 1,\n",
       "         119.79519621240786: 55,\n",
       "         119.55252054995447: 1,\n",
       "         129.38604714717292: 3,\n",
       "         122.42480532050878: 37,\n",
       "         88.057587430544601: 2,\n",
       "         117.83133019860668: 1,\n",
       "         121.85510364104194: 622,\n",
       "         128.12005863740575: 1532,\n",
       "         127.87027112649179: 6,\n",
       "         117.80975499360413: 23,\n",
       "         127.22082740892706: 49,\n",
       "         87.117739166902297: 13,\n",
       "         117.29461955965978: 1,\n",
       "         119.56994921550741: 36,\n",
       "         89.27749935249625: 3,\n",
       "         119.32553665579401: 18,\n",
       "         122.22577234218481: 264,\n",
       "         118.61352089758707: 5,\n",
       "         99.122958781886211: 7,\n",
       "         129.08319902341231: 698,\n",
       "         119.96411560002015: 1,\n",
       "         122.08899366490046: 206,\n",
       "         118.20932469340536: 107,\n",
       "         88.849125787787912: 1,\n",
       "         130.69440666916171: 64,\n",
       "         122.32300294307119: 657,\n",
       "         129.91065513889569: 467,\n",
       "         119.39453677209259: 3,\n",
       "         99.999029112447275: 1,\n",
       "         117.14722298477376: 3,\n",
       "         126.37653219181105: 73,\n",
       "         121.11438639194917: 26,\n",
       "         129.76881195713432: 2,\n",
       "         128.5286388305625: 307,\n",
       "         128.92353668352297: 964,\n",
       "         128.96791012341097: 1577,\n",
       "         119.40442640270972: 6,\n",
       "         128.94593792218959: 490,\n",
       "         88.864753667645587: 5,\n",
       "         119.91501620537341: 78,\n",
       "         128.18183920401219: 2,\n",
       "         85.847572698575334: 1,\n",
       "         121.36331983344098: 572,\n",
       "         120.54724974882704: 1438,\n",
       "         126.67960473122372: 2,\n",
       "         121.22522877410911: 2160,\n",
       "         125.05021050345778: 71,\n",
       "         126.92484460149581: 182,\n",
       "         130.05586611524944: 1,\n",
       "         121.00171891136337: 1675,\n",
       "         121.36652628171429: 20,\n",
       "         119.25986747832937: 1,\n",
       "         120.8517255724509: 22,\n",
       "         119.54206382864548: 2,\n",
       "         128.83150331185271: 149,\n",
       "         123.04752702511331: 1,\n",
       "         127.81855407155665: 281,\n",
       "         121.49897403113805: 3,\n",
       "         128.19094142203201: 10,\n",
       "         120.98829301213665: 110,\n",
       "         129.2064453137958: 100,\n",
       "         121.7266968936237: 901,\n",
       "         121.2952092140539: 11,\n",
       "         119.53730524686755: 81,\n",
       "         126.27515940747084: 1,\n",
       "         131.10915681079328: 2,\n",
       "         127.21503999991903: 36,\n",
       "         129.52584427639778: 489,\n",
       "         127.97883833857001: 1650,\n",
       "         98.668074118825615: 9,\n",
       "         126.77638103013989: 1,\n",
       "         96.146010513665956: 6,\n",
       "         117.85996932824557: 42,\n",
       "         126.41224614232756: 168,\n",
       "         127.18937932072811: 100,\n",
       "         119.69567609615477: 1912,\n",
       "         122.29029828085312: 31,\n",
       "         127.51100157269174: 1,\n",
       "         127.18556222150256: 1793,\n",
       "         121.9773408574498: 90,\n",
       "         123.19755820997005: 28,\n",
       "         121.20735279677579: 12,\n",
       "         118.72435111580322: 17,\n",
       "         120.28346372990826: 10,\n",
       "         128.01974775714365: 1034,\n",
       "         130.0442232473246: 19,\n",
       "         121.28593613176383: 1,\n",
       "         125.8793508145407: 5,\n",
       "         126.09376771977442: 74,\n",
       "         128.26913963373977: 9,\n",
       "         117.65120229766818: 2,\n",
       "         120.0679199494773: 347,\n",
       "         128.18021264356847: 1,\n",
       "         118.94746739632585: 2,\n",
       "         129.65048944685168: 354,\n",
       "         118.91371535712024: 708,\n",
       "         128.28537799834152: 7,\n",
       "         122.09047349104158: 161,\n",
       "         127.61421648914761: 2429,\n",
       "         119.19475255381013: 22,\n",
       "         116.53969280893098: 1,\n",
       "         86.674040049577854: 1,\n",
       "         86.398305194970902: 17,\n",
       "         120.6245322367197: 6,\n",
       "         204.16068585828705: 1,\n",
       "         118.72575926779012: 1,\n",
       "         121.1103726725246: 24,\n",
       "         193.40214202304574: 1,\n",
       "         120.07798107995957: 685,\n",
       "         119.2552096394969: 18,\n",
       "         117.58141229449424: 5,\n",
       "         127.8607092021451: 1444,\n",
       "         125.68932258544473: 32,\n",
       "         127.37804399970398: 89,\n",
       "         130.54947666183611: 55,\n",
       "         120.30989853142306: 40,\n",
       "         130.48637441126178: 6,\n",
       "         97.722679979520777: 12,\n",
       "         120.4318633305419: 1,\n",
       "         130.33568038518223: 1,\n",
       "         118.83742679803551: 136,\n",
       "         121.84530045460291: 132,\n",
       "         120.14678367129534: 58,\n",
       "         97.860162685694036: 18,\n",
       "         118.9647467011783: 30,\n",
       "         119.9598334411763: 50,\n",
       "         97.197534869679558: 136,\n",
       "         129.63945477700932: 5,\n",
       "         118.70797218735565: 1,\n",
       "         121.65730714342753: 222,\n",
       "         130.5622467189516: 3,\n",
       "         127.70724041104488: 27,\n",
       "         126.53655598284632: 17,\n",
       "         124.76522454282643: 1,\n",
       "         89.063961388419813: 1,\n",
       "         130.31084526834903: 153,\n",
       "         102.30794978446771: 1,\n",
       "         124.45983597868198: 1,\n",
       "         125.02688333113771: 9,\n",
       "         128.57541835188664: 267,\n",
       "         120.48086304228657: 413,\n",
       "         88.57419804956136: 24,\n",
       "         122.89855735352828: 223,\n",
       "         118.6733378292486: 6,\n",
       "         119.94315561443646: 24,\n",
       "         87.706266698554302: 2,\n",
       "         88.001737967393765: 41,\n",
       "         121.22958236022576: 2,\n",
       "         97.549559656111029: 1,\n",
       "         129.66827273416121: 6,\n",
       "         225.8332790341847: 1,\n",
       "         99.385894570599206: 14,\n",
       "         122.56823713915045: 1,\n",
       "         128.2971799499409: 16,\n",
       "         129.23223889864599: 3,\n",
       "         121.67739900051056: 312,\n",
       "         120.65020830080823: 4,\n",
       "         118.14715684657739: 117,\n",
       "         120.86654779572051: 101,\n",
       "         89.619874417647821: 6,\n",
       "         121.46570004172972: 10,\n",
       "         128.87213527563611: 6,\n",
       "         122.64639494464798: 5,\n",
       "         98.502962471292918: 132,\n",
       "         117.56924673689589: 1,\n",
       "         129.15591663705538: 3,\n",
       "         119.23028826281836: 3,\n",
       "         128.21271281200384: 16,\n",
       "         119.7055386600894: 1,\n",
       "         122.00033869274544: 321,\n",
       "         99.757205253555497: 1,\n",
       "         124.86148128622025: 1,\n",
       "         120.30713232652923: 732,\n",
       "         127.35394640041869: 35,\n",
       "         100.07358158362273: 1,\n",
       "         120.73501970323532: 4,\n",
       "         119.99016387825066: 1,\n",
       "         119.63253859104253: 361,\n",
       "         117.26987139712297: 4,\n",
       "         122.26178432771212: 713,\n",
       "         120.59885131736739: 8,\n",
       "         128.9578956050151: 2,\n",
       "         118.60602317359712: 3,\n",
       "         203.53303035659806: 1,\n",
       "         125.03177417341318: 13,\n",
       "         224.99531120595245: 1,\n",
       "         120.66321357918829: 40,\n",
       "         86.350225482453169: 1,\n",
       "         122.13846940970789: 668,\n",
       "         120.69820253010163: 102,\n",
       "         130.71980110978214: 12,\n",
       "         128.45503097481478: 19,\n",
       "         118.49027213699175: 20,\n",
       "         87.409797505240221: 156,\n",
       "         117.59464273511783: 8,\n",
       "         122.26632822659877: 360,\n",
       "         130.43037511829581: 10,\n",
       "         120.95476875271842: 27,\n",
       "         125.68766151762243: 148,\n",
       "         119.66782564365268: 1,\n",
       "         89.642190972558851: 1,\n",
       "         89.126779636900324: 44,\n",
       "         126.79291747670601: 189,\n",
       "         120.28727187983891: 1,\n",
       "         127.19724506324478: 689,\n",
       "         117.17283118913615: 5,\n",
       "         126.93513011822711: 36,\n",
       "         86.9624740226011: 1,\n",
       "         125.2601730705954: 11,\n",
       "         194.83083265106751: 1,\n",
       "         88.301250144679031: 1,\n",
       "         120.13996533410807: 5,\n",
       "         121.06391570272746: 39,\n",
       "         128.3990116925759: 142,\n",
       "         120.59827928905881: 1,\n",
       "         121.0805488642789: 268,\n",
       "         121.26051149019682: 78,\n",
       "         122.44749288308496: 3,\n",
       "         89.466005732253123: 6,\n",
       "         129.1314985378292: 51,\n",
       "         86.429641092837358: 5,\n",
       "         129.77298496071415: 44,\n",
       "         87.677596690889104: 16,\n",
       "         130.16293310883034: 16,\n",
       "         118.71464536750149: 3,\n",
       "         121.60786472522415: 411,\n",
       "         121.47621924311035: 4,\n",
       "         128.40701390846851: 1992,\n",
       "         119.41163694545529: 444,\n",
       "         128.84939725411931: 4,\n",
       "         122.09172175451756: 1,\n",
       "         118.55729821905943: 2,\n",
       "         118.52964936101567: 127,\n",
       "         118.48265288880604: 45,\n",
       "         99.989580934062701: 3,\n",
       "         119.17610466135727: 222,\n",
       "         120.47532953215857: 783,\n",
       "         125.06676038401007: 1,\n",
       "         98.732379381034718: 11,\n",
       "         105.87584280704196: 1,\n",
       "         121.48491274175991: 12,\n",
       "         128.85532426368096: 3,\n",
       "         121.34248766233094: 59,\n",
       "         96.667530437425071: 2,\n",
       "         125.89799929513744: 72,\n",
       "         120.73973543920356: 157,\n",
       "         119.67409603182223: 236,\n",
       "         120.3071323351168: 1,\n",
       "         243.14072706125083: 1,\n",
       "         125.52910386650559: 27,\n",
       "         98.144735296827037: 55,\n",
       "         87.655416511355241: 75,\n",
       "         125.88707562007026: 1,\n",
       "         119.90065616029634: 199,\n",
       "         98.558218752881871: 6,\n",
       "         130.8799263894212: 2,\n",
       "         120.96257678613092: 34,\n",
       "         126.71950456588243: 17,\n",
       "         130.59245194774371: 58,\n",
       "         127.18260925537429: 594,\n",
       "         117.70183547851748: 6,\n",
       "         118.78844470281216: 550,\n",
       "         120.19220556905665: 221,\n",
       "         120.68611944714917: 141,\n",
       "         89.197655433249423: 1,\n",
       "         126.15345651665024: 7,\n",
       "         127.17015937984972: 2,\n",
       "         129.90690845629229: 19,\n",
       "         128.11019705425824: 46,\n",
       "         88.246026895556568: 21,\n",
       "         99.149439044561888: 1,\n",
       "         89.184421909080129: 2,\n",
       "         127.70473757852525: 374,\n",
       "         119.38057882555675: 24,\n",
       "         128.32304988465756: 1,\n",
       "         119.74196950540696: 1,\n",
       "         122.31516668017912: 140,\n",
       "         128.0226734381944: 2679,\n",
       "         121.99795233624909: 1,\n",
       "         130.42388323560323: 150,\n",
       "         121.02352625417916: 967,\n",
       "         122.2450840366169: 7,\n",
       "         129.759394654094: 146,\n",
       "         128.54430690961763: 5,\n",
       "         120.65170095510473: 31,\n",
       "         117.48605182187583: 46,\n",
       "         120.1467880627596: 1,\n",
       "         87.649870630586804: 77,\n",
       "         98.00637699969846: 71,\n",
       "         89.363647199912918: 19,\n",
       "         122.00842190174693: 6,\n",
       "         99.973052473602223: 1,\n",
       "         120.52270480159534: 1607,\n",
       "         120.83264146277882: 1859,\n",
       "         121.2680663117706: 1483,\n",
       "         124.90585325982579: 7,\n",
       "         97.360015919817414: 2,\n",
       "         99.031982791525181: 73,\n",
       "         89.598022926756911: 10,\n",
       "         127.9902349909617: 10,\n",
       "         98.654419873520041: 1,\n",
       "         117.88070774743676: 1,\n",
       "         121.13284434154414: 1,\n",
       "         96.740632621458502: 1,\n",
       "         122.8534561470852: 2,\n",
       "         125.90185711741405: 1,\n",
       "         122.54998980008118: 447,\n",
       "         121.68081890866731: 7,\n",
       "         124.52197500310449: 1,\n",
       "         127.23916940287344: 2,\n",
       "         130.33301423172779: 12,\n",
       "         122.52142669753728: 9,\n",
       "         126.53787622352834: 28,\n",
       "         129.10407289948199: 16,\n",
       "         127.77084787309502: 2,\n",
       "         120.86792445565486: 3,\n",
       "         98.614995109708772: 1,\n",
       "         128.70649269889725: 253,\n",
       "         130.7063102658835: 33,\n",
       "         85.850805382026408: 1,\n",
       "         119.88953248720257: 1107,\n",
       "         120.46311037612389: 1,\n",
       "         126.29077794521542: 23,\n",
       "         126.00617106697236: 51,\n",
       "         126.92407894051205: 25,\n",
       "         127.46677333077156: 669,\n",
       "         122.43433330514442: 134,\n",
       "         158.30683846567536: 1,\n",
       "         97.860017613073467: 79,\n",
       "         118.94373308096043: 101,\n",
       "         120.7920613105339: 3,\n",
       "         88.853340850933947: 2,\n",
       "         86.343148069292837: 2,\n",
       "         128.49751460256573: 58,\n",
       "         129.65767099120728: 5,\n",
       "         117.99729281224376: 3,\n",
       "         98.256327103157503: 4,\n",
       "         128.70271781838557: 66,\n",
       "         121.48548373415223: 673,\n",
       "         119.62162285970206: 10,\n",
       "         120.75618165702767: 90,\n",
       "         128.82179915139145: 74,\n",
       "         88.811595611589397: 8,\n",
       "         127.90806172739497: 1,\n",
       "         119.24787506051429: 66,\n",
       "         88.82535924379269: 5,\n",
       "         120.92341249850621: 189,\n",
       "         88.780315635907328: 59,\n",
       "         119.70031740615389: 1213,\n",
       "         86.645672423860077: 15,\n",
       "         117.57999863284667: 2,\n",
       "         128.97286536322281: 9,\n",
       "         125.88111662227577: 2,\n",
       "         130.03909358532914: 203,\n",
       "         117.65403549684942: 4,\n",
       "         120.9014722044908: 178,\n",
       "         128.32229331449079: 93,\n",
       "         130.32235451203729: 47,\n",
       "         120.81321955629132: 1412,\n",
       "         127.07630863306802: 1,\n",
       "         122.55180310550853: 320,\n",
       "         119.11863675297838: 462,\n",
       "         119.86775182247654: 101,\n",
       "         126.40895085518939: 817,\n",
       "         119.58457967283698: 7,\n",
       "         118.05436757846948: 34,\n",
       "         119.08738775093963: 2,\n",
       "         121.35496602233098: 30,\n",
       "         120.033677356081: 1,\n",
       "         87.024583337089524: 2,\n",
       "         128.26242629858521: 5,\n",
       "         129.08029620261095: 484,\n",
       "         130.32651303552933: 1,\n",
       "         127.33922114915129: 22,\n",
       "         119.49918420709136: 47,\n",
       "         122.24486120754926: 22,\n",
       "         121.75407756186721: 88,\n",
       "         87.515552307923912: 242,\n",
       "         120.07173557770086: 7,\n",
       "         127.19560763141536: 169,\n",
       "         128.30833045348504: 1,\n",
       "         119.49721340264976: 7,\n",
       "         119.36510284743792: 12,\n",
       "         120.66643362742875: 31,\n",
       "         126.43334039087512: 3,\n",
       "         88.570280561414947: 18,\n",
       "         129.93449306306471: 4,\n",
       "         130.59617632412017: 27,\n",
       "         120.5705187846515: 1507,\n",
       "         89.959556988987757: 1,\n",
       "         130.54863071951624: 35,\n",
       "         128.56666850369513: 272,\n",
       "         129.49699552201824: 1,\n",
       "         121.46398359158638: 110,\n",
       "         86.581689948954804: 2,\n",
       "         117.45318061766741: 12,\n",
       "         120.28323274956377: 12,\n",
       "         126.73397334574499: 1,\n",
       "         119.42675296184876: 10,\n",
       "         128.91362560937372: 1891,\n",
       "         99.161341956446861: 53,\n",
       "         125.47930493559093: 1,\n",
       "         121.86935014893511: 174,\n",
       "         128.85338560837516: 14,\n",
       "         121.64303203584025: 1,\n",
       "         122.3043789527521: 417,\n",
       "         99.184170246220461: 9,\n",
       "         126.92364224796816: 163,\n",
       "         119.68755838267137: 1,\n",
       "         120.16586044001828: 54,\n",
       "         89.365201371959373: 2,\n",
       "         118.24468794207385: 3,\n",
       "         128.69030393889142: 3,\n",
       "         121.61025869637761: 51,\n",
       "         127.05270282589852: 13,\n",
       "         130.86358521225154: 25,\n",
       "         98.429473334411497: 17,\n",
       "         97.075714447608604: 4,\n",
       "         125.68689007018054: 40,\n",
       "         125.68545585701314: 126,\n",
       "         129.27533107559353: 31,\n",
       "         129.73626874959442: 1,\n",
       "         119.77258391159057: 52,\n",
       "         122.08444316476728: 319,\n",
       "         118.39129751624543: 1,\n",
       "         119.27908450352895: 273,\n",
       "         126.52942067901313: 57,\n",
       "         120.59689511350776: 23,\n",
       "         118.85495208104051: 2,\n",
       "         119.46222152631381: 5,\n",
       "         126.91357659902798: 575,\n",
       "         120.97680913670587: 75,\n",
       "         128.81219992247159: 773,\n",
       "         122.32129979001654: 748,\n",
       "         127.80453826057978: 4,\n",
       "         118.18664901248167: 3,\n",
       "         118.39728165694456: 32,\n",
       "         122.59848430503065: 5,\n",
       "         89.166508186651129: 1,\n",
       "         128.95972610732201: 17,\n",
       "         122.37805656751198: 6,\n",
       "         122.27530412965653: 15,\n",
       "         117.92770919047423: 44,\n",
       "         130.19440781166176: 105,\n",
       "         88.266484991147649: 7,\n",
       "         86.876989237867789: 18,\n",
       "         128.13599771084091: 489,\n",
       "         129.15742169017497: 121,\n",
       "         128.42518295873418: 1,\n",
       "         129.07039613130138: 1516,\n",
       "         117.28467487209247: 1,\n",
       "         127.41326007401533: 326,\n",
       "         99.159522759343773: 26,\n",
       "         126.91587075751808: 403,\n",
       "         126.48912686647789: 88,\n",
       "         130.04817277790741: 10,\n",
       "         120.38202794228025: 1,\n",
       "         129.71571667950019: 45,\n",
       "         88.852093081858499: 1,\n",
       "         119.49070226161878: 2,\n",
       "         118.56843064292937: 166,\n",
       "         117.40090099951499: 15,\n",
       "         118.546519352117: 27,\n",
       "         130.45284169766481: 13,\n",
       "         130.59096446538712: 7,\n",
       "         118.54734386521598: 2,\n",
       "         88.621227074169838: 7,\n",
       "         129.92903883158803: 145,\n",
       "         120.82609173688989: 709,\n",
       "         122.70753111736286: 5,\n",
       "         128.44735027243323: 50,\n",
       "         120.1693234326334: 5,\n",
       "         125.57224719199901: 38,\n",
       "         99.002524841428311: 1,\n",
       "         121.68858031363881: 6,\n",
       "         90.213635333024911: 1,\n",
       "         97.946271033903557: 12,\n",
       "         127.87678264735601: 214,\n",
       "         89.976849868185056: 1,\n",
       "         127.9766668205648: 533,\n",
       "         126.30045846382858: 1,\n",
       "         129.08803896354317: 50,\n",
       "         122.50782571792575: 24,\n",
       "         98.797773254259127: 9,\n",
       "         129.90424029593552: 82,\n",
       "         89.131147465405704: 1,\n",
       "         120.60276631517395: 439,\n",
       "         127.31904516227652: 829,\n",
       "         87.783828119878081: 26,\n",
       "         118.85203502815223: 31,\n",
       "         119.66307020986967: 799,\n",
       "         121.26600630812652: 20,\n",
       "         122.49784862333233: 161,\n",
       "         126.67927585215628: 1070,\n",
       "         119.75379997459106: 34,\n",
       "         127.63707067730219: 24,\n",
       "         120.20179851499847: 1,\n",
       "         129.47458112498785: 710,\n",
       "         125.43269493108849: 4,\n",
       "         127.36943219891411: 33,\n",
       "         129.80551527506006: 10,\n",
       "         119.53892742469829: 5,\n",
       "         120.32432799312029: 5,\n",
       "         120.83976994350824: 158,\n",
       "         121.15291134337147: 370,\n",
       "         118.71943986955623: 7,\n",
       "         127.54835874208612: 231,\n",
       "         129.89365369593961: 1,\n",
       "         96.954745608930367: 2,\n",
       "         113.19734587109636: 1,\n",
       "         117.46559625691378: 2,\n",
       "         120.11626157036748: 1377,\n",
       "         117.69133512332802: 7,\n",
       "         121.00975561441653: 74,\n",
       "         127.06057069465305: 738,\n",
       "         88.001577404122386: 55,\n",
       "         87.898458686054312: 31,\n",
       "         98.412680069008076: 9,\n",
       "         235.45994771632243: 1,\n",
       "         98.885031254375406: 38,\n",
       "         125.87041351976715: 1,\n",
       "         119.2375096301607: 298,\n",
       "         120.9272071421959: 323,\n",
       "         127.29820942564619: 1328,\n",
       "         128.24650432638731: 1266,\n",
       "         128.05619692160269: 2,\n",
       "         89.605460548578847: 2,\n",
       "         126.84526782169205: 2,\n",
       "         120.93639344315092: 65,\n",
       "         89.37514472562907: 2,\n",
       "         86.642784141434248: 23,\n",
       "         126.95537584142487: 2,\n",
       "         130.94963128159901: 2,\n",
       "         98.595695965144913: 8,\n",
       "         121.24973942885964: 1565,\n",
       "         126.80934989538281: 2,\n",
       "         130.06419562177987: 2,\n",
       "         118.4147578798563: 25,\n",
       "         127.33278782046972: 5,\n",
       "         97.898614452490605: 1,\n",
       "         125.02599508958316: 1,\n",
       "         119.95693387971653: 692,\n",
       "         87.685358184616391: 6,\n",
       "         129.76056743424331: 332,\n",
       "         86.093134323506447: 1,\n",
       "         127.32253503199985: 526,\n",
       "         118.17806494232164: 30,\n",
       "         122.57446716180331: 32,\n",
       "         119.63799563683772: 1210,\n",
       "         128.81834977051872: 24,\n",
       "         129.92839656857251: 61,\n",
       "         119.27093057375838: 1,\n",
       "         86.424983527017943: 5,\n",
       "         119.60653303964185: 3,\n",
       "         198.0295946406759: 1,\n",
       "         118.25243775253405: 2,\n",
       "         127.08068495862314: 341,\n",
       "         88.595364215070958: 5,\n",
       "         123.26800226411147: 19,\n",
       "         127.28423799855368: 2,\n",
       "         130.02959108128459: 220,\n",
       "         128.89153536531347: 20,\n",
       "         120.98025267135307: 20,\n",
       "         124.91619678363985: 1,\n",
       "         123.94689824720651: 1,\n",
       "         97.788603628629346: 25,\n",
       "         126.53951951860731: 17,\n",
       "         127.31249932249746: 94,\n",
       "         120.9071039177576: 39,\n",
       "         128.87289424688373: 374,\n",
       "         127.8741759547861: 43,\n",
       "         117.39108270489655: 6,\n",
       "         130.0042728439166: 53,\n",
       "         128.80853329705695: 87,\n",
       "         121.44900556966621: 40,\n",
       "         127.27845776873629: 8,\n",
       "         128.53447499737683: 554,\n",
       "         122.59576537256002: 11,\n",
       "         120.99609504404823: 46,\n",
       "         88.794709774904902: 31,\n",
       "         118.5499220041233: 1,\n",
       "         121.37396449494064: 3,\n",
       "         87.936373057160068: 2,\n",
       "         89.735567453880748: 2,\n",
       "         121.73251580107538: 582,\n",
       "         127.63544253923419: 38,\n",
       "         117.22793845651938: 1,\n",
       "         127.33278958302719: 7,\n",
       "         130.60510835294403: 5,\n",
       "         128.65058028344816: 44,\n",
       "         125.69296643441365: 241,\n",
       "         120.93719892450666: 224,\n",
       "         129.09815280891954: 1786,\n",
       "         98.95383158191791: 106,\n",
       "         86.69903138893288: 1,\n",
       "         123.43115773627081: 4,\n",
       "         127.76932339180638: 21,\n",
       "         121.35050023381029: 1,\n",
       "         127.74747324694852: 34,\n",
       "         121.94910295897365: 1,\n",
       "         130.43208065411176: 31,\n",
       "         119.43884938234295: 107,\n",
       "         89.031984644493235: 13,\n",
       "         149.61524804690558: 1,\n",
       "         126.15125240296096: 7,\n",
       "         87.901618841253779: 30,\n",
       "         119.43698881572104: 125,\n",
       "         118.33591481121957: 32,\n",
       "         119.90574780438322: 481,\n",
       "         120.99655799626827: 49,\n",
       "         123.14411224861333: 15,\n",
       "         126.6979148668413: 43,\n",
       "         228.60841525643505: 1,\n",
       "         122.91211792600377: 47,\n",
       "         125.45362194467164: 61,\n",
       "         120.35468416310185: 6,\n",
       "         121.71927802510419: 40,\n",
       "         120.77274500731295: 6,\n",
       "         119.31005512279513: 84,\n",
       "         120.8448276773693: 943,\n",
       "         130.94209690567533: 1,\n",
       "         127.61857046781677: 2,\n",
       "         121.51108774293371: 128,\n",
       "         118.18406142161516: 31,\n",
       "         130.82069899507403: 25,\n",
       "         128.01888070827636: 783,\n",
       "         119.5907394720922: 23,\n",
       "         118.51511701870217: 33,\n",
       "         120.24766109991495: 14,\n",
       "         128.93947511336333: 147,\n",
       "         120.05322958839642: 158,\n",
       "         87.266673891022535: 1,\n",
       "         99.283824910344052: 4,\n",
       "         123.28208549720298: 2,\n",
       "         127.86082092675073: 971,\n",
       "         126.11524609262695: 444,\n",
       "         119.02427324625447: 18,\n",
       "         118.48499732497091: 34,\n",
       "         120.82563477041673: 3,\n",
       "         131.24965857244419: 2,\n",
       "         98.714795127747593: 3,\n",
       "         126.40861722817178: 176,\n",
       "         119.42280322020598: 229,\n",
       "         121.5324586822514: 3,\n",
       "         121.01756070917972: 335,\n",
       "         128.03536584332147: 3,\n",
       "         122.63099506261098: 1,\n",
       "         157.00619281884701: 1,\n",
       "         122.94465563374017: 105,\n",
       "         121.18775891035962: 4,\n",
       "         120.04084736362272: 1,\n",
       "         129.88681157690564: 19,\n",
       "         127.47352666338215: 134,\n",
       "         87.989426729868228: 98,\n",
       "         128.21780614246987: 137,\n",
       "         120.35930006035426: 11,\n",
       "         120.49089188050834: 139,\n",
       "         118.93333581062799: 63,\n",
       "         89.118364266977991: 16,\n",
       "         118.16490360708181: 43,\n",
       "         120.05577343138569: 1081,\n",
       "         128.41696719151577: 2741,\n",
       "         125.58717629725602: 27,\n",
       "         126.81843870096968: 23,\n",
       "         127.80464484075866: 1,\n",
       "         88.259875977933035: 2,\n",
       "         122.28859309027969: 9,\n",
       "         122.24031431762164: 492,\n",
       "         129.39377572499558: 17,\n",
       "         122.00307089475929: 198,\n",
       "         120.67403072029991: 185,\n",
       "         119.09578374857124: 2,\n",
       "         120.42909677059323: 6,\n",
       "         90.410329155381078: 1,\n",
       "         119.18729487255173: 36,\n",
       "         119.96828218464209: 8,\n",
       "         120.31740365300045: 337,\n",
       "         119.36254456701984: 132,\n",
       "         98.661459665111053: 11,\n",
       "         119.97106066439929: 7,\n",
       "         86.931327518126864: 3,\n",
       "         121.15233601124882: 8,\n",
       "         120.37026210821342: 4,\n",
       "         130.20091268405423: 27,\n",
       "         119.87609120618029: 14,\n",
       "         120.1173021977402: 2,\n",
       "         117.09172851584037: 5,\n",
       "         98.533836988143563: 8,\n",
       "         130.32054292012441: 14,\n",
       "         104.62353403696785: 1,\n",
       "         99.823871811658009: 6,\n",
       "         122.36443462402303: 479,\n",
       "         129.14128632614288: 2,\n",
       "         87.826533576135176: 4,\n",
       "         126.874171975393: 79,\n",
       "         127.8764609042822: 17,\n",
       "         126.09002308769232: 36,\n",
       "         124.89495484480892: 7,\n",
       "         119.93644150132185: 11,\n",
       "         119.4065213623398: 228,\n",
       "         127.64828176232292: 2,\n",
       "         121.1828278997459: 2633,\n",
       "         128.08092327080075: 1,\n",
       "         118.36724582309495: 3,\n",
       "         89.124600669014669: 34,\n",
       "         99.325223382582934: 4,\n",
       "         88.851470555898288: 4,\n",
       "         97.213681778737453: 3,\n",
       "         121.88952414747624: 20,\n",
       "         125.85882536498893: 7,\n",
       "         119.90841474631723: 2,\n",
       "         88.542204037176347: 104,\n",
       "         118.39974824302992: 2,\n",
       "         118.09200901456278: 3,\n",
       "         128.72472884338379: 13,\n",
       "         129.08416555032554: 990,\n",
       "         120.4199820213617: 2290,\n",
       "         122.23486264918105: 97,\n",
       "         128.71728439877637: 1,\n",
       "         128.54754582030895: 59,\n",
       "         97.300507037505881: 13,\n",
       "         127.47647151891955: 41,\n",
       "         120.30124002439594: 42,\n",
       "         122.79589956717845: 19,\n",
       "         125.4530653019084: 28,\n",
       "         128.08905306247524: 439,\n",
       "         121.12183664526125: 7,\n",
       "         120.47924974608551: 2512,\n",
       "         118.49402084386034: 1,\n",
       "         118.31009161640061: 2,\n",
       "         121.88131971694644: 48,\n",
       "         120.15048500994912: 1,\n",
       "         88.885226582219602: 94,\n",
       "         128.84357338331236: 8,\n",
       "         119.29852682204023: 2,\n",
       "         119.41559240949874: 1,\n",
       "         87.798221948553334: 10,\n",
       "         121.82968594903041: 1,\n",
       "         127.81094828655741: 107,\n",
       "         89.02652451666701: 25,\n",
       "         121.2429859382998: 1,\n",
       "         120.78424573853914: 62,\n",
       "         89.263341372534583: 9,\n",
       "         129.24836289340331: 143,\n",
       "         127.34064274757719: 1,\n",
       "         88.526677942507774: 1,\n",
       "         128.97243447393231: 1,\n",
       "         89.352453541359537: 17,\n",
       "         118.35269794667467: 30,\n",
       "         121.09351233340769: 3,\n",
       "         128.82740586147389: 5,\n",
       "         126.455084813566: 1,\n",
       "         127.96038941421129: 1,\n",
       "         127.34522212617534: 1,\n",
       "         128.26134328931624: 470,\n",
       "         118.71195232837233: 22,\n",
       "         120.62925011017062: 2044,\n",
       "         128.37336876185785: 113,\n",
       "         120.29847362040394: 1252,\n",
       "         88.3278290431183: 45,\n",
       "         121.67967901799619: 199,\n",
       "         128.98384691481121: 6,\n",
       "         121.4446633063467: 230,\n",
       "         124.73661405869275: 10,\n",
       "         118.17066567688627: 8,\n",
       "         127.06177618576655: 399,\n",
       "         121.27116081109695: 58,\n",
       "         128.98977091086402: 181,\n",
       "         128.14986720149997: 2,\n",
       "         120.6741464070073: 6,\n",
       "         129.75511103179701: 26,\n",
       "         118.53199570945318: 8,\n",
       "         89.06629778581933: 1,\n",
       "         98.42439120839191: 201,\n",
       "         125.40079981406701: 79,\n",
       "         119.85859565910823: 7,\n",
       "         127.600722315799: 394,\n",
       "         127.08549432470166: 1,\n",
       "         85.607955471232188: 1,\n",
       "         117.91899069584049: 72,\n",
       "         117.22035214789074: 1,\n",
       "         126.6345370233532: 260,\n",
       "         128.32467750323664: 6,\n",
       "         88.583450927817807: 1,\n",
       "         119.94639722883453: 1860,\n",
       "         130.45071688454613: 1,\n",
       "         87.75755471955857: 105,\n",
       "         119.32844719926464: 7,\n",
       "         89.925584706147859: 1,\n",
       "         122.04712204718307: 1,\n",
       "         119.11082672510962: 318,\n",
       "         118.95213566283256: 2,\n",
       "         86.441210428766865: 2,\n",
       "         117.17460917608942: 1,\n",
       "         89.649162864807124: 2,\n",
       "         125.95854553278816: 67,\n",
       "         120.25020212679465: 4,\n",
       "         127.65459080249089: 1,\n",
       "         118.07930418881233: 2,\n",
       "         127.73714123347935: 950,\n",
       "         130.83258713592454: 1,\n",
       "         120.01689632273106: 92,\n",
       "         130.98801689894967: 9,\n",
       "         121.89088993342281: 1,\n",
       "         118.65425681457066: 202,\n",
       "         126.64714653956231: 41,\n",
       "         128.97684933258648: 157,\n",
       "         118.68129591473124: 4,\n",
       "         126.69451254563327: 69,\n",
       "         120.05403811416221: 1200,\n",
       "         126.37773845257534: 5,\n",
       "         121.06908199860011: 24,\n",
       "         117.88860310845224: 11,\n",
       "         119.65343473878561: 206,\n",
       "         118.62429077833937: 1,\n",
       "         121.25100010375317: 14,\n",
       "         119.76006388644778: 1434,\n",
       "         100.33568657262479: 1,\n",
       "         125.45671956031516: 1,\n",
       "         128.87687922975169: 315,\n",
       "         118.18288558327228: 4,\n",
       "         126.80748914395978: 253,\n",
       "         89.599573133747185: 2,\n",
       "         119.46477699516994: 3,\n",
       "         128.94066309247737: 70,\n",
       "         130.04539955042944: 21,\n",
       "         121.14763880516195: 4,\n",
       "         128.40398177650729: 1,\n",
       "         129.35362855710551: 274,\n",
       "         126.98665929630073: 10,\n",
       "         88.827235563082979: 12,\n",
       "         128.30583854354666: 161,\n",
       "         127.00185745029026: 8,\n",
       "         120.91927694302689: 24,\n",
       "         126.65493385619791: 19,\n",
       "         121.91128158931363: 83,\n",
       "         129.4875577876077: 235,\n",
       "         130.42974152435835: 1,\n",
       "         120.97600994718177: 8,\n",
       "         128.43480836595663: 3,\n",
       "         160.00641788220742: 1,\n",
       "         119.40710166892102: 1323,\n",
       "         120.26186856626558: 10,\n",
       "         99.040677343982026: 26,\n",
       "         127.08013716884041: 127,\n",
       "         122.13574023658713: 986,\n",
       "         125.59790524742483: 1,\n",
       "         121.57827619633557: 1509,\n",
       "         96.568052948778373: 8,\n",
       "         120.34326060666204: 1554,\n",
       "         118.45873920676625: 1,\n",
       "         99.029875752495911: 48,\n",
       "         130.432615390059: 46,\n",
       "         ...})"
      ]
     },
     "execution_count": 151,
     "metadata": {},
     "output_type": "execute_result"
    }
   ],
   "source": [
    "c_t = Counter(np.sqrt(toilet[11]**2+toilet[12]**2+toilet[13]**2))\n",
    "c_t"
   ]
  },
  {
   "cell_type": "code",
   "execution_count": 157,
   "metadata": {
    "collapsed": false
   },
   "outputs": [],
   "source": [
    "os.chdir('/Users/marie/Documents/Capstone/Capstone_MachineLearning/files Ludo/sensor files')\n",
    "hum = pd.read_csv(\"20160302105921 to 20160318234803 B0B448B8A585 Humidity(rH).csv\", header=None)"
   ]
  },
  {
   "cell_type": "code",
   "execution_count": 158,
   "metadata": {
    "collapsed": false
   },
   "outputs": [
    {
     "data": {
      "text/plain": [
       "(1640840, 4)"
      ]
     },
     "execution_count": 158,
     "metadata": {},
     "output_type": "execute_result"
    }
   ],
   "source": [
    "hum.shape"
   ]
  },
  {
   "cell_type": "code",
   "execution_count": 159,
   "metadata": {
    "collapsed": false
   },
   "outputs": [
    {
     "data": {
      "text/plain": [
       "[(118.99427795410156, 31889),\n",
       " (-0.88822746276855469, 16775),\n",
       " (-0.82719135284423828, 16146)]"
      ]
     },
     "execution_count": 159,
     "metadata": {},
     "output_type": "execute_result"
    }
   ],
   "source": [
    "c = Counter(hum[3])\n",
    "c.most_common(3)"
   ]
  },
  {
   "cell_type": "code",
   "execution_count": 160,
   "metadata": {
    "collapsed": false
   },
   "outputs": [
    {
     "data": {
      "text/plain": [
       "array([  0.00000000e+00,   6.09443943e-06,   1.21888789e-05, ...,\n",
       "        -1.82833183e-05,  -1.21888789e-05,  -6.09443943e-06])"
      ]
     },
     "execution_count": 160,
     "metadata": {},
     "output_type": "execute_result"
    }
   ],
   "source": [
    "fourier = np.fft.fft(hum[3])\n",
    "n = hum[3].size\n",
    "timestep = 0.1\n",
    "freq = np.fft.fftfreq(n, d=timestep)\n",
    "freq"
   ]
  },
  {
   "cell_type": "code",
   "execution_count": 170,
   "metadata": {
    "collapsed": true
   },
   "outputs": [],
   "source": [
    "os.chdir('/Users/marie/Documents/Capstone/Capstone_MachineLearning/New data/sensor files')\n",
    "mat = pd.read_csv(\"20160328170855 to 20160331171411 B0B448B8F204 Accelerometer(G).csv\", header=None)"
   ]
  },
  {
   "cell_type": "code",
   "execution_count": 171,
   "metadata": {
    "collapsed": false
   },
   "outputs": [
    {
     "data": {
      "text/html": [
       "<div>\n",
       "<table border=\"1\" class=\"dataframe\">\n",
       "  <thead>\n",
       "    <tr style=\"text-align: right;\">\n",
       "      <th></th>\n",
       "      <th>0</th>\n",
       "      <th>1</th>\n",
       "      <th>2</th>\n",
       "      <th>3</th>\n",
       "      <th>4</th>\n",
       "      <th>5</th>\n",
       "      <th>6</th>\n",
       "      <th>7</th>\n",
       "      <th>8</th>\n",
       "      <th>9</th>\n",
       "      <th>10</th>\n",
       "      <th>11</th>\n",
       "      <th>12</th>\n",
       "      <th>13</th>\n",
       "    </tr>\n",
       "  </thead>\n",
       "  <tbody>\n",
       "    <tr>\n",
       "      <th>0</th>\n",
       "      <td>2016-03-28 17:08:55.405</td>\n",
       "      <td>B0:B4:48:B8:F2:04</td>\n",
       "      <td>Accelerometer(G)</td>\n",
       "      <td>0.028809</td>\n",
       "      <td>0.005127</td>\n",
       "      <td>1.129395</td>\n",
       "      <td>Gyroscope(deg/s)</td>\n",
       "      <td>-2.687500</td>\n",
       "      <td>0.820312</td>\n",
       "      <td>0.234375</td>\n",
       "      <td>Magnetometer(uT)</td>\n",
       "      <td>0</td>\n",
       "      <td>0</td>\n",
       "      <td>0</td>\n",
       "    </tr>\n",
       "    <tr>\n",
       "      <th>1</th>\n",
       "      <td>2016-03-28 17:08:55.794</td>\n",
       "      <td>B0:B4:48:B8:F2:04</td>\n",
       "      <td>Accelerometer(G)</td>\n",
       "      <td>-0.000000</td>\n",
       "      <td>0.000000</td>\n",
       "      <td>-0.000000</td>\n",
       "      <td>Gyroscope(deg/s)</td>\n",
       "      <td>0.000000</td>\n",
       "      <td>0.000000</td>\n",
       "      <td>0.000000</td>\n",
       "      <td>Magnetometer(uT)</td>\n",
       "      <td>0</td>\n",
       "      <td>0</td>\n",
       "      <td>0</td>\n",
       "    </tr>\n",
       "    <tr>\n",
       "      <th>2</th>\n",
       "      <td>2016-03-28 17:08:55.796</td>\n",
       "      <td>B0:B4:48:B8:F2:04</td>\n",
       "      <td>Accelerometer(G)</td>\n",
       "      <td>-0.027100</td>\n",
       "      <td>0.003662</td>\n",
       "      <td>1.135742</td>\n",
       "      <td>Gyroscope(deg/s)</td>\n",
       "      <td>-2.117188</td>\n",
       "      <td>2.046875</td>\n",
       "      <td>0.578125</td>\n",
       "      <td>Magnetometer(uT)</td>\n",
       "      <td>0</td>\n",
       "      <td>0</td>\n",
       "      <td>0</td>\n",
       "    </tr>\n",
       "    <tr>\n",
       "      <th>3</th>\n",
       "      <td>2016-03-28 17:08:55.990</td>\n",
       "      <td>B0:B4:48:B8:F2:04</td>\n",
       "      <td>Accelerometer(G)</td>\n",
       "      <td>-0.029053</td>\n",
       "      <td>0.006836</td>\n",
       "      <td>1.130371</td>\n",
       "      <td>Gyroscope(deg/s)</td>\n",
       "      <td>-2.906250</td>\n",
       "      <td>0.640625</td>\n",
       "      <td>0.312500</td>\n",
       "      <td>Magnetometer(uT)</td>\n",
       "      <td>0</td>\n",
       "      <td>0</td>\n",
       "      <td>0</td>\n",
       "    </tr>\n",
       "    <tr>\n",
       "      <th>4</th>\n",
       "      <td>2016-03-28 17:08:56.184</td>\n",
       "      <td>B0:B4:48:B8:F2:04</td>\n",
       "      <td>Accelerometer(G)</td>\n",
       "      <td>-0.029053</td>\n",
       "      <td>0.008545</td>\n",
       "      <td>1.127930</td>\n",
       "      <td>Gyroscope(deg/s)</td>\n",
       "      <td>-2.734375</td>\n",
       "      <td>0.687500</td>\n",
       "      <td>0.640625</td>\n",
       "      <td>Magnetometer(uT)</td>\n",
       "      <td>0</td>\n",
       "      <td>0</td>\n",
       "      <td>0</td>\n",
       "    </tr>\n",
       "  </tbody>\n",
       "</table>\n",
       "</div>"
      ],
      "text/plain": [
       "                        0                  1                 2         3   \\\n",
       "0  2016-03-28 17:08:55.405  B0:B4:48:B8:F2:04  Accelerometer(G)  0.028809   \n",
       "1  2016-03-28 17:08:55.794  B0:B4:48:B8:F2:04  Accelerometer(G) -0.000000   \n",
       "2  2016-03-28 17:08:55.796  B0:B4:48:B8:F2:04  Accelerometer(G) -0.027100   \n",
       "3  2016-03-28 17:08:55.990  B0:B4:48:B8:F2:04  Accelerometer(G) -0.029053   \n",
       "4  2016-03-28 17:08:56.184  B0:B4:48:B8:F2:04  Accelerometer(G) -0.029053   \n",
       "\n",
       "         4         5                 6         7         8         9   \\\n",
       "0  0.005127  1.129395  Gyroscope(deg/s) -2.687500  0.820312  0.234375   \n",
       "1  0.000000 -0.000000  Gyroscope(deg/s)  0.000000  0.000000  0.000000   \n",
       "2  0.003662  1.135742  Gyroscope(deg/s) -2.117188  2.046875  0.578125   \n",
       "3  0.006836  1.130371  Gyroscope(deg/s) -2.906250  0.640625  0.312500   \n",
       "4  0.008545  1.127930  Gyroscope(deg/s) -2.734375  0.687500  0.640625   \n",
       "\n",
       "                 10  11  12  13  \n",
       "0  Magnetometer(uT)   0   0   0  \n",
       "1  Magnetometer(uT)   0   0   0  \n",
       "2  Magnetometer(uT)   0   0   0  \n",
       "3  Magnetometer(uT)   0   0   0  \n",
       "4  Magnetometer(uT)   0   0   0  "
      ]
     },
     "execution_count": 171,
     "metadata": {},
     "output_type": "execute_result"
    }
   ],
   "source": [
    "mat.head()"
   ]
  },
  {
   "cell_type": "code",
   "execution_count": 172,
   "metadata": {
    "collapsed": false
   },
   "outputs": [
    {
     "data": {
      "text/plain": [
       "[(0.0, 81399), (0.032118181566329146, 2649), (0.030118484172293097, 2589)]"
      ]
     },
     "execution_count": 172,
     "metadata": {},
     "output_type": "execute_result"
    }
   ],
   "source": [
    "c = Counter(np.sqrt(mat[3]**2+mat[4]**2+mat[4]**2))\n",
    "c.most_common(3)"
   ]
  },
  {
   "cell_type": "code",
   "execution_count": 198,
   "metadata": {
    "collapsed": false
   },
   "outputs": [],
   "source": [
    "lengths = []\n",
    "labels = y2\n",
    "i=0\n",
    "while i < len(labels):\n",
    "    y_0 = labels.iloc[i]\n",
    "    l = 1\n",
    "    j=i+1\n",
    "    while j < len(labels) and labels.iloc[j]==y_0 :\n",
    "        l +=1\n",
    "        j+=1\n",
    "    i = j\n",
    "    lengths.append(l)"
   ]
  },
  {
   "cell_type": "code",
   "execution_count": 200,
   "metadata": {
    "collapsed": false
   },
   "outputs": [
    {
     "data": {
      "text/plain": [
       "17612"
      ]
     },
     "execution_count": 200,
     "metadata": {},
     "output_type": "execute_result"
    }
   ],
   "source": [
    "sum(lengths)"
   ]
  },
  {
   "cell_type": "code",
   "execution_count": 186,
   "metadata": {
    "collapsed": false
   },
   "outputs": [
    {
     "data": {
      "text/plain": [
       "Counter({0: 11846, 1: 129, 2: 157, 3: 68, 4: 5376, 6: 36})"
      ]
     },
     "execution_count": 186,
     "metadata": {},
     "output_type": "execute_result"
    }
   ],
   "source": [
    "Counter(y2)"
   ]
  },
  {
   "cell_type": "code",
   "execution_count": 201,
   "metadata": {
    "collapsed": false
   },
   "outputs": [
    {
     "data": {
      "text/plain": [
       "17612"
      ]
     },
     "execution_count": 201,
     "metadata": {},
     "output_type": "execute_result"
    }
   ],
   "source": [
    "len(y2)"
   ]
  },
  {
   "cell_type": "code",
   "execution_count": 203,
   "metadata": {
    "collapsed": false
   },
   "outputs": [],
   "source": [
    "from seqlearn.evaluation import SequenceKFold, whole_sequence_accuracy\n",
    "kfold = SequenceKFold(lengths, n_folds=10, n_iter=1)"
   ]
  },
  {
   "cell_type": "code",
   "execution_count": 214,
   "metadata": {
    "collapsed": false
   },
   "outputs": [],
   "source": [
    "Y = pd.DataFrame(y2).as_matrix()\n",
    "X = X3.as_matrix()"
   ]
  },
  {
   "cell_type": "code",
   "execution_count": 217,
   "metadata": {
    "collapsed": false
   },
   "outputs": [],
   "source": [
    "from seqlearn.hmm import MultinomialHMM\n",
    "multinomial_hmm_scores = []\n",
    "for train_index, train_lengths, test_index, test_lengths in kfold:\n",
    "    X_train, Y_train, X_test, Y_test = X[train_index], Y[train_index], X[test_index], Y[test_index]\n",
    "    \n",
    "    # Instantiate and Train Multinomial HMM\n",
    "    clf1 = MultinomialHMM()\n",
    "    clf1.fit(X_train,Y_train, train_lengths)\n",
    "\n",
    "    Y_pred1 = clf1.predict(X_test, test_lengths)\n",
    "    \n",
    "    hmm_score = whole_sequence_accuracy(Y_test, Y_pred1, test_lengths)\n",
    "    \n",
    "    multinomial_hmm_scores.append(hmm_score)\n",
    " "
   ]
  },
  {
   "cell_type": "code",
   "execution_count": 218,
   "metadata": {
    "collapsed": false
   },
   "outputs": [
    {
     "data": {
      "text/plain": [
       "[0.4444444444444444,\n",
       " 0.5,\n",
       " 0.5555555555555556,\n",
       " 0.4285714285714286,\n",
       " 0.3571428571428571,\n",
       " 0.4,\n",
       " 0.1428571428571429,\n",
       " 0.4736842105263158,\n",
       " 0.42105263157894735,\n",
       " 0.44999999999999996]"
      ]
     },
     "execution_count": 218,
     "metadata": {},
     "output_type": "execute_result"
    }
   ],
   "source": [
    "multinomial_hmm_scores"
   ]
  },
  {
   "cell_type": "code",
   "execution_count": null,
   "metadata": {
    "collapsed": true
   },
   "outputs": [],
   "source": []
  }
 ],
 "metadata": {
  "kernelspec": {
   "display_name": "Python 2",
   "language": "python",
   "name": "python2"
  },
  "language_info": {
   "codemirror_mode": {
    "name": "ipython",
    "version": 2
   },
   "file_extension": ".py",
   "mimetype": "text/x-python",
   "name": "python",
   "nbconvert_exporter": "python",
   "pygments_lexer": "ipython2",
   "version": "2.7.11"
  }
 },
 "nbformat": 4,
 "nbformat_minor": 0
}
