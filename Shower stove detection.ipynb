{
 "cells": [
  {
   "cell_type": "markdown",
   "metadata": {},
   "source": [
    "Code to detect shower events using the derivative: computes ratio of the number of positive values of the derivative\n",
    "in a given time window over the total number of values in this time window."
   ]
  },
  {
   "cell_type": "code",
   "execution_count": 1,
   "metadata": {
    "collapsed": true
   },
   "outputs": [],
   "source": [
    "from __future__ import division\n",
    "import processFile\n",
    "import numpy as np\n",
    "from math import floor\n",
    "import matplotlib.pyplot as plt"
   ]
  },
  {
   "cell_type": "code",
   "execution_count": 3,
   "metadata": {
    "collapsed": false
   },
   "outputs": [],
   "source": [
    "%matplotlib inline"
   ]
  },
  {
   "cell_type": "code",
   "execution_count": 20,
   "metadata": {
    "collapsed": false
   },
   "outputs": [
    {
     "name": "stdout",
     "output_type": "stream",
     "text": [
      "Opening file...\n",
      "(603247,)\n"
     ]
    }
   ],
   "source": [
    "# enter sensor type (pressure, accelerometer, humidity, magnetometer, temperature, luxometer)\n",
    "value_type = \"humidity\"\n",
    "\n",
    "# indicate if file type is new (with sensor id) or old (first version of the csv files): True or False\n",
    "new = True\n",
    "\n",
    "# enter directory\n",
    "directory = 'New data/sensor files/'\n",
    "# enter file name\n",
    "file = directory + '20160402112805 to 20160405113116 B0B448B8A585 Humidity(rH).csv'\n",
    "\n",
    "time, data = processFile.openFile(file, value_type, new, False)\n",
    "print data.shape"
   ]
  },
  {
   "cell_type": "code",
   "execution_count": 21,
   "metadata": {
    "collapsed": false
   },
   "outputs": [
    {
     "data": {
      "text/plain": [
       "array([ 0.03336667,  0.03461667,  0.05031667,  0.05036667,  0.06661667,\n",
       "        0.06758333])"
      ]
     },
     "execution_count": 21,
     "metadata": {},
     "output_type": "execute_result"
    }
   ],
   "source": [
    "time[4:10]"
   ]
  },
  {
   "cell_type": "code",
   "execution_count": 22,
   "metadata": {
    "collapsed": true
   },
   "outputs": [],
   "source": [
    "# process data if necessary (eg remove some faulty values)\n",
    "index = data > 13\n",
    "data = data[~index]\n",
    "time = np.array(time)\n",
    "time = time[~index]"
   ]
  },
  {
   "cell_type": "code",
   "execution_count": 23,
   "metadata": {
    "collapsed": true
   },
   "outputs": [],
   "source": [
    "if value_type == \"temperature\":\n",
    "    ambient_temp = data[:,0]\n",
    "    object_temp = data[:,1]\n",
    "    data = ambient_temp\n",
    "\n",
    "\n",
    "def derivative(time, data):\n",
    "    # Computes derivative of data\n",
    "    Dtime = np.diff(time)\n",
    "    Ddata = np.diff(data)\n",
    "    Ddata /= Dtime\n",
    "    return Ddata\n",
    "\n",
    "def derivative_analysis(time, data, window_length):\n",
    "    \"\"\"\n",
    "    :param time: timestamps vector\n",
    "    :param data: sensor readings vector (temperature or humidity)\n",
    "    :param window_length: in minutes\n",
    "    :return: array output. output[:,4] contains the ratio of positive values of the derivative over the total number\n",
    "    of values in a given window length, output[:,1] contains first time of window\n",
    "    \"\"\"\n",
    "    print \"window length: \", window_length , \" minutes\"\n",
    "\n",
    "    Ddata = derivative(time, data)\n",
    "\n",
    "    m = len(time)\n",
    "    print 'len(time):', m\n",
    "    print 'max(time):', max(time)\n",
    "    # if time is in minutes, divide max time by window length to know length of loop\n",
    "    limit = int(max(time)/(window_length))\n",
    "    print \"limit: \", limit\n",
    "\n",
    "    output = np.zeros((limit,5))\n",
    "\n",
    "    timer = time[0]\n",
    "    time_temp = time[:m-1]\n",
    "    Ddata_temp = Ddata\n",
    "    #print \"Data_temp\", Ddata_temp\n",
    "\n",
    "    for i in range(1, limit):\n",
    "\n",
    "        end_window = timer + window_length\n",
    "        #temp = time>=timer and time<end_window\n",
    "        temp = time_temp >= timer\n",
    "        time_temp = time_temp[temp]\n",
    "        Ddata_temp = Ddata_temp[temp]\n",
    "        temp = time_temp < end_window\n",
    "        d = Ddata_temp[temp]\n",
    "\n",
    "        # print Ddata_temp\n",
    "        # print Ddata_temp>0\n",
    "        output[i, 0] = timer\n",
    "        output[i, 1] = np.sum(d>0)\n",
    "        output[i, 2] = np.sum(d==0)\n",
    "        output[i, 3] = np.sum(d<0)\n",
    "        m_temp = d.shape[0]\n",
    "        if m_temp != 0:\n",
    "            output[i, 4] = output[i, 1]/m_temp\n",
    "        else:\n",
    "            output[i, 4] = 0.0\n",
    "        #if i % 10000 == 0: print i, m_temp, output[i,:]\n",
    "        timer += window_length\n",
    "\n",
    "    return output\n",
    "\n",
    "\n",
    "def plot_output(output):\n",
    "    plt.plot(output[:,0], output[:,4], color='c', label='output')\n",
    "    plt.title(\"Ratio of positive values in the derivative, 2 minute time window\")\n",
    "    plt.xlabel(\"Time (seconds)\")\n",
    "    plt.ylabel(\"Ratio of positive values over total values in the derivative\")\n",
    "    plt.show()\n",
    "\n",
    "\n",
    "def shower_detection(time, data, window_length, threshold):\n",
    "    \"\"\"\n",
    "    :param threshold: to adjust to have better results\n",
    "    :return: y, boolean vector indicating if an event has been detected at a particular time window\n",
    "    \"\"\"\n",
    "    output = derivative_analysis(time, data, window_length)\n",
    "    y = output[:,4]\n",
    "    y = y>threshold"
   ]
  },
  {
   "cell_type": "code",
   "execution_count": 24,
   "metadata": {
    "collapsed": false
   },
   "outputs": [
    {
     "name": "stdout",
     "output_type": "stream",
     "text": [
      "window length:  2.0  minutes\n",
      "len(time): 301247\n",
      "max(time): 5044.99571667\n",
      "limit:  2522\n"
     ]
    }
   ],
   "source": [
    "window_length = 2.0\n",
    "output = derivative_analysis(time, data, window_length)"
   ]
  },
  {
   "cell_type": "code",
   "execution_count": 25,
   "metadata": {
    "collapsed": false
   },
   "outputs": [
    {
     "data": {
      "image/png": "[encoded data removed]",
      "text/plain": [
       "<matplotlib.figure.Figure at 0x10c76fcd0>"
      ]
     },
     "metadata": {},
     "output_type": "display_data"
    }
   ],
   "source": [
    "plot_output(output)"
   ]
  },
  {
   "cell_type": "code",
   "execution_count": 28,
   "metadata": {
    "collapsed": false
   },
   "outputs": [
    {
     "data": {
      "text/plain": [
       "[<matplotlib.lines.Line2D at 0x10c76ac90>]"
      ]
     },
     "execution_count": 28,
     "metadata": {},
     "output_type": "execute_result"
    },
    {
     "data": {
      "image/png": "[encoded data removed]",
      "text/plain": [
       "<matplotlib.figure.Figure at 0x10c773050>"
      ]
     },
     "metadata": {},
     "output_type": "display_data"
    }
   ],
   "source": [
    "# original data\n",
    "plt.plot(time,data)"
   ]
  },
  {
   "cell_type": "code",
   "execution_count": 26,
   "metadata": {
    "collapsed": false
   },
   "outputs": [
    {
     "name": "stdout",
     "output_type": "stream",
     "text": [
      "window length:  4.0  minutes\n",
      "len(time): 301247\n",
      "max(time): 5044.99571667\n",
      "limit:  1261\n"
     ]
    }
   ],
   "source": [
    "window_length = 4.0\n",
    "output_4 = derivative_analysis(time, data, window_length)"
   ]
  },
  {
   "cell_type": "code",
   "execution_count": 27,
   "metadata": {
    "collapsed": false
   },
   "outputs": [
    {
     "data": {
      "image/png": "[encoded data removed]",
      "text/plain": [
       "<matplotlib.figure.Figure at 0x10e26b410>"
      ]
     },
     "metadata": {},
     "output_type": "display_data"
    }
   ],
   "source": [
    "plt.plot(output_4[:,0], output_4[:,4], color='c', label='output')\n",
    "plt.title(\"Ratio of positive values in the derivative, 4 minute time window\")\n",
    "plt.xlabel(\"Time (seconds)\")\n",
    "plt.ylabel(\"Ratio of positive values over total values in the derivative\")\n",
    "plt.show()"
   ]
  },
  {
   "cell_type": "code",
   "execution_count": 39,
   "metadata": {
    "collapsed": false
   },
   "outputs": [],
   "source": [
    "threshold = 0.17\n",
    "y = output_4[:,4]\n",
    "y = y>threshold"
   ]
  },
  {
   "cell_type": "code",
   "execution_count": 40,
   "metadata": {
    "collapsed": false
   },
   "outputs": [
    {
     "data": {
      "text/plain": [
       "[<matplotlib.lines.Line2D at 0x10c4e2450>]"
      ]
     },
     "execution_count": 40,
     "metadata": {},
     "output_type": "execute_result"
    },
    {
     "data": {
      "image/png": "[encoded data removed]",
      "text/plain": [
       "<matplotlib.figure.Figure at 0x10c3e4310>"
      ]
     },
     "metadata": {},
     "output_type": "display_data"
    }
   ],
   "source": [
    "plt.plot(output_4[:,0], y)"
   ]
  },
  {
   "cell_type": "code",
   "execution_count": 41,
   "metadata": {
    "collapsed": false
   },
   "outputs": [
    {
     "data": {
      "text/plain": [
       "[<matplotlib.lines.Line2D at 0x1087764d0>]"
      ]
     },
     "execution_count": 41,
     "metadata": {},
     "output_type": "execute_result"
    },
    {
     "data": {
      "image/png": "[encoded data removed]",
      "text/plain": [
       "<matplotlib.figure.Figure at 0x10c516c50>"
      ]
     },
     "metadata": {},
     "output_type": "display_data"
    }
   ],
   "source": [
    "# original data\n",
    "plt.plot(time,data)"
   ]
  },
  {
   "cell_type": "markdown",
   "metadata": {},
   "source": [
    "### export to csv to be used for analysis"
   ]
  },
  {
   "cell_type": "code",
   "execution_count": 67,
   "metadata": {
    "collapsed": false
   },
   "outputs": [],
   "source": [
    "blop = np.zeros(5*len(y))"
   ]
  },
  {
   "cell_type": "code",
   "execution_count": 68,
   "metadata": {
    "collapsed": true
   },
   "outputs": [],
   "source": [
    "for i in xrange(len(blop)):\n",
    "    j = i // 5\n",
    "    blop[i] = y[j]"
   ]
  },
  {
   "cell_type": "code",
   "execution_count": 69,
   "metadata": {
    "collapsed": false
   },
   "outputs": [
    {
     "data": {
      "text/plain": [
       "95.0"
      ]
     },
     "execution_count": 69,
     "metadata": {},
     "output_type": "execute_result"
    }
   ],
   "source": [
    "sum(blop)"
   ]
  },
  {
   "cell_type": "code",
   "execution_count": 70,
   "metadata": {
    "collapsed": false
   },
   "outputs": [
    {
     "data": {
      "text/plain": [
       "19"
      ]
     },
     "execution_count": 70,
     "metadata": {},
     "output_type": "execute_result"
    }
   ],
   "source": [
    "sum(y)"
   ]
  },
  {
   "cell_type": "code",
   "execution_count": 78,
   "metadata": {
    "collapsed": false
   },
   "outputs": [],
   "source": [
    "blop = np.append(blop, [False,False,False])"
   ]
  },
  {
   "cell_type": "code",
   "execution_count": 79,
   "metadata": {
    "collapsed": false
   },
   "outputs": [],
   "source": [
    "import pandas as pd\n",
    "blop_df = pd.DataFrame(blop)"
   ]
  },
  {
   "cell_type": "code",
   "execution_count": 80,
   "metadata": {
    "collapsed": false
   },
   "outputs": [
    {
     "data": {
      "text/plain": [
       "24108"
      ]
     },
     "execution_count": 80,
     "metadata": {},
     "output_type": "execute_result"
    }
   ],
   "source": [
    "len(blop_df)"
   ]
  },
  {
   "cell_type": "code",
   "execution_count": 74,
   "metadata": {
    "collapsed": true
   },
   "outputs": [],
   "source": [
    "start_date = '2016-03-02 10:59:00'"
   ]
  },
  {
   "cell_type": "code",
   "execution_count": 75,
   "metadata": {
    "collapsed": true
   },
   "outputs": [],
   "source": [
    "end_date = '2016-03-19 04:46:00'"
   ]
  },
  {
   "cell_type": "code",
   "execution_count": 76,
   "metadata": {
    "collapsed": true
   },
   "outputs": [],
   "source": [
    "rng = pd.date_range(start = start_date, end = end_date, freq='min')"
   ]
  },
  {
   "cell_type": "code",
   "execution_count": 77,
   "metadata": {
    "collapsed": false
   },
   "outputs": [
    {
     "data": {
      "text/plain": [
       "24108"
      ]
     },
     "execution_count": 77,
     "metadata": {},
     "output_type": "execute_result"
    }
   ],
   "source": [
    "len(rng)"
   ]
  },
  {
   "cell_type": "code",
   "execution_count": 81,
   "metadata": {
    "collapsed": false
   },
   "outputs": [],
   "source": [
    "df = pd.Series(blop, index=rng, name='shower_detection')"
   ]
  },
  {
   "cell_type": "code",
   "execution_count": 82,
   "metadata": {
    "collapsed": false
   },
   "outputs": [
    {
     "data": {
      "text/plain": [
       "2016-03-02 10:59:00    0\n",
       "2016-03-02 11:00:00    0\n",
       "2016-03-02 11:01:00    0\n",
       "2016-03-02 11:02:00    0\n",
       "2016-03-02 11:03:00    0\n",
       "Freq: T, Name: shower_detection, dtype: float64"
      ]
     },
     "execution_count": 82,
     "metadata": {},
     "output_type": "execute_result"
    }
   ],
   "source": [
    "df.head()"
   ]
  },
  {
   "cell_type": "code",
   "execution_count": 83,
   "metadata": {
    "collapsed": true
   },
   "outputs": [],
   "source": [
    "df.to_csv(\"shower_detection_1st.csv\")"
   ]
  },
  {
   "cell_type": "code",
   "execution_count": null,
   "metadata": {
    "collapsed": true
   },
   "outputs": [],
   "source": []
  }
 ],
 "metadata": {
  "kernelspec": {
   "display_name": "Python 2",
   "language": "python",
   "name": "python2"
  },
  "language_info": {
   "codemirror_mode": {
    "name": "ipython",
    "version": 2
   },
   "file_extension": ".py",
   "mimetype": "text/x-python",
   "name": "python",
   "nbconvert_exporter": "python",
   "pygments_lexer": "ipython2",
   "version": "2.7.11"
  }
 },
 "nbformat": 4,
 "nbformat_minor": 0
}
