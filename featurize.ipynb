{
 "cells": [
  {
   "cell_type": "code",
   "execution_count": 19,
   "metadata": {
    "collapsed": false
   },
   "outputs": [
    {
     "name": "stdout",
     "output_type": "stream",
     "text": [
      "Opening file...\n",
      "data.shape:  (1528200L, 3L)\n",
      "Initializing...\n"
     ]
    }
   ],
   "source": [
    "'''\n",
    "Author: Ludovic\n",
    "Input: sensor_type, csv_file_name, output_name\n",
    "To change: time_reference, name of the output file\n",
    "\n",
    "'''\n",
    "\n",
    "####### script\n",
    "import sys\n",
    "import numpy as np\n",
    "import matplotlib.pyplot as plt\n",
    "import matplotlib.dates as mdates\n",
    "import processFile\n",
    "import datetime as dt\n",
    "import pandas as pd\n",
    "import csv\n",
    "from sklearn.preprocessing import maxabs_scale\n",
    "from collections import Counter\n",
    "%matplotlib inline\n",
    "\n",
    "# reference\n",
    "time_reference = dt.datetime(2016,3,28,0,01,00,000000)\n",
    "\n",
    "# enter output name\n",
    "output_name = \"Bed2_out\"\n",
    "\n",
    "# enter sensor type (pressure, accelerometer, humidity, magnetometer, temperature)\n",
    "#value_type = sys.argv[1]\n",
    "value_type = \"accelerometer\"\n",
    "\n",
    "# indicate if file type is new (with sensor id) or old (first version of the csv files): True or False\n",
    "new = True\n",
    "\n",
    "# indicate if hour should be a feature or not\n",
    "hour_bool = True\n",
    "\n",
    "# enter file name\n",
    "#file = 'C:\\Users\\Ludovic\\Documents\\Capstone\\Capstone_MachineLearning\\example.csv'\n",
    "#file = sys.argv[2]\n",
    "file = 'C:\\Users\\Ludovic\\Documents\\Capstone\\Capstone_MachineLearning\\Bed2.csv'\n",
    "\n",
    "time, data = processFile.openFile(file, value_type, new, True)\n",
    "print 'data.shape: ' , data.shape\n",
    "\n",
    "\n",
    "if value_type in {\"accelerometer\", \"magnetometer\"}:\n",
    "    dataX = data[:,0]\n",
    "    dataY = data[:,1]\n",
    "    dataZ = data[:,2]\n",
    "    dataN = np.sqrt(dataX*dataX+dataY*dataY+dataZ*dataZ)\n",
    "    \n",
    "elif value_type == \"temperature\":\n",
    "    dataN = data[:,0] # ambient_temp\n",
    "    #object_temp = data[:,1]\n",
    "    \n",
    "elif value_type == \"humidity\":\n",
    "    dataN = data\n",
    "    \n",
    "else:\n",
    "    print \"invalid value_type\"\n",
    "\n",
    "\n",
    "########## define features\n",
    "\n",
    "def mean(vector):\n",
    "    return np.mean(vector)\n",
    "\n",
    "def maxi(vector):\n",
    "    return np.max(vector)\n",
    "\n",
    "def mini(vector):\n",
    "    return np.min(vector)\n",
    "\n",
    "def max_minus_min(vector):\n",
    "    return np.max(vector) - np.min(vector)\n",
    "\n",
    "def std(vector):\n",
    "    return np.std(vector)\n",
    "\n",
    "def variance(vector):\n",
    "    return np.var(vector)\n",
    "\n",
    "def RMS(vector):\n",
    "    # returns Root Mean Square\n",
    "    return np.sqrt(np.mean(np.square(vector)))\n",
    "\n",
    "def hour_of_day(time_stamp):\n",
    "    # returns the hour of the day of the time window\n",
    "    if type(time_stamp) == str:\n",
    "        return \n",
    "    else:\n",
    "        return time_stamp.hour\n",
    "\n",
    "def end_minus_start(vector):\n",
    "    # returns the last element of the vector minus the first element of the vector\n",
    "    # useful for slow evolutions (eg temperature\n",
    "    if len(vector) >0:\n",
    "    \treturn vector.iloc[-1]-vector.iloc[0]\n",
    "    else:\n",
    "    \treturn float(\"nan\")\n",
    "\n",
    "def update_time_window_start(time):\n",
    "    return time + dt.timedelta(0,60)\n",
    "\n",
    "\n",
    "########### initialization\n",
    "\n",
    "print \"Initializing...\"\n",
    "\n",
    "temp = list(zip(time,dataN))  #temporary list to prepare for the data frame (using pandas)\n",
    "df = pd.DataFrame(data = temp, columns = ['Time', 'Data']) #data frame (using pandas)\n"
   ]
  },
  {
   "cell_type": "code",
   "execution_count": 20,
   "metadata": {
    "collapsed": false
   },
   "outputs": [
    {
     "data": {
      "text/html": [
       "<div>\n",
       "<table border=\"1\" class=\"dataframe\">\n",
       "  <thead>\n",
       "    <tr style=\"text-align: right;\">\n",
       "      <th></th>\n",
       "      <th>Time</th>\n",
       "      <th>Data</th>\n",
       "    </tr>\n",
       "  </thead>\n",
       "  <tbody>\n",
       "    <tr>\n",
       "      <th>0</th>\n",
       "      <td>2016-03-28 17:08:55.405000</td>\n",
       "      <td>1.129774</td>\n",
       "    </tr>\n",
       "    <tr>\n",
       "      <th>1</th>\n",
       "      <td>2016-03-28 17:08:55.793999</td>\n",
       "      <td>0.000000</td>\n",
       "    </tr>\n",
       "    <tr>\n",
       "      <th>2</th>\n",
       "      <td>2016-03-28 17:08:55.795999</td>\n",
       "      <td>1.136071</td>\n",
       "    </tr>\n",
       "  </tbody>\n",
       "</table>\n",
       "</div>"
      ],
      "text/plain": [
       "                        Time      Data\n",
       "0 2016-03-28 17:08:55.405000  1.129774\n",
       "1 2016-03-28 17:08:55.793999  0.000000\n",
       "2 2016-03-28 17:08:55.795999  1.136071"
      ]
     },
     "execution_count": 20,
     "metadata": {},
     "output_type": "execute_result"
    }
   ],
   "source": [
    "df.head(3)"
   ]
  },
  {
   "cell_type": "code",
   "execution_count": 21,
   "metadata": {
    "collapsed": false
   },
   "outputs": [
    {
     "name": "stdout",
     "output_type": "stream",
     "text": [
      "Preprocessing data...\n",
      "Data Preprocessed\n"
     ]
    }
   ],
   "source": [
    "\n",
    "########## preprocess data \n",
    "\n",
    "print \"Preprocessing data...\"\n",
    "if value_type in {\"accelerometer\", \"magnetometer\"}:\n",
    "    df2 = df[df['Data']!=0]\n",
    "\n",
    "elif value_type == \"temperature\":\n",
    "    df2 = df[df['Data']<80]\n",
    "\n",
    "elif value_type == \"humidity\":\n",
    "    c = Counter(df.Data)\n",
    "    value_to_remove = c.most_common(1)[0][0] #value that appears the most frequently\n",
    "    df2 = df[(df['Data']!= value_to_remove) & (df['Data'] <10)]\n",
    "    maxabs_scale(df2.Data, copy = False)\n",
    "else:\n",
    "    print \"invalid value type\"\n",
    "\n",
    "print \"Data Preprocessed\"\n",
    "\n",
    "########## initialize for featurizing\n",
    "\n",
    "time_window_start = time_reference \n",
    "feature_list = []\n",
    "# number of data points\n",
    "n = df2.shape[0]\n",
    "# counter, to determine how many data points from the file have been processed (so that we know if we should stop or not)\n",
    "count = 0\n"
   ]
  },
  {
   "cell_type": "code",
   "execution_count": 22,
   "metadata": {
    "collapsed": false
   },
   "outputs": [
    {
     "data": {
      "text/plain": [
       "<function matplotlib.pyplot.show>"
      ]
     },
     "execution_count": 22,
     "metadata": {},
     "output_type": "execute_result"
    },
    {
     "data": {
      "image/png": "[encoded data removed]",
      "text/plain": [
       "<matplotlib.figure.Figure at 0x4301a3c8>"
      ]
     },
     "metadata": {},
     "output_type": "display_data"
    }
   ],
   "source": [
    "plt.plot(df2.Data)\n",
    "plt.show"
   ]
  },
  {
   "cell_type": "code",
   "execution_count": 24,
   "metadata": {
    "collapsed": false
   },
   "outputs": [],
   "source": [
    "if value_type == \"humidity\":\n",
    "    maxabs_scale(df2.Data, copy = False)"
   ]
  },
  {
   "cell_type": "code",
   "execution_count": null,
   "metadata": {
    "collapsed": false
   },
   "outputs": [],
   "source": [
    "######### create feature for each time window\n",
    "print \"Creating features...\"\n",
    "\n",
    "tracker_25 = 0\n",
    "tracker_50 = 0\n",
    "tracker_75 = 0\n",
    "\n",
    "if hour_bool:\n",
    "    while count < n:    \n",
    "        temp = df2[(df2['Time'] >= time_window_start) & (df2['Time'] < (time_window_start + dt.timedelta(0,60)))]\n",
    "        count = count + len(temp.Data)\n",
    "        feature_list.append([time_window_start,mean(temp.Data),maxi(temp.Data),mini(temp.Data), max_minus_min(temp.Data),\n",
    "         std(temp.Data), variance(temp.Data), RMS(temp.Data),end_minus_start(temp.Data),hour_of_day(time_window_start)])\n",
    "        # update time window\n",
    "        time_window_start = update_time_window_start(time_window_start)\n",
    "        if ((count/float(n) > .25) and (tracker_25 == 0)): \n",
    "            tracker_25 = 1\n",
    "            print \"25 percent reached\"\n",
    "        if ((count/float(n) > .5) and (tracker_50 == 0)): \n",
    "            tracker_50 = 1\n",
    "            print \"50 percent reached\"\n",
    "        if ((count/float(n) > .75) and (tracker_75 == 0)): \n",
    "            tracker_75 = 1\n",
    "            print \"75 percent reached\"\n",
    "else:\n",
    "    while count < n:    \n",
    "        temp = df2[(df2['Time'] >= time_window_start) & (df2['Time'] < (time_window_start + dt.timedelta(0,60)))]\n",
    "        count = count + len(temp.Data)\n",
    "        feature_list.append([time_window_start,mean(temp.Data),maxi(temp.Data),mini(temp.Data), max_minus_min(temp.Data),\n",
    "         std(temp.Data), variance(temp.Data), RMS(temp.Data),end_minus_start(temp.Data)])\n",
    "        # update time window\n",
    "        time_window_start = update_time_window_start(time_window_start)\n",
    "        if ((count/float(n) > .25) and (tracker_25 == 0)): \n",
    "            tracker_25 = 1\n",
    "            print \"25 percent reached\"\n",
    "        if ((count/float(n) > .5) and (tracker_50 == 0)): \n",
    "            tracker_50 = 1\n",
    "            print \"50 percent reached\"\n",
    "        if ((count/float(n) > .75) and (tracker_75 == 0)): \n",
    "            tracker_75 = 1\n",
    "            print \"75 percent reached\"\n",
    "\n",
    "    "
   ]
  },
  {
   "cell_type": "code",
   "execution_count": 26,
   "metadata": {
    "collapsed": false
   },
   "outputs": [
    {
     "data": {
      "text/plain": [
       "Series([], Name: Data, dtype: float64)"
      ]
     },
     "execution_count": 26,
     "metadata": {},
     "output_type": "execute_result"
    }
   ],
   "source": []
  },
  {
   "cell_type": "code",
   "execution_count": null,
   "metadata": {
    "collapsed": true
   },
   "outputs": [],
   "source": [
    "\n",
    "######## export features in a new csv file\n",
    "print \"Exporting...\"\n",
    "#output_name = sys.argv[3]\n",
    "\n",
    "export = open(output_name, \"wb\")\n",
    "open_file_object = csv.writer(export)\n",
    "if hour_bool:\n",
    "    open_file_object.writerow([\"Time_stamp\",\"Mean\",\"Max\",\"Min\",\"Max-Min\",\"Std\",\"Variance\",\"RMS\",\"End-Start\",\"Hour\"])\n",
    "else:\n",
    "    open_file_object.writerow([\"Time_stamp\",\"Mean\",\"Max\",\"Min\",\"Max-Min\",\"Std\",\"Variance\",\"RMS\",\"End-Start\"])\n",
    "open_file_object.writerows(np.asarray(feature_list))\n",
    "export.close()\n",
    "\n",
    "print \"Done\"\n"
   ]
  }
 ],
 "metadata": {
  "kernelspec": {
   "display_name": "Python 2",
   "language": "python",
   "name": "python2"
  },
  "language_info": {
   "codemirror_mode": {
    "name": "ipython",
    "version": 2
   },
   "file_extension": ".py",
   "mimetype": "text/x-python",
   "name": "python",
   "nbconvert_exporter": "python",
   "pygments_lexer": "ipython2",
   "version": "2.7.11"
  }
 },
 "nbformat": 4,
 "nbformat_minor": 0
}
