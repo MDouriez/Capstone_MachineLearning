{
 "cells": [
  {
   "cell_type": "code",
   "execution_count": 1,
   "metadata": {
    "collapsed": false
   },
   "outputs": [],
   "source": [
    "import numpy as np\n",
    "import pandas as pd\n",
    "from sklearn.preprocessing import Imputer\n",
    "from collections import Counter\n",
    "from sklearn import tree\n",
    "from sklearn import cross_validation\n",
    "from sklearn.cross_validation import train_test_split\n",
    "from sklearn.metrics import confusion_matrix\n",
    "from sklearn.ensemble import RandomForestClassifier\n",
    "import matplotlib.pyplot as plt\n",
    "%matplotlib inline\n",
    "from sklearn.ensemble import AdaBoostClassifier\n",
    "from sklearn.tree import DecisionTreeClassifier\n",
    "import time\n",
    "\n",
    "from sklearn.multiclass import OneVsRestClassifier"
   ]
  },
  {
   "cell_type": "code",
   "execution_count": 2,
   "metadata": {
    "collapsed": false
   },
   "outputs": [],
   "source": [
    "# load features\n",
    "X_1 = pd.read_csv(\"X_1st_batch.csv\")\n",
    "\n",
    "# load targets\n",
    "y_all = pd.read_csv(\"y_alldata.csv\")\n",
    "y_all.columns = ['Time_stamp', 'Activity']"
   ]
  },
  {
   "cell_type": "code",
   "execution_count": 3,
   "metadata": {
    "collapsed": false
   },
   "outputs": [],
   "source": [
    "#load presence features (simulate usage of estimote sensors, who can detect the presence\n",
    "# in the rooom using highest RSSI value)\n",
    "presence = pd.read_csv(\"presence_alldata.csv\")\n",
    "presence.columns = [u'Time_stamp', u'Pres_bath', u'Pres_kitch', u'Pres_bed']"
   ]
  },
  {
   "cell_type": "code",
   "execution_count": 4,
   "metadata": {
    "collapsed": false
   },
   "outputs": [],
   "source": [
    "# remove duplicate features (hour of the day)\n",
    "del X_1['bed_feat.csv_Hour']\n",
    "del X_1['cupboard_feat.csv_Hour']\n",
    "del X_1['fridge_feat.csv_Hour']\n",
    "del X_1['rice_feat.csv_Hour']\n",
    "del X_1['showerH_feat.csv_Hour']\n",
    "del X_1['showerT_feat.csv_Hour']\n",
    "del X_1['stove_feat.csv_Hour']"
   ]
  },
  {
   "cell_type": "code",
   "execution_count": null,
   "metadata": {
    "collapsed": true
   },
   "outputs": [],
   "source": []
  },
  {
   "cell_type": "code",
   "execution_count": 5,
   "metadata": {
    "collapsed": false
   },
   "outputs": [
    {
     "data": {
      "image/png": "[encoded data removed]",
      "text/plain": [
       "<matplotlib.figure.Figure at 0x19e56c88>"
      ]
     },
     "metadata": {},
     "output_type": "display_data"
    }
   ],
   "source": [
    "# visualize how many features are not missing over time\n",
    "feature_viz = []\n",
    "for i in xrange(X_1.shape[0]):\n",
    "    feature_viz.append(X_1.shape[1] - np.sum(X_1.iloc[i,:].isnull()))\n",
    "\n",
    "plt.plot(feature_viz)\n",
    "plt.xlabel('Time')\n",
    "plt.ylabel('Number of non-missing values for the features')\n",
    "plt.show()"
   ]
  },
  {
   "cell_type": "code",
   "execution_count": 6,
   "metadata": {
    "collapsed": false
   },
   "outputs": [],
   "source": [
    "# merge features and presence\n",
    "X_1p = pd.merge(X_1, presence, how = 'inner', on = \"Time_stamp\")"
   ]
  },
  {
   "cell_type": "code",
   "execution_count": 7,
   "metadata": {
    "collapsed": false
   },
   "outputs": [
    {
     "name": "stdout",
     "output_type": "stream",
     "text": [
      "(33406, 70)\n"
     ]
    }
   ],
   "source": [
    "# merge feature/presence with target. So that we can drop NaN values while\n",
    "# keeping a correspondance between row and target\n",
    "X_1y = pd.merge(X_1p, y_all, how = 'inner', on = \"Time_stamp\")\n",
    "print X_1y.shape"
   ]
  },
  {
   "cell_type": "code",
   "execution_count": 8,
   "metadata": {
    "collapsed": false
   },
   "outputs": [],
   "source": [
    "# select full days where there are not too many missing values\n",
    "# WARNING: the selection was made by hand, based on the visualization of the non-missing values.\n",
    "# this step may be dropped in the final system, where there will be many missing values anyway\n",
    "\n",
    "idx = [range(0,9239),range(14999,26519), range(32279,X_1.shape[0])]\n",
    "idxx = [item for sublist in idx for item in sublist]\n",
    "\n",
    "X1y_dropna = X_1y.drop(idxx, axis = 0, inplace= False)\n"
   ]
  },
  {
   "cell_type": "code",
   "execution_count": 9,
   "metadata": {
    "collapsed": false
   },
   "outputs": [],
   "source": [
    "# get labels for the supervised learning\n",
    "y_1 = X1y_dropna['Activity']\n",
    "\n",
    "# remove columns that are not features we want to use for classification\n",
    "# 'Pres_kitch', 'Pres_bath', 'Pres_bed'   are optional to remove\n",
    "try:\n",
    "    X1y_dropna.drop(['Activity', 'Time_stamp', 'Pres_kitch', 'Pres_bath', 'Pres_bed'], axis=1, inplace =True)\n",
    "except ValueError:\n",
    "    print \"Value Error\"\n",
    "    pass\n",
    "# , 'Pres_kitch', 'Pres_bath', 'Pres_bed'"
   ]
  },
  {
   "cell_type": "code",
   "execution_count": 11,
   "metadata": {
    "collapsed": false
   },
   "outputs": [],
   "source": [
    "# fill in missing values\n",
    "imp = Imputer()\n",
    "X1y_imp = imp.fit_transform(X1y_dropna)"
   ]
  },
  {
   "cell_type": "code",
   "execution_count": 12,
   "metadata": {
    "collapsed": false
   },
   "outputs": [],
   "source": [
    "X1_final = pd.DataFrame(X1y_imp)"
   ]
  },
  {
   "cell_type": "code",
   "execution_count": 13,
   "metadata": {
    "collapsed": false
   },
   "outputs": [],
   "source": [
    "# create a mapping between string labels and integers that will be the classes\n",
    "\n",
    "mapping = {'Change':0, 'Cook':1, 'Eat':2, 'Other':0, 'Rice cooker':1, 'Shower':3, 'Sleep':4,\n",
    "       'TV':5, 'Toilet':6}\n",
    "y_1.replace(mapping, inplace = True)\n",
    "#y_2.replace(mapping, inplace = True)"
   ]
  },
  {
   "cell_type": "code",
   "execution_count": 14,
   "metadata": {
    "collapsed": false
   },
   "outputs": [
    {
     "name": "stdout",
     "output_type": "stream",
     "text": [
      "Counter({0: 8122, 4: 3236, 2: 61, 1: 39, 3: 39, 6: 23})\n"
     ]
    }
   ],
   "source": [
    "print Counter(y_1)\n",
    "#print Counter(y_2)"
   ]
  },
  {
   "cell_type": "code",
   "execution_count": 15,
   "metadata": {
    "collapsed": false
   },
   "outputs": [
    {
     "name": "stdout",
     "output_type": "stream",
     "text": [
      "(11520, 65)\n",
      "(11520L,)\n"
     ]
    }
   ],
   "source": [
    "print X1_final.shape\n",
    "print y_1.shape"
   ]
  },
  {
   "cell_type": "code",
   "execution_count": null,
   "metadata": {
    "collapsed": true
   },
   "outputs": [],
   "source": []
  },
  {
   "cell_type": "markdown",
   "metadata": {},
   "source": [
    "# Train classifiers"
   ]
  },
  {
   "cell_type": "code",
   "execution_count": 16,
   "metadata": {
    "collapsed": false
   },
   "outputs": [
    {
     "name": "stdout",
     "output_type": "stream",
     "text": [
      "[ 0.56190476  0.66811092  0.79184735  0.70920139  0.76388889  0.65104167\n",
      "  0.89661164  0.7767159   0.46133797  0.53437772]\n",
      "0.681503820763\n"
     ]
    }
   ],
   "source": [
    "clf = tree.DecisionTreeClassifier()\n",
    "scores = cross_validation.cross_val_score(clf, X1_final, y_1, cv=10)\n",
    "print scores\n",
    "print np.mean(scores)"
   ]
  },
  {
   "cell_type": "code",
   "execution_count": 17,
   "metadata": {
    "collapsed": false
   },
   "outputs": [],
   "source": [
    "## Split the dataset into training and validation set\n",
    "X_train, X_test, y_train, y_test = train_test_split(X1_final, y_1, test_size=0.25, random_state=2)"
   ]
  },
  {
   "cell_type": "code",
   "execution_count": 18,
   "metadata": {
    "collapsed": false
   },
   "outputs": [
    {
     "data": {
      "text/plain": [
       "array([[1996,    3,    3,    6,   13,    4],\n",
       "       [   1,    8,    2,    0,    0,    0],\n",
       "       [   5,    2,   10,    0,    0,    0],\n",
       "       [   7,    0,    0,    3,    1,    0],\n",
       "       [  17,    0,    0,    0,  787,    1],\n",
       "       [  10,    0,    0,    1,    0,    0]])"
      ]
     },
     "execution_count": 18,
     "metadata": {},
     "output_type": "execute_result"
    }
   ],
   "source": [
    "# Train and decision tree\n",
    "clf_dt = tree.DecisionTreeClassifier(max_depth=20)\n",
    "clf_dt.fit(X_train,y_train)\n",
    "y_pred_dt = clf_dt.predict(X_test)\n",
    "foo = confusion_matrix(y_pred_dt, y_test)\n",
    "foo"
   ]
  },
  {
   "cell_type": "code",
   "execution_count": 19,
   "metadata": {
    "collapsed": false
   },
   "outputs": [
    {
     "data": {
      "text/plain": [
       "array([[2033,    3,    2,    7,    8,    4],\n",
       "       [   0,    9,    1,    0,    0,    0],\n",
       "       [   0,    1,   12,    0,    0,    0],\n",
       "       [   0,    0,    0,    2,    0,    0],\n",
       "       [   3,    0,    0,    1,  793,    1],\n",
       "       [   0,    0,    0,    0,    0,    0]])"
      ]
     },
     "execution_count": 19,
     "metadata": {},
     "output_type": "execute_result"
    }
   ],
   "source": [
    "# Random forest\n",
    "clf_rf = RandomForestClassifier(n_estimators=100)\n",
    "clf_rf.fit(X_train,y_train)\n",
    "y_pred_rf = clf_rf.predict(X_test)\n",
    "foo = confusion_matrix(y_pred_rf, y_test)\n",
    "foo"
   ]
  },
  {
   "cell_type": "code",
   "execution_count": null,
   "metadata": {
    "collapsed": false
   },
   "outputs": [],
   "source": []
  },
  {
   "cell_type": "code",
   "execution_count": 20,
   "metadata": {
    "collapsed": false
   },
   "outputs": [],
   "source": [
    "# Random forest - predict probabilities - change decision boundary\n",
    "clf_rf2 = RandomForestClassifier(n_estimators=100)\n",
    "clf_rf2.fit(X_train,y_train)\n",
    "y_pred_rf_prob = clf_rf2.predict_proba(X_test)"
   ]
  },
  {
   "cell_type": "code",
   "execution_count": 21,
   "metadata": {
    "collapsed": false
   },
   "outputs": [],
   "source": [
    "pred_categories = np.zeros_like(y_test)\n",
    "for i in xrange(len(y_test)):\n",
    "    if y_pred_rf_prob[i][3]>.15:  # shower\n",
    "        pred_categories[i] = 3\n",
    "    elif y_pred_rf_prob[i][5] > .1: #toilet\n",
    "        pred_categories[i] = 6\n",
    "    elif y_pred_rf_prob[i][1] > .30:\n",
    "        pred_categories[i] =1\n",
    "    elif y_pred_rf_prob[i][2] >.10:\n",
    "        pred_categories[i] = 2\n",
    "    elif y_pred_rf_prob[i][4] >.6:\n",
    "        pred_categories[i] = 4"
   ]
  },
  {
   "cell_type": "code",
   "execution_count": 22,
   "metadata": {
    "collapsed": false
   },
   "outputs": [
    {
     "data": {
      "text/plain": [
       "array([[2011,    1,    1,    4,   13,    4],\n",
       "       [   0,   12,    2,    0,    0,    0],\n",
       "       [   7,    0,   12,    0,    0,    0],\n",
       "       [   8,    0,    0,    6,    0,    0],\n",
       "       [   3,    0,    0,    0,  788,    1],\n",
       "       [   7,    0,    0,    0,    0,    0]])"
      ]
     },
     "execution_count": 22,
     "metadata": {},
     "output_type": "execute_result"
    }
   ],
   "source": [
    "confusion_matrix(pred_categories, y_test)"
   ]
  },
  {
   "cell_type": "markdown",
   "metadata": {},
   "source": [
    "{'Change': 0,\n",
    " 'Cook': 1,\n",
    " 'Eat': 2,\n",
    " 'Other': 0,\n",
    " 'Rice cooker': 1,\n",
    " 'Shower': 3,\n",
    " 'Sleep': 4,\n",
    " 'TV': 5,\n",
    " 'Toilet': 6}"
   ]
  },
  {
   "cell_type": "code",
   "execution_count": 23,
   "metadata": {
    "collapsed": true
   },
   "outputs": [],
   "source": [
    "# change weight in cost function"
   ]
  },
  {
   "cell_type": "code",
   "execution_count": 24,
   "metadata": {
    "collapsed": true
   },
   "outputs": [],
   "source": [
    "weights = {0:.01,1:1e10,2:1e10,3:1e20,4:1e5,6:1e15}"
   ]
  },
  {
   "cell_type": "code",
   "execution_count": 25,
   "metadata": {
    "collapsed": false
   },
   "outputs": [
    {
     "data": {
      "text/plain": [
       "array([[ 206,    0,    0,    0,    0,    0],\n",
       "       [  63,   12,    1,    0,    0,    0],\n",
       "       [ 126,    0,   14,    0,    0,    0],\n",
       "       [ 599,    0,    0,   10,  250,    1],\n",
       "       [   7,    0,    0,    0,   62,    0],\n",
       "       [1035,    1,    0,    0,  489,    4]])"
      ]
     },
     "execution_count": 25,
     "metadata": {},
     "output_type": "execute_result"
    }
   ],
   "source": [
    "# random forest with uneven weights\n",
    "clf_rf2 = RandomForestClassifier(n_estimators=100, class_weight=weights)\n",
    "clf_rf2.fit(X_train,y_train)\n",
    "y_pred_rf2 = clf_rf2.predict(X_test)\n",
    "foo = confusion_matrix(y_pred_rf2, y_test)\n",
    "foo"
   ]
  },
  {
   "cell_type": "code",
   "execution_count": null,
   "metadata": {
    "collapsed": true
   },
   "outputs": [],
   "source": []
  },
  {
   "cell_type": "code",
   "execution_count": 26,
   "metadata": {
    "collapsed": false
   },
   "outputs": [],
   "source": [
    "# Adaboost\n",
    "bdt = AdaBoostClassifier(\n",
    "    DecisionTreeClassifier(max_depth=50, class_weight=weights),\n",
    "    n_estimators=1000,\n",
    "    learning_rate=.1)"
   ]
  },
  {
   "cell_type": "code",
   "execution_count": 27,
   "metadata": {
    "collapsed": false
   },
   "outputs": [
    {
     "name": "stdout",
     "output_type": "stream",
     "text": [
      "duration 384.217000008\n"
     ]
    }
   ],
   "source": [
    "start = time.time()\n",
    "bdt.fit(X_train,y_train)\n",
    "end = time.time()\n",
    "print \"duration\", end-start "
   ]
  },
  {
   "cell_type": "code",
   "execution_count": 28,
   "metadata": {
    "collapsed": true
   },
   "outputs": [],
   "source": [
    "pred_bdt = bdt.predict(X_test)\n",
    "cm_bdt = confusion_matrix(pred_bdt, y_test)"
   ]
  },
  {
   "cell_type": "code",
   "execution_count": 29,
   "metadata": {
    "collapsed": false
   },
   "outputs": [
    {
     "data": {
      "text/plain": [
       "array([[2031,    5,    4,    8,    8,    4],\n",
       "       [   0,    7,    1,    0,    0,    0],\n",
       "       [   1,    1,   10,    0,    0,    0],\n",
       "       [   0,    0,    0,    1,    0,    0],\n",
       "       [   3,    0,    0,    1,  793,    1],\n",
       "       [   1,    0,    0,    0,    0,    0]])"
      ]
     },
     "execution_count": 29,
     "metadata": {},
     "output_type": "execute_result"
    }
   ],
   "source": [
    "cm_bdt"
   ]
  },
  {
   "cell_type": "code",
   "execution_count": null,
   "metadata": {
    "collapsed": true
   },
   "outputs": [],
   "source": []
  },
  {
   "cell_type": "code",
   "execution_count": 30,
   "metadata": {
    "collapsed": false
   },
   "outputs": [
    {
     "data": {
      "text/plain": [
       "array([[2032,    3,    1,    7,    7,    4],\n",
       "       [   0,   10,    0,    0,    0,    0],\n",
       "       [   0,    0,   14,    0,    0,    0],\n",
       "       [   0,    0,    0,    2,    0,    0],\n",
       "       [   4,    0,    0,    1,  794,    1],\n",
       "       [   0,    0,    0,    0,    0,    0]])"
      ]
     },
     "execution_count": 30,
     "metadata": {},
     "output_type": "execute_result"
    }
   ],
   "source": [
    "# OVA strategy\n",
    "classif = OneVsRestClassifier(RandomForestClassifier(n_estimators=100))\n",
    "classif.fit(X_train,y_train)\n",
    "y_pred_ova = classif.predict(X_test)\n",
    "confusion_matrix(y_pred_ova, y_test)"
   ]
  },
  {
   "cell_type": "code",
   "execution_count": null,
   "metadata": {
    "collapsed": true
   },
   "outputs": [],
   "source": []
  },
  {
   "cell_type": "code",
   "execution_count": null,
   "metadata": {
    "collapsed": true
   },
   "outputs": [],
   "source": []
  },
  {
   "cell_type": "code",
   "execution_count": 226,
   "metadata": {
    "collapsed": false
   },
   "outputs": [],
   "source": [
    "partition = []\n",
    "for i in xrange(4):\n",
    "    partition.append(range(i*2*1440,(i+1)*2*1440))"
   ]
  },
  {
   "cell_type": "code",
   "execution_count": 227,
   "metadata": {
    "collapsed": false
   },
   "outputs": [],
   "source": [
    "#y_1.iloc[partition[1],]\n",
    "y = y_1.reset_index()\n",
    "del y['index']"
   ]
  },
  {
   "cell_type": "code",
   "execution_count": 228,
   "metadata": {
    "collapsed": true
   },
   "outputs": [],
   "source": [
    "# error rate function\n",
    "def accuracy(pred_labels, true_labels):\n",
    "    acc= sum(pred_labels==true_labels)/float(len(true_labels)) * 100\n",
    "    return acc"
   ]
  },
  {
   "cell_type": "code",
   "execution_count": 230,
   "metadata": {
    "collapsed": false
   },
   "outputs": [
    {
     "name": "stdout",
     "output_type": "stream",
     "text": [
      "[0 3 4 6] [0 3 4 6]\n",
      "[[1846   13  291    7]\n",
      " [  44    0    0    0]\n",
      " [ 156    1  515    0]\n",
      " [   1    1    5    0]]\n",
      "[0 3 4 6] [0 1 2 3 4 6]\n",
      "[[1539    0    0    6  675    4]\n",
      " [  21    0    0    0    9    0]\n",
      " [   2    0    0    0    1    0]\n",
      " [ 162    0    0    0  334    2]\n",
      " [  34    0    0    0   61    0]\n",
      " [  29    0    0    0    1    0]]\n",
      "[0 1 2 3 4 6] [0 1 2 3 4 6]\n",
      "[[1576   18   29    2  953    3]\n",
      " [  20    0    0    0    0    0]\n",
      " [   6    0    0    0    0    0]\n",
      " [  70    0    0    4    4    0]\n",
      " [ 175    0    0    0   16    0]\n",
      " [   4    0    0    0    0    0]]\n",
      "[0 1 2 3 4 6] [0 3 4 6]\n",
      "[[1745   10   16    8   51    3]\n",
      " [   0    0    0    0    0    0]\n",
      " [   0    0    0    0    0    0]\n",
      " [   7    0    0    3    0    0]\n",
      " [ 674   11   16    1  320    4]\n",
      " [  11    0    0    0    0    0]]\n",
      "[81.979166666666671, 55.555555555555557, 55.416666666666671, 71.805555555555557]\n",
      "66.1892361111\n"
     ]
    }
   ],
   "source": [
    "scores = []\n",
    "for idx in partition:\n",
    "    X_test = X1_final.iloc[idx,:]\n",
    "    y_test = y.iloc[idx,:]\n",
    "    train = [item for s in partition if s is not idx for item in s]\n",
    "    X_train = X1_final.iloc[train,:]\n",
    "    y_train = y.iloc[train,:]\n",
    "    clf = tree.DecisionTreeClassifier()\n",
    "    clf.fit(X_train,y_train)\n",
    "    y_pred = clf.predict(X_test)\n",
    "    scores.append(accuracy(y_pred,np.asarray(y_test).ravel()))\n",
    "    print np.unique(y_test), np.unique(y_pred)\n",
    "    print confusion_matrix(y_pred, np.asarray(y_test).ravel())\n",
    "print scores\n",
    "\n",
    "print np.mean(scores)"
   ]
  },
  {
   "cell_type": "code",
   "execution_count": 195,
   "metadata": {
    "collapsed": true
   },
   "outputs": [],
   "source": []
  },
  {
   "cell_type": "code",
   "execution_count": 25,
   "metadata": {
    "collapsed": false
   },
   "outputs": [
    {
     "name": "stdout",
     "output_type": "stream",
     "text": [
      "Cook 3\n",
      "sleep  7\n",
      "eat 3\n",
      "toilet 23\n",
      "shower 7\n"
     ]
    }
   ],
   "source": [
    "# count the number of occurences of each activity (eg nights of sleeping)\n",
    "\n",
    "cook = 0\n",
    "sleep = 0\n",
    "eat = 0\n",
    "toilet = 0\n",
    "shower = 0\n",
    "\n",
    "#bar = np.copy(y_train)\n",
    "bar = np.copy(y_1)\n",
    "\n",
    "state = \"other\"\n",
    "\n",
    "for i in xrange(len(bar)):\n",
    "    if ((bar[i] == 1) and (state != \"cook\")):\n",
    "        cook = cook + 1\n",
    "        state = \"cook\"\n",
    "    if ((bar[i] == 2) and (state != \"eat\")):\n",
    "        eat = eat + 1\n",
    "        state = \"eat\"\n",
    "    if ((bar[i] == 3) and (state != \"shower\")):\n",
    "        shower = shower + 1\n",
    "        state = \"shower\"\n",
    "    if ((bar[i] == 4) and (state != \"sleep\")):\n",
    "        sleep = sleep +1\n",
    "        state = \"sleep\"\n",
    "    if ((bar[i] == 6) and (state != \"toilet\")):\n",
    "        toilet = toilet + 1\n",
    "        state = \"toilet\"\n",
    "    if ((bar[i] == 0) and (state != \"other\")):\n",
    "        state = \"other\"\n",
    "print \"Cook\", cook\n",
    "print \"sleep \", sleep\n",
    "print \"eat\",eat\n",
    "print \"toilet\", toilet\n",
    "print \"shower\", shower"
   ]
  },
  {
   "cell_type": "code",
   "execution_count": 29,
   "metadata": {
    "collapsed": false
   },
   "outputs": [
    {
     "name": "stdout",
     "output_type": "stream",
     "text": [
      "0 70.5034722222\n",
      "1 0.338541666667\n",
      "2 0.529513888889\n",
      "3 0.338541666667\n",
      "4 28.0902777778\n",
      "5 0.0\n"
     ]
    }
   ],
   "source": [
    "for i in xrange(6):\n",
    "    print i, 100*np.sum(y_1 == i)/float(len(y_1))"
   ]
  },
  {
   "cell_type": "code",
   "execution_count": 31,
   "metadata": {
    "collapsed": false
   },
   "outputs": [
    {
     "data": {
      "text/plain": [
       "{'Change': 0,\n",
       " 'Cook': 1,\n",
       " 'Eat': 2,\n",
       " 'Other': 0,\n",
       " 'Rice cooker': 1,\n",
       " 'Shower': 3,\n",
       " 'Sleep': 4,\n",
       " 'TV': 5,\n",
       " 'Toilet': 6}"
      ]
     },
     "execution_count": 31,
     "metadata": {},
     "output_type": "execute_result"
    }
   ],
   "source": [
    "mapping"
   ]
  },
  {
   "cell_type": "code",
   "execution_count": 278,
   "metadata": {
    "collapsed": true
   },
   "outputs": [],
   "source": [
    "def get_metrics(A):\n",
    "    '''\n",
    "    Get metrics of \"goodness of prediction\" out of confusion matrix\n",
    "    Input: Array-shaped, n*n confusion matrix\n",
    "    '''\n",
    "    n = A.shape[0]\n",
    "    \n",
    "    # for each class, compute TP, FN, FP,TN\n",
    "    for i in xrange(n):\n",
    "        TP = A[i][i]  # true positives\n",
    "        TN = np.sum([A[j][j] for j in xrange(n) if j != i])  # true negatives\n",
    "        FP = np.sum([A[i][j] for j in xrange(n) if j != i])  # false neg\n",
    "        FN = np.sum([A[j][i] for j in xrange(n) if j != i])  # false pos\n",
    "        print \"Sensitivity for class \",inv_map[i],\":\", TP/float(TP+FN)\n",
    "        print \"Specificity for class \",inv_map[i],\":\", TN/float(TN+FP)\n",
    "        print \"Precision for class\", inv_map[i], \":\", TP/float(TP+FP)\n",
    "        print \"Negative predictive value for class\", inv_map[i], \":\", TN/float(TN+FN)\n",
    "        print \"Fall-out for class\",inv_map[i],\":\", FP/float(FP+TN)\n",
    "        print \"   \"\n",
    "    \n",
    "    # get "
   ]
  },
  {
   "cell_type": "code",
   "execution_count": 280,
   "metadata": {
    "collapsed": false
   },
   "outputs": [
    {
     "name": "stdout",
     "output_type": "stream",
     "text": [
      "[[2033    2    2    7    8    4]\n",
      " [   0   11    2    0    0    0]\n",
      " [   0    0   11    0    0    0]\n",
      " [   0    0    0    2    0    0]\n",
      " [   3    0    0    1  793    1]\n",
      " [   0    0    0    0    0    0]]\n",
      "Sensitivity for class  Other : 0.998526522593\n",
      "Specificity for class  Other : 0.972619047619\n",
      "Precision for class Other : 0.988813229572\n",
      "Negative predictive value for class Other : 0.996341463415\n",
      "Fall-out for class Other : 0.027380952381\n",
      "   \n",
      "Sensitivity for class  Cook : 0.846153846154\n",
      "Specificity for class  Cook : 0.999296022527\n",
      "Precision for class Cook : 0.846153846154\n",
      "Negative predictive value for class Cook : 0.999296022527\n",
      "Fall-out for class Cook : 0.000703977472721\n",
      "   \n",
      "Sensitivity for class  Eat : 0.733333333333\n",
      "Specificity for class  Eat : 1.0\n",
      "Precision for class Eat : 1.0\n",
      "Negative predictive value for class Eat : 0.998593035526\n",
      "Fall-out for class Eat : 0.0\n",
      "   \n",
      "Sensitivity for class  Shower : 0.2\n",
      "Specificity for class  Shower : 1.0\n",
      "Precision for class Shower : 1.0\n",
      "Negative predictive value for class Shower : 0.997198879552\n",
      "Fall-out for class Shower : 0.0\n",
      "   \n",
      "Sensitivity for class  Sleep : 0.990012484395\n",
      "Specificity for class  Sleep : 0.997575169738\n",
      "Precision for class Sleep : 0.99373433584\n",
      "Negative predictive value for class Sleep : 0.99612590799\n",
      "Fall-out for class Sleep : 0.00242483026188\n",
      "   \n",
      "Sensitivity for class  Toilet : 0.0\n",
      "Specificity for class  Toilet : 1.0\n",
      "Precision for class Toilet : nan\n",
      "Negative predictive value for class Toilet : 0.998248686515\n",
      "Fall-out for class Toilet : 0.0\n",
      "   \n"
     ]
    }
   ],
   "source": [
    "print foo\n",
    "get_metrics(foo)"
   ]
  },
  {
   "cell_type": "code",
   "execution_count": 279,
   "metadata": {
    "collapsed": false
   },
   "outputs": [],
   "source": [
    "inv_map = [\"Other\", \"Cook\", \"Eat\", \"Shower\", \"Sleep\", \"Toilet\"]"
   ]
  },
  {
   "cell_type": "code",
   "execution_count": 47,
   "metadata": {
    "collapsed": false
   },
   "outputs": [],
   "source": [
    "blop = []\n",
    "for i in xrange(X_1.shape[0]):\n",
    "    blop.append(X_1.shape[1] - np.sum(X_1.iloc[i,:].isnull()))\n",
    "\n",
    "#import matplotlib.pyplot as plt\n",
    "\n",
    "plt.plot(blop)\n",
    "plt.xlabel('Time')\n",
    "plt.ylabel('Number of non-missing values')\n",
    "plt.show()"
   ]
  },
  {
   "cell_type": "code",
   "execution_count": 32,
   "metadata": {
    "collapsed": false
   },
   "outputs": [],
   "source": []
  },
  {
   "cell_type": "code",
   "execution_count": 47,
   "metadata": {
    "collapsed": false
   },
   "outputs": [
    {
     "data": {
      "image/png": "[encoded data removed]",
      "text/plain": [
       "<matplotlib.figure.Figure at 0x2aa32ba8>"
      ]
     },
     "metadata": {},
     "output_type": "display_data"
    }
   ],
   "source": [
    "#import matplotlib.pyplot as plt\n",
    "\n",
    "plt.plot(blop)\n",
    "plt.show()"
   ]
  },
  {
   "cell_type": "code",
   "execution_count": 224,
   "metadata": {
    "collapsed": true
   },
   "outputs": [],
   "source": [
    "u, idx = np.unique(blop, return_index= True)"
   ]
  },
  {
   "cell_type": "code",
   "execution_count": 69,
   "metadata": {
    "collapsed": false
   },
   "outputs": [
    {
     "name": "stdout",
     "output_type": "stream",
     "text": [
      "2016-03-02 10:00:00\n",
      "2016-03-06 10:00:00\n",
      "2016-03-14 10:00:00\n",
      "2016-03-18 10:00:00\n"
     ]
    }
   ],
   "source": [
    "print X_1.Time_stamp[9239]\n",
    "print X_1.Time_stamp[14999]\n",
    "print X_1.Time_stamp[26519]\n",
    "print X_1.Time_stamp[32279]"
   ]
  },
  {
   "cell_type": "code",
   "execution_count": null,
   "metadata": {
    "collapsed": true
   },
   "outputs": [],
   "source": []
  },
  {
   "cell_type": "code",
   "execution_count": 48,
   "metadata": {
    "collapsed": false
   },
   "outputs": [
    {
     "name": "stdout",
     "output_type": "stream",
     "text": [
      "26\n"
     ]
    }
   ],
   "source": [
    "print X_1.shape[1] - np.sum(X_1.iloc[9307-7*60,:].isnull())"
   ]
  },
  {
   "cell_type": "code",
   "execution_count": 46,
   "metadata": {
    "collapsed": true
   },
   "outputs": [],
   "source": [
    "%matplotlib inline"
   ]
  },
  {
   "cell_type": "markdown",
   "metadata": {},
   "source": [
    "## Counter"
   ]
  },
  {
   "cell_type": "code",
   "execution_count": 39,
   "metadata": {
    "collapsed": false
   },
   "outputs": [
    {
     "ename": "WindowsError",
     "evalue": "[Error 3] The system cannot find the path specified: '/Users/marie/Documents/Capstone/Capstone_MachineLearning/New data/sensor files'",
     "output_type": "error",
     "traceback": [
      "\u001b[1;31m---------------------------------------------------------------------------\u001b[0m",
      "\u001b[1;31mWindowsError\u001b[0m                              Traceback (most recent call last)",
      "\u001b[1;32m<ipython-input-39-b44b1c84aea6>\u001b[0m in \u001b[0;36m<module>\u001b[1;34m()\u001b[0m\n\u001b[0;32m      1\u001b[0m \u001b[1;32mimport\u001b[0m \u001b[0mos\u001b[0m\u001b[1;33m\u001b[0m\u001b[0m\n\u001b[1;32m----> 2\u001b[1;33m \u001b[0mos\u001b[0m\u001b[1;33m.\u001b[0m\u001b[0mchdir\u001b[0m\u001b[1;33m(\u001b[0m\u001b[1;34m'/Users/marie/Documents/Capstone/Capstone_MachineLearning/New data/sensor files'\u001b[0m\u001b[1;33m)\u001b[0m\u001b[1;33m\u001b[0m\u001b[0m\n\u001b[0m\u001b[0;32m      3\u001b[0m \u001b[0mos\u001b[0m\u001b[1;33m.\u001b[0m\u001b[0mgetcwd\u001b[0m\u001b[1;33m(\u001b[0m\u001b[1;33m)\u001b[0m\u001b[1;33m\u001b[0m\u001b[0m\n",
      "\u001b[1;31mWindowsError\u001b[0m: [Error 3] The system cannot find the path specified: '/Users/marie/Documents/Capstone/Capstone_MachineLearning/New data/sensor files'"
     ]
    }
   ],
   "source": [
    "import os\n",
    "os.chdir('/Users/marie/Documents/Capstone/Capstone_MachineLearning/New data/sensor files')\n",
    "os.getcwd()"
   ]
  },
  {
   "cell_type": "code",
   "execution_count": 117,
   "metadata": {
    "collapsed": true
   },
   "outputs": [],
   "source": [
    "humidity = pd.read_csv(\"20160329232406 to 20160401232729 B0B448B8A585 Humidity(rH).csv\", header=None)"
   ]
  },
  {
   "cell_type": "code",
   "execution_count": 118,
   "metadata": {
    "collapsed": false
   },
   "outputs": [
    {
     "data": {
      "text/plain": [
       "(603101, 4)"
      ]
     },
     "execution_count": 118,
     "metadata": {},
     "output_type": "execute_result"
    }
   ],
   "source": [
    "humidity.shape"
   ]
  },
  {
   "cell_type": "code",
   "execution_count": 119,
   "metadata": {
    "collapsed": false
   },
   "outputs": [
    {
     "data": {
      "text/html": [
       "<div>\n",
       "<table border=\"1\" class=\"dataframe\">\n",
       "  <thead>\n",
       "    <tr style=\"text-align: right;\">\n",
       "      <th></th>\n",
       "      <th>0</th>\n",
       "      <th>1</th>\n",
       "      <th>2</th>\n",
       "      <th>3</th>\n",
       "    </tr>\n",
       "  </thead>\n",
       "  <tbody>\n",
       "    <tr>\n",
       "      <th>0</th>\n",
       "      <td>2016-03-29 23:24:16.730</td>\n",
       "      <td>B0:B4:48:B8:A5:85</td>\n",
       "      <td>Humidity(rH)</td>\n",
       "      <td>82.929581</td>\n",
       "    </tr>\n",
       "    <tr>\n",
       "      <th>1</th>\n",
       "      <td>2016-03-29 23:24:16.963</td>\n",
       "      <td>B0:B4:48:B8:A5:85</td>\n",
       "      <td>Humidity(rH)</td>\n",
       "      <td>-1.017930</td>\n",
       "    </tr>\n",
       "    <tr>\n",
       "      <th>2</th>\n",
       "      <td>2016-03-29 23:24:17.696</td>\n",
       "      <td>B0:B4:48:B8:A5:85</td>\n",
       "      <td>Humidity(rH)</td>\n",
       "      <td>82.929581</td>\n",
       "    </tr>\n",
       "    <tr>\n",
       "      <th>3</th>\n",
       "      <td>2016-03-29 23:24:17.989</td>\n",
       "      <td>B0:B4:48:B8:A5:85</td>\n",
       "      <td>Humidity(rH)</td>\n",
       "      <td>-1.017930</td>\n",
       "    </tr>\n",
       "    <tr>\n",
       "      <th>4</th>\n",
       "      <td>2016-03-29 23:24:18.726</td>\n",
       "      <td>B0:B4:48:B8:A5:85</td>\n",
       "      <td>Humidity(rH)</td>\n",
       "      <td>82.929581</td>\n",
       "    </tr>\n",
       "  </tbody>\n",
       "</table>\n",
       "</div>"
      ],
      "text/plain": [
       "                         0                  1             2          3\n",
       "0  2016-03-29 23:24:16.730  B0:B4:48:B8:A5:85  Humidity(rH)  82.929581\n",
       "1  2016-03-29 23:24:16.963  B0:B4:48:B8:A5:85  Humidity(rH)  -1.017930\n",
       "2  2016-03-29 23:24:17.696  B0:B4:48:B8:A5:85  Humidity(rH)  82.929581\n",
       "3  2016-03-29 23:24:17.989  B0:B4:48:B8:A5:85  Humidity(rH)  -1.017930\n",
       "4  2016-03-29 23:24:18.726  B0:B4:48:B8:A5:85  Humidity(rH)  82.929581"
      ]
     },
     "execution_count": 119,
     "metadata": {},
     "output_type": "execute_result"
    }
   ],
   "source": [
    "humidity.head()"
   ]
  },
  {
   "cell_type": "code",
   "execution_count": 142,
   "metadata": {
    "collapsed": false
   },
   "outputs": [
    {
     "name": "stdout",
     "output_type": "stream",
     "text": [
      "[(82.929580688476562, 301933), (-1.1628899574279783, 10465), (-1.1552605628967283, 8263)]\n"
     ]
    }
   ],
   "source": [
    "c_h = Counter(humidity[3])\n",
    "print c_h.most_common(3)"
   ]
  },
  {
   "cell_type": "code",
   "execution_count": 139,
   "metadata": {
    "collapsed": true
   },
   "outputs": [],
   "source": [
    "mattress = pd.read_csv(\"20160328170855 to 20160331171411 B0B448B8F204 Accelerometer(G).csv\", header=None)"
   ]
  },
  {
   "cell_type": "code",
   "execution_count": 140,
   "metadata": {
    "collapsed": false
   },
   "outputs": [
    {
     "data": {
      "text/plain": [
       "(1528201, 14)"
      ]
     },
     "execution_count": 140,
     "metadata": {},
     "output_type": "execute_result"
    }
   ],
   "source": [
    "mattress.shape"
   ]
  },
  {
   "cell_type": "code",
   "execution_count": 141,
   "metadata": {
    "collapsed": false
   },
   "outputs": [
    {
     "name": "stdout",
     "output_type": "stream",
     "text": [
      "[(-0.0, 81399), (0.02587890625, 36179), (0.025634765625, 35797)]\n"
     ]
    }
   ],
   "source": [
    "c_h = Counter(mattress[3])\n",
    "print c_h.most_common(3)"
   ]
  },
  {
   "cell_type": "code",
   "execution_count": 125,
   "metadata": {
    "collapsed": true
   },
   "outputs": [],
   "source": [
    "humidity_2 = pd.read_csv('20160402112805 to 20160405113116 B0B448B8A585 Humidity(rH).csv', header=None)"
   ]
  },
  {
   "cell_type": "code",
   "execution_count": 127,
   "metadata": {
    "collapsed": false
   },
   "outputs": [
    {
     "data": {
      "text/html": [
       "<div>\n",
       "<table border=\"1\" class=\"dataframe\">\n",
       "  <thead>\n",
       "    <tr style=\"text-align: right;\">\n",
       "      <th></th>\n",
       "      <th>0</th>\n",
       "      <th>1</th>\n",
       "      <th>2</th>\n",
       "      <th>3</th>\n",
       "    </tr>\n",
       "  </thead>\n",
       "  <tbody>\n",
       "    <tr>\n",
       "      <th>0</th>\n",
       "      <td>2016-03-29 23:24:16.730</td>\n",
       "      <td>B0:B4:48:B8:A5:85</td>\n",
       "      <td>Humidity(rH)</td>\n",
       "      <td>82.929581</td>\n",
       "    </tr>\n",
       "    <tr>\n",
       "      <th>1</th>\n",
       "      <td>2016-03-29 23:24:16.963</td>\n",
       "      <td>B0:B4:48:B8:A5:85</td>\n",
       "      <td>Humidity(rH)</td>\n",
       "      <td>-1.017930</td>\n",
       "    </tr>\n",
       "    <tr>\n",
       "      <th>2</th>\n",
       "      <td>2016-03-29 23:24:17.696</td>\n",
       "      <td>B0:B4:48:B8:A5:85</td>\n",
       "      <td>Humidity(rH)</td>\n",
       "      <td>82.929581</td>\n",
       "    </tr>\n",
       "    <tr>\n",
       "      <th>3</th>\n",
       "      <td>2016-03-29 23:24:17.989</td>\n",
       "      <td>B0:B4:48:B8:A5:85</td>\n",
       "      <td>Humidity(rH)</td>\n",
       "      <td>-1.017930</td>\n",
       "    </tr>\n",
       "    <tr>\n",
       "      <th>4</th>\n",
       "      <td>2016-03-29 23:24:18.726</td>\n",
       "      <td>B0:B4:48:B8:A5:85</td>\n",
       "      <td>Humidity(rH)</td>\n",
       "      <td>82.929581</td>\n",
       "    </tr>\n",
       "  </tbody>\n",
       "</table>\n",
       "</div>"
      ],
      "text/plain": [
       "                         0                  1             2          3\n",
       "0  2016-03-29 23:24:16.730  B0:B4:48:B8:A5:85  Humidity(rH)  82.929581\n",
       "1  2016-03-29 23:24:16.963  B0:B4:48:B8:A5:85  Humidity(rH)  -1.017930\n",
       "2  2016-03-29 23:24:17.696  B0:B4:48:B8:A5:85  Humidity(rH)  82.929581\n",
       "3  2016-03-29 23:24:17.989  B0:B4:48:B8:A5:85  Humidity(rH)  -1.017930\n",
       "4  2016-03-29 23:24:18.726  B0:B4:48:B8:A5:85  Humidity(rH)  82.929581"
      ]
     },
     "execution_count": 127,
     "metadata": {},
     "output_type": "execute_result"
    }
   ],
   "source": [
    "humidity.head()"
   ]
  },
  {
   "cell_type": "code",
   "execution_count": 137,
   "metadata": {
    "collapsed": false
   },
   "outputs": [
    {
     "name": "stdout",
     "output_type": "stream",
     "text": [
      "[(82.929580688476562, 302001), (-0.88822746276855469, 9401), (-0.78904390335083008, 8739)]\n"
     ]
    }
   ],
   "source": [
    "c_h_2 = Counter(humidity_2[3])\n",
    "print c_h_2.most_common(3)"
   ]
  },
  {
   "cell_type": "code",
   "execution_count": 129,
   "metadata": {
    "collapsed": false
   },
   "outputs": [
    {
     "data": {
      "text/plain": [
       "(603248, 4)"
      ]
     },
     "execution_count": 129,
     "metadata": {},
     "output_type": "execute_result"
    }
   ],
   "source": [
    "humidity_2.shape"
   ]
  },
  {
   "cell_type": "code",
   "execution_count": 130,
   "metadata": {
    "collapsed": true
   },
   "outputs": [],
   "source": [
    "mattress_2 = pd.read_csv('20160401051452 to 20160409121927 B0B448B8F204 Accelerometer(G).csv', header=None)"
   ]
  },
  {
   "cell_type": "code",
   "execution_count": 131,
   "metadata": {
    "collapsed": false
   },
   "outputs": [
    {
     "data": {
      "text/plain": [
       "(849009, 14)"
      ]
     },
     "execution_count": 131,
     "metadata": {},
     "output_type": "execute_result"
    }
   ],
   "source": [
    "mattress_2.shape"
   ]
  },
  {
   "cell_type": "code",
   "execution_count": 132,
   "metadata": {
    "collapsed": false
   },
   "outputs": [
    {
     "data": {
      "text/html": [
       "<div>\n",
       "<table border=\"1\" class=\"dataframe\">\n",
       "  <thead>\n",
       "    <tr style=\"text-align: right;\">\n",
       "      <th></th>\n",
       "      <th>0</th>\n",
       "      <th>1</th>\n",
       "      <th>2</th>\n",
       "      <th>3</th>\n",
       "      <th>4</th>\n",
       "      <th>5</th>\n",
       "      <th>6</th>\n",
       "      <th>7</th>\n",
       "      <th>8</th>\n",
       "      <th>9</th>\n",
       "      <th>10</th>\n",
       "      <th>11</th>\n",
       "      <th>12</th>\n",
       "      <th>13</th>\n",
       "    </tr>\n",
       "  </thead>\n",
       "  <tbody>\n",
       "    <tr>\n",
       "      <th>0</th>\n",
       "      <td>2016-04-01 05:11:34.103</td>\n",
       "      <td>B0:B4:48:B8:F2:04</td>\n",
       "      <td>Accelerometer(G)</td>\n",
       "      <td>0.019287</td>\n",
       "      <td>0.001709</td>\n",
       "      <td>1.060059</td>\n",
       "      <td>Gyroscope(deg/s)</td>\n",
       "      <td>-2.765625</td>\n",
       "      <td>0.375000</td>\n",
       "      <td>0.445312</td>\n",
       "      <td>Magnetometer(uT)</td>\n",
       "      <td>0</td>\n",
       "      <td>0</td>\n",
       "      <td>0</td>\n",
       "    </tr>\n",
       "    <tr>\n",
       "      <th>1</th>\n",
       "      <td>2016-04-01 05:11:34.443</td>\n",
       "      <td>B0:B4:48:B8:F2:04</td>\n",
       "      <td>Accelerometer(G)</td>\n",
       "      <td>-0.000000</td>\n",
       "      <td>0.000000</td>\n",
       "      <td>-0.000000</td>\n",
       "      <td>Gyroscope(deg/s)</td>\n",
       "      <td>0.000000</td>\n",
       "      <td>0.000000</td>\n",
       "      <td>0.000000</td>\n",
       "      <td>Magnetometer(uT)</td>\n",
       "      <td>0</td>\n",
       "      <td>0</td>\n",
       "      <td>0</td>\n",
       "    </tr>\n",
       "    <tr>\n",
       "      <th>2</th>\n",
       "      <td>2016-04-01 05:11:34.445</td>\n",
       "      <td>B0:B4:48:B8:F2:04</td>\n",
       "      <td>Accelerometer(G)</td>\n",
       "      <td>0.018799</td>\n",
       "      <td>-0.066162</td>\n",
       "      <td>1.058105</td>\n",
       "      <td>Gyroscope(deg/s)</td>\n",
       "      <td>-2.890625</td>\n",
       "      <td>0.781250</td>\n",
       "      <td>0.234375</td>\n",
       "      <td>Magnetometer(uT)</td>\n",
       "      <td>0</td>\n",
       "      <td>0</td>\n",
       "      <td>0</td>\n",
       "    </tr>\n",
       "    <tr>\n",
       "      <th>3</th>\n",
       "      <td>2016-04-01 05:11:34.638</td>\n",
       "      <td>B0:B4:48:B8:F2:04</td>\n",
       "      <td>Accelerometer(G)</td>\n",
       "      <td>0.016357</td>\n",
       "      <td>-0.063232</td>\n",
       "      <td>1.126221</td>\n",
       "      <td>Gyroscope(deg/s)</td>\n",
       "      <td>-2.859375</td>\n",
       "      <td>0.523438</td>\n",
       "      <td>0.414062</td>\n",
       "      <td>Magnetometer(uT)</td>\n",
       "      <td>0</td>\n",
       "      <td>0</td>\n",
       "      <td>0</td>\n",
       "    </tr>\n",
       "    <tr>\n",
       "      <th>4</th>\n",
       "      <td>2016-04-01 05:11:34.833</td>\n",
       "      <td>B0:B4:48:B8:F2:04</td>\n",
       "      <td>Accelerometer(G)</td>\n",
       "      <td>0.017578</td>\n",
       "      <td>-0.065430</td>\n",
       "      <td>1.130127</td>\n",
       "      <td>Gyroscope(deg/s)</td>\n",
       "      <td>-2.843750</td>\n",
       "      <td>0.500000</td>\n",
       "      <td>0.398438</td>\n",
       "      <td>Magnetometer(uT)</td>\n",
       "      <td>0</td>\n",
       "      <td>0</td>\n",
       "      <td>0</td>\n",
       "    </tr>\n",
       "  </tbody>\n",
       "</table>\n",
       "</div>"
      ],
      "text/plain": [
       "                        0                  1                 2         3   \\\n",
       "0  2016-04-01 05:11:34.103  B0:B4:48:B8:F2:04  Accelerometer(G)  0.019287   \n",
       "1  2016-04-01 05:11:34.443  B0:B4:48:B8:F2:04  Accelerometer(G) -0.000000   \n",
       "2  2016-04-01 05:11:34.445  B0:B4:48:B8:F2:04  Accelerometer(G)  0.018799   \n",
       "3  2016-04-01 05:11:34.638  B0:B4:48:B8:F2:04  Accelerometer(G)  0.016357   \n",
       "4  2016-04-01 05:11:34.833  B0:B4:48:B8:F2:04  Accelerometer(G)  0.017578   \n",
       "\n",
       "         4         5                 6         7         8         9   \\\n",
       "0  0.001709  1.060059  Gyroscope(deg/s) -2.765625  0.375000  0.445312   \n",
       "1  0.000000 -0.000000  Gyroscope(deg/s)  0.000000  0.000000  0.000000   \n",
       "2 -0.066162  1.058105  Gyroscope(deg/s) -2.890625  0.781250  0.234375   \n",
       "3 -0.063232  1.126221  Gyroscope(deg/s) -2.859375  0.523438  0.414062   \n",
       "4 -0.065430  1.130127  Gyroscope(deg/s) -2.843750  0.500000  0.398438   \n",
       "\n",
       "                 10  11  12  13  \n",
       "0  Magnetometer(uT)   0   0   0  \n",
       "1  Magnetometer(uT)   0   0   0  \n",
       "2  Magnetometer(uT)   0   0   0  \n",
       "3  Magnetometer(uT)   0   0   0  \n",
       "4  Magnetometer(uT)   0   0   0  "
      ]
     },
     "execution_count": 132,
     "metadata": {},
     "output_type": "execute_result"
    }
   ],
   "source": [
    "mattress_2.head()"
   ]
  },
  {
   "cell_type": "code",
   "execution_count": 136,
   "metadata": {
    "collapsed": false
   },
   "outputs": [
    {
     "name": "stdout",
     "output_type": "stream",
     "text": [
      "[(0.0, 48423), (1.270159125328064, 76), (1.2723643183708191, 73)]\n"
     ]
    }
   ],
   "source": [
    "c = Counter(mattress_2[3]**2+mattress_2[4]**2+mattress_2[5]**2)\n",
    "print c.most_common(3)"
   ]
  },
  {
   "cell_type": "code",
   "execution_count": 135,
   "metadata": {
    "collapsed": false
   },
   "outputs": [
    {
     "data": {
      "text/plain": [
       "5.703473108058925"
      ]
     },
     "execution_count": 135,
     "metadata": {},
     "output_type": "execute_result"
    }
   ],
   "source": [
    "48423/849009.0 * 100"
   ]
  },
  {
   "cell_type": "code",
   "execution_count": 145,
   "metadata": {
    "collapsed": false
   },
   "outputs": [
    {
     "name": "stdout",
     "output_type": "stream",
     "text": [
      "[(-0.0, 48423), (0.025390625, 26764), (0.025634765625, 26753)]\n"
     ]
    }
   ],
   "source": [
    "cb = Counter(mattress_2[3])\n",
    "print cb.most_common(3)"
   ]
  },
  {
   "cell_type": "code",
   "execution_count": 147,
   "metadata": {
    "collapsed": false
   },
   "outputs": [],
   "source": [
    "toilet = pd.read_csv(\"20160329232406 to 20160401232729 B0B448D01606 Accelerometer(G).csv\", header=None)"
   ]
  },
  {
   "cell_type": "code",
   "execution_count": 148,
   "metadata": {
    "collapsed": false
   },
   "outputs": [
    {
     "data": {
      "text/html": [
       "<div>\n",
       "<table border=\"1\" class=\"dataframe\">\n",
       "  <thead>\n",
       "    <tr style=\"text-align: right;\">\n",
       "      <th></th>\n",
       "      <th>0</th>\n",
       "      <th>1</th>\n",
       "      <th>2</th>\n",
       "      <th>3</th>\n",
       "      <th>4</th>\n",
       "      <th>5</th>\n",
       "      <th>6</th>\n",
       "      <th>7</th>\n",
       "      <th>8</th>\n",
       "      <th>9</th>\n",
       "      <th>10</th>\n",
       "      <th>11</th>\n",
       "      <th>12</th>\n",
       "      <th>13</th>\n",
       "    </tr>\n",
       "  </thead>\n",
       "  <tbody>\n",
       "    <tr>\n",
       "      <th>0</th>\n",
       "      <td>2016-03-29 23:24:14.138</td>\n",
       "      <td>B0:B4:48:D0:16:06</td>\n",
       "      <td>Accelerometer(G)</td>\n",
       "      <td>0.142822</td>\n",
       "      <td>1.006348</td>\n",
       "      <td>0.138184</td>\n",
       "      <td>Gyroscope(deg/s)</td>\n",
       "      <td>-2.296875</td>\n",
       "      <td>-0.750000</td>\n",
       "      <td>0.867188</td>\n",
       "      <td>Magnetometer(uT)</td>\n",
       "      <td>43.000000</td>\n",
       "      <td>-59.000000</td>\n",
       "      <td>-104.500000</td>\n",
       "    </tr>\n",
       "    <tr>\n",
       "      <th>1</th>\n",
       "      <td>2016-03-29 23:24:14.335</td>\n",
       "      <td>B0:B4:48:D0:16:06</td>\n",
       "      <td>Accelerometer(G)</td>\n",
       "      <td>0.142822</td>\n",
       "      <td>1.004639</td>\n",
       "      <td>0.133545</td>\n",
       "      <td>Gyroscope(deg/s)</td>\n",
       "      <td>-2.726562</td>\n",
       "      <td>-0.593750</td>\n",
       "      <td>0.703125</td>\n",
       "      <td>Magnetometer(uT)</td>\n",
       "      <td>-1.666667</td>\n",
       "      <td>-60.333332</td>\n",
       "      <td>-104.500000</td>\n",
       "    </tr>\n",
       "    <tr>\n",
       "      <th>2</th>\n",
       "      <td>2016-03-29 23:24:14.569</td>\n",
       "      <td>B0:B4:48:D0:16:06</td>\n",
       "      <td>Accelerometer(G)</td>\n",
       "      <td>0.143311</td>\n",
       "      <td>1.007324</td>\n",
       "      <td>0.135498</td>\n",
       "      <td>Gyroscope(deg/s)</td>\n",
       "      <td>-2.351562</td>\n",
       "      <td>-0.632812</td>\n",
       "      <td>0.820312</td>\n",
       "      <td>Magnetometer(uT)</td>\n",
       "      <td>-2.000000</td>\n",
       "      <td>-59.833332</td>\n",
       "      <td>-102.833336</td>\n",
       "    </tr>\n",
       "    <tr>\n",
       "      <th>3</th>\n",
       "      <td>2016-03-29 23:24:14.709</td>\n",
       "      <td>B0:B4:48:D0:16:06</td>\n",
       "      <td>Accelerometer(G)</td>\n",
       "      <td>0.140137</td>\n",
       "      <td>1.008789</td>\n",
       "      <td>0.133057</td>\n",
       "      <td>Gyroscope(deg/s)</td>\n",
       "      <td>-2.312500</td>\n",
       "      <td>-0.750000</td>\n",
       "      <td>-0.976562</td>\n",
       "      <td>Magnetometer(uT)</td>\n",
       "      <td>-1.833333</td>\n",
       "      <td>-60.500000</td>\n",
       "      <td>-103.833336</td>\n",
       "    </tr>\n",
       "    <tr>\n",
       "      <th>4</th>\n",
       "      <td>2016-03-29 23:24:14.924</td>\n",
       "      <td>B0:B4:48:D0:16:06</td>\n",
       "      <td>Accelerometer(G)</td>\n",
       "      <td>0.147705</td>\n",
       "      <td>1.005859</td>\n",
       "      <td>0.136230</td>\n",
       "      <td>Gyroscope(deg/s)</td>\n",
       "      <td>-2.273438</td>\n",
       "      <td>-0.710938</td>\n",
       "      <td>0.812500</td>\n",
       "      <td>Magnetometer(uT)</td>\n",
       "      <td>-0.166667</td>\n",
       "      <td>-59.166668</td>\n",
       "      <td>-103.833336</td>\n",
       "    </tr>\n",
       "  </tbody>\n",
       "</table>\n",
       "</div>"
      ],
      "text/plain": [
       "                        0                  1                 2         3   \\\n",
       "0  2016-03-29 23:24:14.138  B0:B4:48:D0:16:06  Accelerometer(G)  0.142822   \n",
       "1  2016-03-29 23:24:14.335  B0:B4:48:D0:16:06  Accelerometer(G)  0.142822   \n",
       "2  2016-03-29 23:24:14.569  B0:B4:48:D0:16:06  Accelerometer(G)  0.143311   \n",
       "3  2016-03-29 23:24:14.709  B0:B4:48:D0:16:06  Accelerometer(G)  0.140137   \n",
       "4  2016-03-29 23:24:14.924  B0:B4:48:D0:16:06  Accelerometer(G)  0.147705   \n",
       "\n",
       "         4         5                 6         7         8         9   \\\n",
       "0  1.006348  0.138184  Gyroscope(deg/s) -2.296875 -0.750000  0.867188   \n",
       "1  1.004639  0.133545  Gyroscope(deg/s) -2.726562 -0.593750  0.703125   \n",
       "2  1.007324  0.135498  Gyroscope(deg/s) -2.351562 -0.632812  0.820312   \n",
       "3  1.008789  0.133057  Gyroscope(deg/s) -2.312500 -0.750000 -0.976562   \n",
       "4  1.005859  0.136230  Gyroscope(deg/s) -2.273438 -0.710938  0.812500   \n",
       "\n",
       "                 10         11         12          13  \n",
       "0  Magnetometer(uT)  43.000000 -59.000000 -104.500000  \n",
       "1  Magnetometer(uT)  -1.666667 -60.333332 -104.500000  \n",
       "2  Magnetometer(uT)  -2.000000 -59.833332 -102.833336  \n",
       "3  Magnetometer(uT)  -1.833333 -60.500000 -103.833336  \n",
       "4  Magnetometer(uT)  -0.166667 -59.166668 -103.833336  "
      ]
     },
     "execution_count": 148,
     "metadata": {},
     "output_type": "execute_result"
    }
   ],
   "source": [
    "toilet.head()"
   ]
  },
  {
   "cell_type": "code",
   "execution_count": 157,
   "metadata": {
    "collapsed": false
   },
   "outputs": [],
   "source": [
    "os.chdir('/Users/marie/Documents/Capstone/Capstone_MachineLearning/files Ludo/sensor files')\n",
    "hum = pd.read_csv(\"20160302105921 to 20160318234803 B0B448B8A585 Humidity(rH).csv\", header=None)"
   ]
  },
  {
   "cell_type": "code",
   "execution_count": 158,
   "metadata": {
    "collapsed": false
   },
   "outputs": [
    {
     "data": {
      "text/plain": [
       "(1640840, 4)"
      ]
     },
     "execution_count": 158,
     "metadata": {},
     "output_type": "execute_result"
    }
   ],
   "source": [
    "hum.shape"
   ]
  },
  {
   "cell_type": "code",
   "execution_count": 159,
   "metadata": {
    "collapsed": false
   },
   "outputs": [
    {
     "data": {
      "text/plain": [
       "[(118.99427795410156, 31889),\n",
       " (-0.88822746276855469, 16775),\n",
       " (-0.82719135284423828, 16146)]"
      ]
     },
     "execution_count": 159,
     "metadata": {},
     "output_type": "execute_result"
    }
   ],
   "source": [
    "c = Counter(hum[3])\n",
    "c.most_common(3)"
   ]
  },
  {
   "cell_type": "code",
   "execution_count": 160,
   "metadata": {
    "collapsed": false
   },
   "outputs": [
    {
     "data": {
      "text/plain": [
       "array([  0.00000000e+00,   6.09443943e-06,   1.21888789e-05, ...,\n",
       "        -1.82833183e-05,  -1.21888789e-05,  -6.09443943e-06])"
      ]
     },
     "execution_count": 160,
     "metadata": {},
     "output_type": "execute_result"
    }
   ],
   "source": [
    "fourier = np.fft.fft(hum[3])\n",
    "n = hum[3].size\n",
    "timestep = 0.1\n",
    "freq = np.fft.fftfreq(n, d=timestep)\n",
    "freq"
   ]
  },
  {
   "cell_type": "code",
   "execution_count": 170,
   "metadata": {
    "collapsed": true
   },
   "outputs": [],
   "source": [
    "os.chdir('/Users/marie/Documents/Capstone/Capstone_MachineLearning/New data/sensor files')\n",
    "mat = pd.read_csv(\"20160328170855 to 20160331171411 B0B448B8F204 Accelerometer(G).csv\", header=None)"
   ]
  },
  {
   "cell_type": "code",
   "execution_count": 171,
   "metadata": {
    "collapsed": false
   },
   "outputs": [
    {
     "data": {
      "text/html": [
       "<div>\n",
       "<table border=\"1\" class=\"dataframe\">\n",
       "  <thead>\n",
       "    <tr style=\"text-align: right;\">\n",
       "      <th></th>\n",
       "      <th>0</th>\n",
       "      <th>1</th>\n",
       "      <th>2</th>\n",
       "      <th>3</th>\n",
       "      <th>4</th>\n",
       "      <th>5</th>\n",
       "      <th>6</th>\n",
       "      <th>7</th>\n",
       "      <th>8</th>\n",
       "      <th>9</th>\n",
       "      <th>10</th>\n",
       "      <th>11</th>\n",
       "      <th>12</th>\n",
       "      <th>13</th>\n",
       "    </tr>\n",
       "  </thead>\n",
       "  <tbody>\n",
       "    <tr>\n",
       "      <th>0</th>\n",
       "      <td>2016-03-28 17:08:55.405</td>\n",
       "      <td>B0:B4:48:B8:F2:04</td>\n",
       "      <td>Accelerometer(G)</td>\n",
       "      <td>0.028809</td>\n",
       "      <td>0.005127</td>\n",
       "      <td>1.129395</td>\n",
       "      <td>Gyroscope(deg/s)</td>\n",
       "      <td>-2.687500</td>\n",
       "      <td>0.820312</td>\n",
       "      <td>0.234375</td>\n",
       "      <td>Magnetometer(uT)</td>\n",
       "      <td>0</td>\n",
       "      <td>0</td>\n",
       "      <td>0</td>\n",
       "    </tr>\n",
       "    <tr>\n",
       "      <th>1</th>\n",
       "      <td>2016-03-28 17:08:55.794</td>\n",
       "      <td>B0:B4:48:B8:F2:04</td>\n",
       "      <td>Accelerometer(G)</td>\n",
       "      <td>-0.000000</td>\n",
       "      <td>0.000000</td>\n",
       "      <td>-0.000000</td>\n",
       "      <td>Gyroscope(deg/s)</td>\n",
       "      <td>0.000000</td>\n",
       "      <td>0.000000</td>\n",
       "      <td>0.000000</td>\n",
       "      <td>Magnetometer(uT)</td>\n",
       "      <td>0</td>\n",
       "      <td>0</td>\n",
       "      <td>0</td>\n",
       "    </tr>\n",
       "    <tr>\n",
       "      <th>2</th>\n",
       "      <td>2016-03-28 17:08:55.796</td>\n",
       "      <td>B0:B4:48:B8:F2:04</td>\n",
       "      <td>Accelerometer(G)</td>\n",
       "      <td>-0.027100</td>\n",
       "      <td>0.003662</td>\n",
       "      <td>1.135742</td>\n",
       "      <td>Gyroscope(deg/s)</td>\n",
       "      <td>-2.117188</td>\n",
       "      <td>2.046875</td>\n",
       "      <td>0.578125</td>\n",
       "      <td>Magnetometer(uT)</td>\n",
       "      <td>0</td>\n",
       "      <td>0</td>\n",
       "      <td>0</td>\n",
       "    </tr>\n",
       "    <tr>\n",
       "      <th>3</th>\n",
       "      <td>2016-03-28 17:08:55.990</td>\n",
       "      <td>B0:B4:48:B8:F2:04</td>\n",
       "      <td>Accelerometer(G)</td>\n",
       "      <td>-0.029053</td>\n",
       "      <td>0.006836</td>\n",
       "      <td>1.130371</td>\n",
       "      <td>Gyroscope(deg/s)</td>\n",
       "      <td>-2.906250</td>\n",
       "      <td>0.640625</td>\n",
       "      <td>0.312500</td>\n",
       "      <td>Magnetometer(uT)</td>\n",
       "      <td>0</td>\n",
       "      <td>0</td>\n",
       "      <td>0</td>\n",
       "    </tr>\n",
       "    <tr>\n",
       "      <th>4</th>\n",
       "      <td>2016-03-28 17:08:56.184</td>\n",
       "      <td>B0:B4:48:B8:F2:04</td>\n",
       "      <td>Accelerometer(G)</td>\n",
       "      <td>-0.029053</td>\n",
       "      <td>0.008545</td>\n",
       "      <td>1.127930</td>\n",
       "      <td>Gyroscope(deg/s)</td>\n",
       "      <td>-2.734375</td>\n",
       "      <td>0.687500</td>\n",
       "      <td>0.640625</td>\n",
       "      <td>Magnetometer(uT)</td>\n",
       "      <td>0</td>\n",
       "      <td>0</td>\n",
       "      <td>0</td>\n",
       "    </tr>\n",
       "  </tbody>\n",
       "</table>\n",
       "</div>"
      ],
      "text/plain": [
       "                        0                  1                 2         3   \\\n",
       "0  2016-03-28 17:08:55.405  B0:B4:48:B8:F2:04  Accelerometer(G)  0.028809   \n",
       "1  2016-03-28 17:08:55.794  B0:B4:48:B8:F2:04  Accelerometer(G) -0.000000   \n",
       "2  2016-03-28 17:08:55.796  B0:B4:48:B8:F2:04  Accelerometer(G) -0.027100   \n",
       "3  2016-03-28 17:08:55.990  B0:B4:48:B8:F2:04  Accelerometer(G) -0.029053   \n",
       "4  2016-03-28 17:08:56.184  B0:B4:48:B8:F2:04  Accelerometer(G) -0.029053   \n",
       "\n",
       "         4         5                 6         7         8         9   \\\n",
       "0  0.005127  1.129395  Gyroscope(deg/s) -2.687500  0.820312  0.234375   \n",
       "1  0.000000 -0.000000  Gyroscope(deg/s)  0.000000  0.000000  0.000000   \n",
       "2  0.003662  1.135742  Gyroscope(deg/s) -2.117188  2.046875  0.578125   \n",
       "3  0.006836  1.130371  Gyroscope(deg/s) -2.906250  0.640625  0.312500   \n",
       "4  0.008545  1.127930  Gyroscope(deg/s) -2.734375  0.687500  0.640625   \n",
       "\n",
       "                 10  11  12  13  \n",
       "0  Magnetometer(uT)   0   0   0  \n",
       "1  Magnetometer(uT)   0   0   0  \n",
       "2  Magnetometer(uT)   0   0   0  \n",
       "3  Magnetometer(uT)   0   0   0  \n",
       "4  Magnetometer(uT)   0   0   0  "
      ]
     },
     "execution_count": 171,
     "metadata": {},
     "output_type": "execute_result"
    }
   ],
   "source": [
    "mat.head()"
   ]
  },
  {
   "cell_type": "code",
   "execution_count": 172,
   "metadata": {
    "collapsed": false
   },
   "outputs": [
    {
     "data": {
      "text/plain": [
       "[(0.0, 81399), (0.032118181566329146, 2649), (0.030118484172293097, 2589)]"
      ]
     },
     "execution_count": 172,
     "metadata": {},
     "output_type": "execute_result"
    }
   ],
   "source": [
    "c = Counter(np.sqrt(mat[3]**2+mat[4]**2+mat[4]**2))\n",
    "c.most_common(3)"
   ]
  },
  {
   "cell_type": "code",
   "execution_count": 198,
   "metadata": {
    "collapsed": false
   },
   "outputs": [],
   "source": [
    "lengths = []\n",
    "labels = y2\n",
    "i=0\n",
    "while i < len(labels):\n",
    "    y_0 = labels.iloc[i]\n",
    "    l = 1\n",
    "    j=i+1\n",
    "    while j < len(labels) and labels.iloc[j]==y_0 :\n",
    "        l +=1\n",
    "        j+=1\n",
    "    i = j\n",
    "    lengths.append(l)"
   ]
  },
  {
   "cell_type": "code",
   "execution_count": 200,
   "metadata": {
    "collapsed": false
   },
   "outputs": [
    {
     "data": {
      "text/plain": [
       "17612"
      ]
     },
     "execution_count": 200,
     "metadata": {},
     "output_type": "execute_result"
    }
   ],
   "source": [
    "sum(lengths)"
   ]
  },
  {
   "cell_type": "code",
   "execution_count": 186,
   "metadata": {
    "collapsed": false
   },
   "outputs": [
    {
     "data": {
      "text/plain": [
       "Counter({0: 11846, 1: 129, 2: 157, 3: 68, 4: 5376, 6: 36})"
      ]
     },
     "execution_count": 186,
     "metadata": {},
     "output_type": "execute_result"
    }
   ],
   "source": [
    "Counter(y2)"
   ]
  },
  {
   "cell_type": "code",
   "execution_count": 201,
   "metadata": {
    "collapsed": false
   },
   "outputs": [
    {
     "data": {
      "text/plain": [
       "17612"
      ]
     },
     "execution_count": 201,
     "metadata": {},
     "output_type": "execute_result"
    }
   ],
   "source": [
    "len(y2)"
   ]
  },
  {
   "cell_type": "code",
   "execution_count": 38,
   "metadata": {
    "collapsed": false
   },
   "outputs": [
    {
     "ename": "ImportError",
     "evalue": "No module named seqlearn.evaluation",
     "output_type": "error",
     "traceback": [
      "\u001b[1;31m---------------------------------------------------------------------------\u001b[0m",
      "\u001b[1;31mImportError\u001b[0m                               Traceback (most recent call last)",
      "\u001b[1;32m<ipython-input-38-b723738842c0>\u001b[0m in \u001b[0;36m<module>\u001b[1;34m()\u001b[0m\n\u001b[1;32m----> 1\u001b[1;33m \u001b[1;32mfrom\u001b[0m \u001b[0mseqlearn\u001b[0m\u001b[1;33m.\u001b[0m\u001b[0mevaluation\u001b[0m \u001b[1;32mimport\u001b[0m \u001b[0mSequenceKFold\u001b[0m\u001b[1;33m,\u001b[0m \u001b[0mwhole_sequence_accuracy\u001b[0m\u001b[1;33m\u001b[0m\u001b[0m\n\u001b[0m\u001b[0;32m      2\u001b[0m \u001b[0mkfold\u001b[0m \u001b[1;33m=\u001b[0m \u001b[0mSequenceKFold\u001b[0m\u001b[1;33m(\u001b[0m\u001b[0mlengths\u001b[0m\u001b[1;33m,\u001b[0m \u001b[0mn_folds\u001b[0m\u001b[1;33m=\u001b[0m\u001b[1;36m10\u001b[0m\u001b[1;33m,\u001b[0m \u001b[0mn_iter\u001b[0m\u001b[1;33m=\u001b[0m\u001b[1;36m1\u001b[0m\u001b[1;33m)\u001b[0m\u001b[1;33m\u001b[0m\u001b[0m\n",
      "\u001b[1;31mImportError\u001b[0m: No module named seqlearn.evaluation"
     ]
    }
   ],
   "source": [
    "from seqlearn.evaluation import SequenceKFold, whole_sequence_accuracy\n",
    "kfold = SequenceKFold(lengths, n_folds=10, n_iter=1)"
   ]
  },
  {
   "cell_type": "code",
   "execution_count": 214,
   "metadata": {
    "collapsed": false
   },
   "outputs": [],
   "source": [
    "Y = pd.DataFrame(y2).as_matrix()\n",
    "X = X3.as_matrix()"
   ]
  },
  {
   "cell_type": "code",
   "execution_count": 129,
   "metadata": {
    "collapsed": false
   },
   "outputs": [
    {
     "ename": "ImportError",
     "evalue": "No module named seqlearn.hmm",
     "output_type": "error",
     "traceback": [
      "\u001b[1;31m---------------------------------------------------------------------------\u001b[0m",
      "\u001b[1;31mImportError\u001b[0m                               Traceback (most recent call last)",
      "\u001b[1;32m<ipython-input-129-3302b57826d9>\u001b[0m in \u001b[0;36m<module>\u001b[1;34m()\u001b[0m\n\u001b[1;32m----> 1\u001b[1;33m \u001b[1;32mfrom\u001b[0m \u001b[0mseqlearn\u001b[0m\u001b[1;33m.\u001b[0m\u001b[0mhmm\u001b[0m \u001b[1;32mimport\u001b[0m \u001b[0mMultinomialHMM\u001b[0m\u001b[1;33m\u001b[0m\u001b[0m\n\u001b[0m\u001b[0;32m      2\u001b[0m \u001b[0mmultinomial_hmm_scores\u001b[0m \u001b[1;33m=\u001b[0m \u001b[1;33m[\u001b[0m\u001b[1;33m]\u001b[0m\u001b[1;33m\u001b[0m\u001b[0m\n\u001b[0;32m      3\u001b[0m \u001b[1;32mfor\u001b[0m \u001b[0mtrain_index\u001b[0m\u001b[1;33m,\u001b[0m \u001b[0mtrain_lengths\u001b[0m\u001b[1;33m,\u001b[0m \u001b[0mtest_index\u001b[0m\u001b[1;33m,\u001b[0m \u001b[0mtest_lengths\u001b[0m \u001b[1;32min\u001b[0m \u001b[0mkfold\u001b[0m\u001b[1;33m:\u001b[0m\u001b[1;33m\u001b[0m\u001b[0m\n\u001b[0;32m      4\u001b[0m     \u001b[0mX_train\u001b[0m\u001b[1;33m,\u001b[0m \u001b[0mY_train\u001b[0m\u001b[1;33m,\u001b[0m \u001b[0mX_test\u001b[0m\u001b[1;33m,\u001b[0m \u001b[0mY_test\u001b[0m \u001b[1;33m=\u001b[0m \u001b[0mX1_final\u001b[0m\u001b[1;33m[\u001b[0m\u001b[0mtrain_index\u001b[0m\u001b[1;33m]\u001b[0m\u001b[1;33m,\u001b[0m \u001b[0my_1\u001b[0m\u001b[1;33m[\u001b[0m\u001b[0mtrain_index\u001b[0m\u001b[1;33m]\u001b[0m\u001b[1;33m,\u001b[0m \u001b[0mX1_final\u001b[0m\u001b[1;33m[\u001b[0m\u001b[0mtest_index\u001b[0m\u001b[1;33m]\u001b[0m\u001b[1;33m,\u001b[0m \u001b[0my_1\u001b[0m\u001b[1;33m[\u001b[0m\u001b[0mtest_index\u001b[0m\u001b[1;33m]\u001b[0m\u001b[1;33m\u001b[0m\u001b[0m\n\u001b[0;32m      5\u001b[0m \u001b[1;33m\u001b[0m\u001b[0m\n",
      "\u001b[1;31mImportError\u001b[0m: No module named seqlearn.hmm"
     ]
    }
   ],
   "source": [
    "from seqlearn.hmm import MultinomialHMM\n",
    "multinomial_hmm_scores = []\n",
    "for train_index, train_lengths, test_index, test_lengths in kfold:\n",
    "    X_train, Y_train, X_test, Y_test = X1_final[train_index], y_1[train_index], X1_final[test_index], y_1[test_index]\n",
    "    \n",
    "    # Instantiate and Train Multinomial HMM\n",
    "    clf1 = MultinomialHMM()\n",
    "    clf1.fit(X_train,Y_train, train_lengths)\n",
    "\n",
    "    Y_pred1 = clf1.predict(X_test, test_lengths)\n",
    "    \n",
    "    hmm_score = whole_sequence_accuracy(Y_test, Y_pred1, test_lengths)\n",
    "    \n",
    "    multinomial_hmm_scores.append(hmm_score)\n",
    " "
   ]
  },
  {
   "cell_type": "code",
   "execution_count": 218,
   "metadata": {
    "collapsed": false
   },
   "outputs": [
    {
     "data": {
      "text/plain": [
       "[0.4444444444444444,\n",
       " 0.5,\n",
       " 0.5555555555555556,\n",
       " 0.4285714285714286,\n",
       " 0.3571428571428571,\n",
       " 0.4,\n",
       " 0.1428571428571429,\n",
       " 0.4736842105263158,\n",
       " 0.42105263157894735,\n",
       " 0.44999999999999996]"
      ]
     },
     "execution_count": 218,
     "metadata": {},
     "output_type": "execute_result"
    }
   ],
   "source": [
    "multinomial_hmm_scores"
   ]
  },
  {
   "cell_type": "code",
   "execution_count": null,
   "metadata": {
    "collapsed": false
   },
   "outputs": [],
   "source": []
  },
  {
   "cell_type": "code",
   "execution_count": null,
   "metadata": {
    "collapsed": true
   },
   "outputs": [],
   "source": []
  },
  {
   "cell_type": "code",
   "execution_count": null,
   "metadata": {
    "collapsed": true
   },
   "outputs": [],
   "source": []
  },
  {
   "cell_type": "code",
   "execution_count": 39,
   "metadata": {
    "collapsed": true
   },
   "outputs": [],
   "source": [
    "import nltk\n",
    "import numpy as np\n",
    "import pandas as pd\n",
    "from sklearn.preprocessing import Imputer\n"
   ]
  },
  {
   "cell_type": "code",
   "execution_count": 48,
   "metadata": {
    "collapsed": false
   },
   "outputs": [],
   "source": [
    "# preprocess data\n",
    "bar = pd.merge(X,y, on='Time_stamp')"
   ]
  },
  {
   "cell_type": "code",
   "execution_count": 45,
   "metadata": {
    "collapsed": true
   },
   "outputs": [],
   "source": [
    "trainer = nltk.tag.hmm.HiddenMarkovModelTrainer()"
   ]
  },
  {
   "cell_type": "code",
   "execution_count": null,
   "metadata": {
    "collapsed": false
   },
   "outputs": [],
   "source": [
    "trainer.train_supervised()"
   ]
  },
  {
   "cell_type": "code",
   "execution_count": null,
   "metadata": {
    "collapsed": true
   },
   "outputs": [],
   "source": []
  },
  {
   "cell_type": "code",
   "execution_count": null,
   "metadata": {
    "collapsed": true
   },
   "outputs": [],
   "source": []
  },
  {
   "cell_type": "code",
   "execution_count": 130,
   "metadata": {
    "collapsed": true
   },
   "outputs": [],
   "source": [
    "### determine class weights"
   ]
  },
  {
   "cell_type": "code",
   "execution_count": 283,
   "metadata": {
    "collapsed": false
   },
   "outputs": [
    {
     "name": "stdout",
     "output_type": "stream",
     "text": [
      "Counter({0: 8122, 4: 3236, 2: 61, 1: 39, 3: 39, 6: 23})\n"
     ]
    }
   ],
   "source": [
    "foo = Counter(y_1)\n",
    "print foo"
   ]
  },
  {
   "cell_type": "code",
   "execution_count": 284,
   "metadata": {
    "collapsed": false
   },
   "outputs": [
    {
     "name": "stdout",
     "output_type": "stream",
     "text": [
      "0.705034722222\n",
      "0.00338541666667\n",
      "0.00529513888889\n",
      "0.00434027777778\n",
      "0.280902777778\n",
      "0.00199652777778\n"
     ]
    }
   ],
   "source": [
    "print 8122.0/len(y_1)\n",
    "print 39.0/len(y_1)\n",
    "print 61.0/len(y_1)\n",
    "print 50.0/len(y_1)\n",
    "print 3236.0/len(y_1)\n",
    "print 23.0/len(y_1)"
   ]
  },
  {
   "cell_type": "markdown",
   "metadata": {},
   "source": [
    "{'Change': 0,\n",
    " 'Cook': 1,\n",
    " 'Eat': 2,\n",
    " 'Other': 0,\n",
    " 'Rice cooker': 1,\n",
    " 'Shower': 3,\n",
    " 'Sleep': 4,\n",
    " 'TV': 5,\n",
    " 'Toilet': 6}"
   ]
  },
  {
   "cell_type": "code",
   "execution_count": 50,
   "metadata": {
    "collapsed": false
   },
   "outputs": [
    {
     "name": "stdout",
     "output_type": "stream",
     "text": [
      "Cook 0\n",
      "sleep  0\n",
      "eat 0\n",
      "toilet 0\n",
      "shower 0\n"
     ]
    }
   ],
   "source": [
    "cook = 0\n",
    "sleep = 0\n",
    "eat = 0\n",
    "toilet = 0\n",
    "shower = 0\n",
    "\n",
    "bar = np.copy(Y1[33395-18*60:])\n",
    "\n",
    "state = \"other\"\n",
    "\n",
    "for i in xrange(len(bar)):\n",
    "    if ((bar[i] == 1) and (state != \"cook\")):\n",
    "        cook = cook + 1\n",
    "        state = \"cook\"\n",
    "    if ((bar[i] == 2) and (state != \"eat\")):\n",
    "        eat = eat + 1\n",
    "        state = \"eat\"\n",
    "    if ((bar[i] == 3) and (state != \"shower\")):\n",
    "        shower = shower + 1\n",
    "        state = \"shower\"\n",
    "    if ((bar[i] == 4) and (state != \"sleep\")):\n",
    "        sleep = sleep +1\n",
    "        state = \"sleep\"\n",
    "    if ((bar[i] == 6) and (state != \"toilet\")):\n",
    "        toilet = toilet + 1\n",
    "        state = \"toilet\"\n",
    "    if ((bar[i] == 0) and (state != \"other\")):\n",
    "        state = \"other\"\n",
    "print \"Cook\", cook\n",
    "print \"sleep \", sleep\n",
    "print \"eat\",eat\n",
    "print \"toilet\", toilet\n",
    "print \"shower\", shower"
   ]
  },
  {
   "cell_type": "code",
   "execution_count": 281,
   "metadata": {
    "collapsed": false
   },
   "outputs": [
    {
     "name": "stdout",
     "output_type": "stream",
     "text": [
      "Cook 3\n",
      "sleep  7\n",
      "eat 3\n",
      "toilet 23\n",
      "shower 7\n"
     ]
    }
   ],
   "source": [
    "cook = 0\n",
    "sleep = 0\n",
    "eat = 0\n",
    "toilet = 0\n",
    "shower = 0\n",
    "\n",
    "bar = np.copy(y_1)\n",
    "\n",
    "state = \"other\"\n",
    "\n",
    "for i in xrange(len(bar)):\n",
    "    if ((bar[i] == 1) and (state != \"cook\")):\n",
    "        cook = cook + 1\n",
    "        state = \"cook\"\n",
    "    if ((bar[i] == 2) and (state != \"eat\")):\n",
    "        eat = eat + 1\n",
    "        state = \"eat\"\n",
    "    if ((bar[i] == 3) and (state != \"shower\")):\n",
    "        shower = shower + 1\n",
    "        state = \"shower\"\n",
    "    if ((bar[i] == 4) and (state != \"sleep\")):\n",
    "        sleep = sleep +1\n",
    "        state = \"sleep\"\n",
    "    if ((bar[i] == 6) and (state != \"toilet\")):\n",
    "        toilet = toilet + 1\n",
    "        state = \"toilet\"\n",
    "    if ((bar[i] == 0) and (state != \"other\")):\n",
    "        state = \"other\"\n",
    "print \"Cook\", cook\n",
    "print \"sleep \", sleep\n",
    "print \"eat\",eat\n",
    "print \"toilet\", toilet\n",
    "print \"shower\", shower"
   ]
  },
  {
   "cell_type": "code",
   "execution_count": null,
   "metadata": {
    "collapsed": false
   },
   "outputs": [],
   "source": []
  },
  {
   "cell_type": "code",
   "execution_count": null,
   "metadata": {
    "collapsed": true
   },
   "outputs": [],
   "source": [
    "lengths = []\n",
    "labels = y2\n",
    "i=0\n",
    "while i < len(labels):\n",
    "    y_0 = labels.iloc[i]\n",
    "    l = 1\n",
    "    j=i+1\n",
    "    while j < len(labels) and labels.iloc[j]==y_0 :\n",
    "        l +=1\n",
    "        j+=1\n",
    "    i = j\n",
    "    lengths.append(l)"
   ]
  }
 ],
 "metadata": {
  "kernelspec": {
   "display_name": "Python 2",
   "language": "python",
   "name": "python2"
  },
  "language_info": {
   "codemirror_mode": {
    "name": "ipython",
    "version": 2
   },
   "file_extension": ".py",
   "mimetype": "text/x-python",
   "name": "python",
   "nbconvert_exporter": "python",
   "pygments_lexer": "ipython2",
   "version": "2.7.11"
  }
 },
 "nbformat": 4,
 "nbformat_minor": 0
}
